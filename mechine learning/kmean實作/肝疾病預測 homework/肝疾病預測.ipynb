{
 "cells": [
  {
   "cell_type": "markdown",
   "metadata": {},
   "source": [
    "\n",
    "\n",
    "![title](1.png)\n",
    "\n",
    "# 本次目標：預測患者是否為肝臟疾病\n",
    "\n",
    "# 數據包含：\n",
    "患者的年齡\n",
    "\n",
    "患者的性別\n",
    "\n",
    "總膽紅素\n",
    "\n",
    "直接膽紅素\n",
    "\n",
    "鹼性磷酸酶\n",
    "\n",
    "三聚氰胺氨基轉移酶\n",
    "\n",
    "天冬氨酸氨基轉移酶\n",
    "\n",
    "總勳章\n",
    "\n",
    "白蛋白\n",
    "\n",
    "白蛋白和球蛋白比率\n",
    "\n",
    "\n",
    "## 目標欄位：\n",
    "\n",
    "\n",
    "* 數據集Dataset：用於將數據分成兩組（患有肝病或無疾病的患者）的字段\n",
    "\n",
    "* 有肝臟疾病為1 沒有肝臟疾病為2 \n",
    "\n"
   ]
  },
  {
   "cell_type": "markdown",
   "metadata": {},
   "source": [
    "## drop 缺失值"
   ]
  },
  {
   "cell_type": "markdown",
   "metadata": {},
   "source": [
    "## One hot encoding"
   ]
  }
 ],
 "metadata": {
  "kernelspec": {
   "display_name": "Python 3",
   "language": "python",
   "name": "python3"
  },
  "language_info": {
   "codemirror_mode": {
    "name": "ipython",
    "version": 3
   },
   "file_extension": ".py",
   "mimetype": "text/x-python",
   "name": "python",
   "nbconvert_exporter": "python",
   "pygments_lexer": "ipython3",
   "version": "3.6.8"
  }
 },
 "nbformat": 4,
 "nbformat_minor": 2
}
