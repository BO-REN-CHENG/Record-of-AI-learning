{
 "cells": [
  {
   "cell_type": "markdown",
   "metadata": {},
   "source": [
    "# 2/29 PYTHON 練習3 Python 有序列表的基本運算 - List、Tuple\n",
    "* [Python 有序列表的基本運算 - List、Tuple By 彭彭](https://www.youtube.com/watch?v=JLU5oc4_VtA&list=PL-g0fdC5RMboYEyt6QS2iLb_1m7QcgfHk&index=4)"
   ]
  },
  {
   "cell_type": "markdown",
   "metadata": {},
   "source": [
    "# list:有序可變動列表\n",
    "# tuple:有序不可變動列表"
   ]
  },
  {
   "cell_type": "markdown",
   "metadata": {},
   "source": [
    "## list基本操作"
   ]
  },
  {
   "cell_type": "code",
   "execution_count": 1,
   "metadata": {},
   "outputs": [
    {
     "name": "stdout",
     "output_type": "stream",
     "text": [
      "[12, 50, 60, 20, 16, 70]\n",
      "len(grades)= 6\n",
      "60\n",
      "[15, 50, 60, 20, 16, 70]\n",
      "[50, 60, 20]\n"
     ]
    }
   ],
   "source": [
    "grades=[12,50,60,20,16,70]\n",
    "print(grades)\n",
    "print(\"len(grades)=\",len(grades)) #print特殊用法(\"ooo\",xxx)可串接\n",
    "print(grades[2])\n",
    "grades[0]=15\n",
    "print(grades)\n",
    "print(grades[1:4])"
   ]
  },
  {
   "cell_type": "markdown",
   "metadata": {},
   "source": [
    "## list連續刪除"
   ]
  },
  {
   "cell_type": "code",
   "execution_count": 2,
   "metadata": {},
   "outputs": [
    {
     "name": "stdout",
     "output_type": "stream",
     "text": [
      "[12, 50, 60, 20, 16, 70]\n",
      "len(grades)= 6\n",
      "[12, 16, 70]\n",
      "len(grades)= 3\n"
     ]
    }
   ],
   "source": [
    "grades=[12,50,60,20,16,70]\n",
    "print(grades)\n",
    "print(\"len(grades)=\",len(grades))\n",
    "grades[1:4]=[] #含頭不含尾\n",
    "print(grades)\n",
    "print(\"len(grades)=\",len(grades))"
   ]
  },
  {
   "cell_type": "markdown",
   "metadata": {},
   "source": [
    "## list 列表串接"
   ]
  },
  {
   "cell_type": "code",
   "execution_count": 3,
   "metadata": {},
   "outputs": [
    {
     "name": "stdout",
     "output_type": "stream",
     "text": [
      "[12, 50, 60]\n",
      "len(grades)= 3\n",
      "[12, 50, 60, 115, 120]\n",
      "len(grades)= 5\n"
     ]
    }
   ],
   "source": [
    "grades=[12,50,60]\n",
    "print(grades)\n",
    "print(\"len(grades)=\",len(grades))\n",
    "grades=grades+[115,120]\n",
    "print(grades)\n",
    "print(\"len(grades)=\",len(grades))"
   ]
  },
  {
   "cell_type": "markdown",
   "metadata": {},
   "source": [
    "## 巢狀列表"
   ]
  },
  {
   "cell_type": "code",
   "execution_count": 4,
   "metadata": {},
   "outputs": [
    {
     "name": "stdout",
     "output_type": "stream",
     "text": [
      "3\n",
      "5\n",
      "6\n",
      "8\n",
      "[3, 4]\n",
      "[[5, 5, 5, 5], [6, 7, 8]]\n"
     ]
    }
   ],
   "source": [
    "data=[[3,4,5],[6,7,8]]\n",
    "print(data[0][0])\n",
    "print(data[0][2])\n",
    "print(data[1][0])\n",
    "print(data[1][2])\n",
    "print(data[0][0:2])\n",
    "\n",
    "data[0][0:2]=[5,5,5]\n",
    "print(data)"
   ]
  },
  {
   "cell_type": "markdown",
   "metadata": {},
   "source": [
    "## tuple基本操作"
   ]
  },
  {
   "cell_type": "code",
   "execution_count": 5,
   "metadata": {},
   "outputs": [
    {
     "name": "stdout",
     "output_type": "stream",
     "text": [
      "5\n",
      "(3, 4)\n"
     ]
    }
   ],
   "source": [
    "data=(3,4,5)\n",
    "print(data[2])\n",
    "print(data[0:2])"
   ]
  },
  {
   "cell_type": "markdown",
   "metadata": {},
   "source": [
    "## tuple不可更動"
   ]
  },
  {
   "cell_type": "code",
   "execution_count": 6,
   "metadata": {},
   "outputs": [
    {
     "ename": "TypeError",
     "evalue": "'tuple' object does not support item assignment",
     "output_type": "error",
     "traceback": [
      "\u001b[1;31m---------------------------------------------------------------------------\u001b[0m",
      "\u001b[1;31mTypeError\u001b[0m                                 Traceback (most recent call last)",
      "\u001b[1;32m<ipython-input-6-0ad960e60820>\u001b[0m in \u001b[0;36m<module>\u001b[1;34m\u001b[0m\n\u001b[1;32m----> 1\u001b[1;33m \u001b[0mdata\u001b[0m\u001b[1;33m[\u001b[0m\u001b[1;36m0\u001b[0m\u001b[1;33m]\u001b[0m\u001b[1;33m=\u001b[0m\u001b[1;36m100\u001b[0m\u001b[1;33m\u001b[0m\u001b[1;33m\u001b[0m\u001b[0m\n\u001b[0m\u001b[0;32m      2\u001b[0m \u001b[0mprint\u001b[0m\u001b[1;33m(\u001b[0m\u001b[0mdata\u001b[0m\u001b[1;33m)\u001b[0m\u001b[1;33m\u001b[0m\u001b[1;33m\u001b[0m\u001b[0m\n",
      "\u001b[1;31mTypeError\u001b[0m: 'tuple' object does not support item assignment"
     ]
    }
   ],
   "source": [
    "data[0]=100\n",
    "print(data)"
   ]
  }
 ],
 "metadata": {
  "kernelspec": {
   "display_name": "Python 3",
   "language": "python",
   "name": "python3"
  },
  "language_info": {
   "codemirror_mode": {
    "name": "ipython",
    "version": 3
   },
   "file_extension": ".py",
   "mimetype": "text/x-python",
   "name": "python",
   "nbconvert_exporter": "python",
   "pygments_lexer": "ipython3",
   "version": "3.6.7"
  }
 },
 "nbformat": 4,
 "nbformat_minor": 2
}
