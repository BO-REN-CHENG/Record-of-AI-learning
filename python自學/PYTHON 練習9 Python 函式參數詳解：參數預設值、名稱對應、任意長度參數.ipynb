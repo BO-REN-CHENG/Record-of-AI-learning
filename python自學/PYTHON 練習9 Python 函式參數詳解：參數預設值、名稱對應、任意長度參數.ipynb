{
 "cells": [
  {
   "cell_type": "markdown",
   "metadata": {},
   "source": [
    "# 3/1 PYTHON 練習9 Python 函式參數詳解：參數預設值、名稱對應、任意長度參數\n",
    "* [Python 函式參數詳解：參數預設值、名稱對應、任意長度參數 By 彭彭](https://www.youtube.com/watch?v=OOJmhezLd4o&list=PL-g0fdC5RMboYEyt6QS2iLb_1m7QcgfHk&index=10)"
   ]
  },
  {
   "cell_type": "markdown",
   "metadata": {},
   "source": [
    "# 參數的預設資料"
   ]
  },
  {
   "cell_type": "code",
   "execution_count": 21,
   "metadata": {},
   "outputs": [
    {
     "name": "stdout",
     "output_type": "stream",
     "text": [
      "9\n"
     ]
    }
   ],
   "source": [
    "def power(base,exp):\n",
    "    print(base**exp)\n",
    "power(3,2)"
   ]
  },
  {
   "cell_type": "code",
   "execution_count": 22,
   "metadata": {},
   "outputs": [
    {
     "ename": "TypeError",
     "evalue": "power() missing 1 required positional argument: 'exp'",
     "output_type": "error",
     "traceback": [
      "\u001b[1;31m---------------------------------------------------------------------------\u001b[0m",
      "\u001b[1;31mTypeError\u001b[0m                                 Traceback (most recent call last)",
      "\u001b[1;32m<ipython-input-22-2a3df075e84f>\u001b[0m in \u001b[0;36m<module>\u001b[1;34m\u001b[0m\n\u001b[1;32m----> 1\u001b[1;33m \u001b[0mpower\u001b[0m\u001b[1;33m(\u001b[0m\u001b[1;36m4\u001b[0m\u001b[1;33m)\u001b[0m \u001b[1;31m#沒有給第二筆資料會error\u001b[0m\u001b[1;33m\u001b[0m\u001b[1;33m\u001b[0m\u001b[0m\n\u001b[0m",
      "\u001b[1;31mTypeError\u001b[0m: power() missing 1 required positional argument: 'exp'"
     ]
    }
   ],
   "source": [
    "power(4) #沒有給第二筆資料會error"
   ]
  },
  {
   "cell_type": "code",
   "execution_count": 23,
   "metadata": {},
   "outputs": [
    {
     "name": "stdout",
     "output_type": "stream",
     "text": [
      "9\n",
      "1\n"
     ]
    }
   ],
   "source": [
    "def power(base,exp=0):#預設資料:如果沒有給定參數則會用預設資料下去跑\n",
    "    print(base**exp)\n",
    "power(3,2)\n",
    "power(4)"
   ]
  },
  {
   "cell_type": "markdown",
   "metadata": {},
   "source": [
    "# 使用參數的名稱對應\n"
   ]
  },
  {
   "cell_type": "code",
   "execution_count": 24,
   "metadata": {},
   "outputs": [
    {
     "name": "stdout",
     "output_type": "stream",
     "text": [
      "0.5\n",
      "2.0\n"
     ]
    }
   ],
   "source": [
    "def divide(n1,n2):\n",
    "    print(n1/n2)\n",
    "divide(2,4)\n",
    "divide(n2=2,n1=4)"
   ]
  },
  {
   "cell_type": "markdown",
   "metadata": {},
   "source": [
    "# 無限(不定)參數資料\n",
    "* 無限參數以tuple資料形態處理函式內部的程式碼"
   ]
  },
  {
   "cell_type": "code",
   "execution_count": 25,
   "metadata": {},
   "outputs": [
    {
     "name": "stdout",
     "output_type": "stream",
     "text": [
      "(3, 4)\n",
      "(3, 5, 10)\n",
      "(1, 4, -1, -8)\n"
     ]
    }
   ],
   "source": [
    "def pf(*ns):\n",
    "    print(ns)\n",
    "pf(3,4)\n",
    "pf(3,5,10)\n",
    "pf(1,4,-1,-8) #因為為(x,x,x,...)可得,無限參數資料利用tuple儲存"
   ]
  },
  {
   "cell_type": "code",
   "execution_count": 26,
   "metadata": {},
   "outputs": [
    {
     "name": "stdout",
     "output_type": "stream",
     "text": [
      "3.5 \n",
      "\n",
      "6.0 \n",
      "\n",
      "-1.0 \n",
      "\n"
     ]
    }
   ],
   "source": [
    "def avg(*ns):\n",
    "    sum=0\n",
    "    for n in ns:    \n",
    "        sum=sum+n\n",
    "    print(sum/len(ns),\"\\n\")\n",
    "avg(3,4)\n",
    "avg(3,5,10)\n",
    "avg(1,4,-1,-8) "
   ]
  }
 ],
 "metadata": {
  "kernelspec": {
   "display_name": "Python 3",
   "language": "python",
   "name": "python3"
  },
  "language_info": {
   "codemirror_mode": {
    "name": "ipython",
    "version": 3
   },
   "file_extension": ".py",
   "mimetype": "text/x-python",
   "name": "python",
   "nbconvert_exporter": "python",
   "pygments_lexer": "ipython3",
   "version": "3.6.7"
  }
 },
 "nbformat": 4,
 "nbformat_minor": 2
}
