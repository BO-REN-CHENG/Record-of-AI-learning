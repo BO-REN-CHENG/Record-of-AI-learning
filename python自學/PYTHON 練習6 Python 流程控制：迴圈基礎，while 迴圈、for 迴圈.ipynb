{
 "cells": [
  {
   "cell_type": "markdown",
   "metadata": {},
   "source": [
    "# 3/1 PYTHON 練習6 Python 流程控制：迴圈基礎，while 迴圈、for 迴圈\n",
    "* [Python 流程控制：迴圈基礎，while 迴圈、for 迴圈 By 彭彭](https://www.youtube.com/watch?v=szaAeLt_49U&list=PL-g0fdC5RMboYEyt6QS2iLb_1m7QcgfHk&index=7)"
   ]
  },
  {
   "cell_type": "markdown",
   "metadata": {},
   "source": [
    "# while迴圈"
   ]
  },
  {
   "cell_type": "code",
   "execution_count": 1,
   "metadata": {},
   "outputs": [
    {
     "name": "stdout",
     "output_type": "stream",
     "text": [
      "1\n",
      "3\n",
      "6\n",
      "10\n",
      "15\n",
      "21\n",
      "28\n",
      "36\n",
      "45\n",
      "55\n",
      "final sum: 55\n"
     ]
    }
   ],
   "source": [
    "n=1\n",
    "sum=0 #紀錄累加結果\n",
    "while n<=10:\n",
    "    sum=sum+n\n",
    "    n+=1\n",
    "    print(sum)\n",
    "print(\"final sum:\",sum)\n",
    "    "
   ]
  },
  {
   "cell_type": "markdown",
   "metadata": {},
   "source": [
    "# for迴圈"
   ]
  },
  {
   "cell_type": "code",
   "execution_count": 2,
   "metadata": {},
   "outputs": [
    {
     "name": "stdout",
     "output_type": "stream",
     "text": [
      "3\n",
      "5\n",
      "1\n"
     ]
    }
   ],
   "source": [
    "for x in [3,5,1]:\n",
    "    print(x)"
   ]
  },
  {
   "cell_type": "code",
   "execution_count": 3,
   "metadata": {},
   "outputs": [
    {
     "name": "stdout",
     "output_type": "stream",
     "text": [
      "h\n",
      "e\n",
      "l\n",
      "l\n",
      "o\n"
     ]
    }
   ],
   "source": [
    "for x in \"hello\":\n",
    "    print(x)"
   ]
  },
  {
   "cell_type": "code",
   "execution_count": 4,
   "metadata": {},
   "outputs": [
    {
     "name": "stdout",
     "output_type": "stream",
     "text": [
      "0\n",
      "1\n",
      "2\n",
      "3\n",
      "4\n"
     ]
    }
   ],
   "source": [
    "for x in range(5):#(0~5(含頭不含尾))\n",
    "    print(x)"
   ]
  },
  {
   "cell_type": "code",
   "execution_count": 5,
   "metadata": {},
   "outputs": [
    {
     "name": "stdout",
     "output_type": "stream",
     "text": [
      "5\n",
      "6\n",
      "7\n",
      "8\n",
      "9\n"
     ]
    }
   ],
   "source": [
    "for x in range(5,10):#(5~10(含頭不含尾))\n",
    "    print(x)"
   ]
  },
  {
   "cell_type": "code",
   "execution_count": 6,
   "metadata": {},
   "outputs": [
    {
     "name": "stdout",
     "output_type": "stream",
     "text": [
      "x: 1\n",
      "sum: 1\n",
      "x: 2\n",
      "sum: 3\n",
      "x: 3\n",
      "sum: 6\n",
      "x: 4\n",
      "sum: 10\n",
      "x: 5\n",
      "sum: 15\n",
      "x: 6\n",
      "sum: 21\n",
      "x: 7\n",
      "sum: 28\n",
      "x: 8\n",
      "sum: 36\n",
      "x: 9\n",
      "sum: 45\n",
      "x: 10\n",
      "sum: 55\n",
      "final sum: 55\n"
     ]
    }
   ],
   "source": [
    "sum=0\n",
    "for x in range(1,11):\n",
    "    sum=sum+x\n",
    "    print(\"x:\",x)\n",
    "    print(\"sum:\",sum)\n",
    "print(\"final sum:\",sum) "
   ]
  }
 ],
 "metadata": {
  "kernelspec": {
   "display_name": "Python 3",
   "language": "python",
   "name": "python3"
  },
  "language_info": {
   "codemirror_mode": {
    "name": "ipython",
    "version": 3
   },
   "file_extension": ".py",
   "mimetype": "text/x-python",
   "name": "python",
   "nbconvert_exporter": "python",
   "pygments_lexer": "ipython3",
   "version": "3.6.7"
  }
 },
 "nbformat": 4,
 "nbformat_minor": 2
}
