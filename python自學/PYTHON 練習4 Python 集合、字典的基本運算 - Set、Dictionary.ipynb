{
 "cells": [
  {
   "cell_type": "markdown",
   "metadata": {},
   "source": [
    "# 2/29 PYTHON 練習4 Python 集合、字典的基本運算 - Set、Dictionary\n",
    "* [Python 集合、字典的基本運算 - Set、Dictionary By 彭彭](https://www.youtube.com/watch?v=L3-KuGYhw78&list=PL-g0fdC5RMboYEyt6QS2iLb_1m7QcgfHk&index=5)"
   ]
  },
  {
   "cell_type": "markdown",
   "metadata": {},
   "source": [
    "# 集合的運算"
   ]
  },
  {
   "cell_type": "markdown",
   "metadata": {},
   "source": [
    "## 基礎集合的運算"
   ]
  },
  {
   "cell_type": "code",
   "execution_count": 1,
   "metadata": {},
   "outputs": [],
   "source": [
    "s1={3,4,5}\n",
    "print(3 in s1)\n",
    "print(3 not in s1)\n",
    "print(10 in s1)\n",
    "print(10 not in s1)"
   ]
  },
  {
   "cell_type": "markdown",
   "metadata": {},
   "source": [
    "## 集合交集"
   ]
  },
  {
   "cell_type": "code",
   "execution_count": 2,
   "metadata": {},
   "outputs": [],
   "source": [
    "s1={3,4,5}\n",
    "s2={4,5,6,7}\n",
    "s3=s1&s2 #交集\":取兩集合中,相同的資料\n",
    "print(s3)"
   ]
  },
  {
   "cell_type": "markdown",
   "metadata": {},
   "source": [
    "## 集合聯集"
   ]
  },
  {
   "cell_type": "code",
   "execution_count": 3,
   "metadata": {},
   "outputs": [],
   "source": [
    "s1={3,4,5}\n",
    "s2={4,5,6,7}\n",
    "s3=s1|s2 #聯集\":取兩集合中,所有的資料 但不重複\n",
    "print(s3)"
   ]
  },
  {
   "cell_type": "markdown",
   "metadata": {},
   "source": [
    "## 集合差集"
   ]
  },
  {
   "cell_type": "code",
   "execution_count": 4,
   "metadata": {},
   "outputs": [],
   "source": [
    "s1={3,4,5}\n",
    "s2={4,5,6,7}\n",
    "s3=s1-s2 #聯集\":從s1中減去和s2重疊的部分\n",
    "print(s3)"
   ]
  },
  {
   "cell_type": "markdown",
   "metadata": {},
   "source": [
    "## 集合反交集"
   ]
  },
  {
   "cell_type": "code",
   "execution_count": 5,
   "metadata": {},
   "outputs": [
    {
     "name": "stdout",
     "output_type": "stream",
     "text": [
      "{3, 6, 7}\n"
     ]
    }
   ],
   "source": [
    "s1={3,4,5}\n",
    "s2={4,5,6,7}\n",
    "s3=s1^s2 #反交集\":取兩集合中,不重疊的部分\n",
    "print(s3)"
   ]
  },
  {
   "cell_type": "markdown",
   "metadata": {},
   "source": [
    "## set(字串)\n",
    "* 把字串的字母拆解成集合"
   ]
  },
  {
   "cell_type": "code",
   "execution_count": 6,
   "metadata": {},
   "outputs": [
    {
     "name": "stdout",
     "output_type": "stream",
     "text": [
      "{'o', 'H', 'e', 'l'}\n",
      "True\n",
      "False\n"
     ]
    }
   ],
   "source": [
    "s=set(\"Hello\")\n",
    "print(s)\n",
    "print(\"H\"in s)\n",
    "print(\"a\"in s)"
   ]
  },
  {
   "cell_type": "markdown",
   "metadata": {},
   "source": [
    "# 字典的運算"
   ]
  },
  {
   "cell_type": "markdown",
   "metadata": {},
   "source": [
    "## 字典的運算:key-value 配對"
   ]
  },
  {
   "cell_type": "code",
   "execution_count": 7,
   "metadata": {},
   "outputs": [
    {
     "name": "stdout",
     "output_type": "stream",
     "text": [
      "蘋果\n",
      "小蘋果\n",
      "True\n",
      "False\n",
      "True\n"
     ]
    }
   ],
   "source": [
    "dic={\"apple\":\"蘋果\",\"bug\":\"蟲蟲\"}\n",
    "print(dic[\"apple\"])\n",
    "dic[\"apple\"]=\"小蘋果\"\n",
    "print(dic[\"apple\"])\n",
    "print(\"apple\" in dic)\n",
    "print(\"test\" in dic)\n",
    "print(\"test\" not in dic)"
   ]
  },
  {
   "cell_type": "markdown",
   "metadata": {},
   "source": [
    "## 字典刪除key"
   ]
  },
  {
   "cell_type": "code",
   "execution_count": 8,
   "metadata": {},
   "outputs": [
    {
     "name": "stdout",
     "output_type": "stream",
     "text": [
      "{'apple': '蘋果', 'bug': '蟲蟲'}\n",
      "{'bug': '蟲蟲'}\n"
     ]
    }
   ],
   "source": [
    "dic={\"apple\":\"蘋果\",\"bug\":\"蟲蟲\"}\n",
    "print(dic)\n",
    "del dic[\"apple\"]\n",
    "print(dic)"
   ]
  },
  {
   "cell_type": "markdown",
   "metadata": {},
   "source": [
    "## 從列表的資料產生字典\n",
    "## dic={x:x*2 for x in list}"
   ]
  },
  {
   "cell_type": "code",
   "execution_count": 9,
   "metadata": {},
   "outputs": [
    {
     "name": "stdout",
     "output_type": "stream",
     "text": [
      "{3: 6, 4: 8, 5: 10}\n"
     ]
    }
   ],
   "source": [
    "dic={x:x*2 for x in [3,4,5]}\n",
    "print(dic)"
   ]
  }
 ],
 "metadata": {
  "kernelspec": {
   "display_name": "Python 3",
   "language": "python",
   "name": "python3"
  },
  "language_info": {
   "codemirror_mode": {
    "name": "ipython",
    "version": 3
   },
   "file_extension": ".py",
   "mimetype": "text/x-python",
   "name": "python",
   "nbconvert_exporter": "python",
   "pygments_lexer": "ipython3",
   "version": "3.7.6"
  }
 },
 "nbformat": 4,
 "nbformat_minor": 2
}
