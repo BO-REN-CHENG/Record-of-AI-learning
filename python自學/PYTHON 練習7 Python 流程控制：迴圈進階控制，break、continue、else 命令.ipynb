{
 "cells": [
  {
   "cell_type": "markdown",
   "metadata": {},
   "source": [
    "# 3/1 PYTHON 練習7 Python 流程控制：迴圈進階控制，break、continue、else 命令\n",
    "* [Python 流程控制：迴圈進階控制，break、continue、else 命令 By 彭彭](https://www.youtube.com/watch?v=yBXlwOmLqZ4&list=PL-g0fdC5RMboYEyt6QS2iLb_1m7QcgfHk&index=8)"
   ]
  },
  {
   "cell_type": "markdown",
   "metadata": {},
   "source": [
    "# ctrl+/ 可以選住部分全部註解"
   ]
  },
  {
   "cell_type": "markdown",
   "metadata": {},
   "source": [
    "## break 簡易範例"
   ]
  },
  {
   "cell_type": "code",
   "execution_count": 20,
   "metadata": {},
   "outputs": [
    {
     "name": "stdout",
     "output_type": "stream",
     "text": [
      "0\n",
      "1\n",
      "2\n",
      "最後的n: 3\n"
     ]
    }
   ],
   "source": [
    "n=0\n",
    "while n<5:\n",
    "    if n==3:\n",
    "        break\n",
    "    print(n)#印出while迴圈中的n\n",
    "    n+=1\n",
    "print(\"最後的n:\",n)#印出迴圈結束後的n"
   ]
  },
  {
   "cell_type": "code",
   "execution_count": 21,
   "metadata": {},
   "outputs": [
    {
     "name": "stdout",
     "output_type": "stream",
     "text": [
      "0\n",
      "1\n",
      "2\n",
      "3\n",
      "4\n",
      "0\n",
      "1\n",
      "2\n",
      "最後的m: 5\n",
      "最後的n: 3\n",
      "可得結論 break只會跳出一層迴圈\n"
     ]
    }
   ],
   "source": [
    "n=0\n",
    "m=0\n",
    "while n<5:\n",
    "    while m<10:\n",
    "        if m==5:\n",
    "            break\n",
    "        print(m)\n",
    "        m+=1\n",
    "    if n==3:\n",
    "        break\n",
    "    print(n)#印出while迴圈中的n\n",
    "    n+=1\n",
    "print(\"最後的m:\",m)\n",
    "print(\"最後的n:\",n)#印出迴圈結束後的n\n",
    "print(\"可得結論 break只會跳出一層迴圈\")"
   ]
  },
  {
   "cell_type": "markdown",
   "metadata": {},
   "source": [
    "## continue 簡易範例"
   ]
  },
  {
   "cell_type": "code",
   "execution_count": 22,
   "metadata": {},
   "outputs": [
    {
     "name": "stdout",
     "output_type": "stream",
     "text": [
      "1\n",
      "3\n",
      "最後的n : 2\n"
     ]
    }
   ],
   "source": [
    "n=0\n",
    "for x in[0,1,2,3]:\n",
    "    if x%2==0:#x是偶數\n",
    "        continue\n",
    "    print(x)\n",
    "    n+=1\n",
    "print(\"最後的n :\",n) "
   ]
  },
  {
   "cell_type": "markdown",
   "metadata": {},
   "source": [
    "## else的簡易範例"
   ]
  },
  {
   "cell_type": "code",
   "execution_count": 23,
   "metadata": {},
   "outputs": [
    {
     "name": "stdout",
     "output_type": "stream",
     "text": [
      "55\n"
     ]
    }
   ],
   "source": [
    "sum=0\n",
    "for n in range(11):\n",
    "    sum+=n\n",
    "else:\n",
    "    print(sum)#印出1+2+....+10\n",
    "    "
   ]
  },
  {
   "cell_type": "markdown",
   "metadata": {},
   "source": [
    "## 綜合範例:找出平方根\n",
    "* 輸入9得到3\n",
    "* 輸入11,得到[沒有]整數平方根"
   ]
  },
  {
   "cell_type": "code",
   "execution_count": 24,
   "metadata": {},
   "outputs": [
    {
     "name": "stdout",
     "output_type": "stream",
     "text": [
      "輸入一個正整數: 25\n",
      "整數平方根 5\n"
     ]
    }
   ],
   "source": [
    "n=input(\"輸入一個正整數: \")\n",
    "n=int(n)\n",
    "for i in range(n):# i從0~n-1\n",
    "    if i*i==n:\n",
    "        print(\"整數平方根\",i)\n",
    "        break                #用break強制結束迴圈時,不會執行else區塊!!!!!!!!!!!!!!!!\n",
    "else:\n",
    "    print(\"沒有整數平方根\")\n",
    "        "
   ]
  },
  {
   "cell_type": "code",
   "execution_count": 25,
   "metadata": {},
   "outputs": [
    {
     "name": "stdout",
     "output_type": "stream",
     "text": [
      "輸入一個正整數: 12\n",
      "沒有整數平方根\n"
     ]
    }
   ],
   "source": [
    "n=input(\"輸入一個正整數: \")\n",
    "n=int(n)\n",
    "for i in range(n):# i從0~n-1\n",
    "    if i*i==n:\n",
    "        print(\"整數平方根\",i)\n",
    "        break                #用break強制結束迴圈時,不會執行else區塊!!!!!!!!!!!!!!!!\n",
    "else:\n",
    "    print(\"沒有整數平方根\")\n",
    "        "
   ]
  }
 ],
 "metadata": {
  "kernelspec": {
   "display_name": "Python 3",
   "language": "python",
   "name": "python3"
  },
  "language_info": {
   "codemirror_mode": {
    "name": "ipython",
    "version": 3
   },
   "file_extension": ".py",
   "mimetype": "text/x-python",
   "name": "python",
   "nbconvert_exporter": "python",
   "pygments_lexer": "ipython3",
   "version": "3.6.7"
  }
 },
 "nbformat": 4,
 "nbformat_minor": 2
}
