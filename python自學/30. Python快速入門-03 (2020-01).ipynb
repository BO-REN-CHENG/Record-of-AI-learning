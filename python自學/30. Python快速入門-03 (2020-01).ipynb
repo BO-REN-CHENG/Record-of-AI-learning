{
 "cells": [
  {
   "cell_type": "markdown",
   "metadata": {
    "colab_type": "text",
    "id": "PmKCLL_s7-nC"
   },
   "source": [
    "# Python 快速入門 - 03\n",
    "By 蓉爸 <br>\n",
    "Revised: 2020-03-08 <br>\n",
    "©2020 蓉爸, AI4kids 愛奇智慧科技股份有限公司"
   ]
  },
  {
   "cell_type": "markdown",
   "metadata": {
    "colab_type": "text",
    "id": "2b833hT09gZQ"
   },
   "source": [
    "## 本次課程重點\n",
    "* 1. 變數的 Scope (有效範圍)\n",
    "* 2. 認識 Tuples\n",
    "* 3. 認識 List (陣列 Arrays)\n",
    "* 4. list 的拷貝 copy(), list(), 連結 join(), extend()\n",
    "* 5. 認識 Sets\n",
    "* 6. 認識 Dictionary\n",
    "* 7. join() 函數與 str, tuple, list, dictionary, set\n",
    "\n",
    "P.S：tuple, list, set, dictionary 統稱「群集型態」(Collections)，在網路爬蟲(Web Clawer)、大數據(Big Data)與資料科學(Data Science)上，運用甚廣。"
   ]
  },
  {
   "cell_type": "markdown",
   "metadata": {
    "colab_type": "text",
    "id": "whi6w58FbwAJ"
   },
   "source": [
    "## 1. 變數的 Scope (有效範圍)\n",
    "* 1. 全域變數 global\n",
    "* 2. 區域變數 local"
   ]
  },
  {
   "cell_type": "code",
   "execution_count": 0,
   "metadata": {
    "colab": {
     "base_uri": "https://localhost:8080/",
     "height": 34
    },
    "colab_type": "code",
    "executionInfo": {
     "elapsed": 1124,
     "status": "ok",
     "timestamp": 1580090958554,
     "user": {
      "displayName": "Robert Lee",
      "photoUrl": "https://lh3.googleusercontent.com/a-/AAuE7mDYy8nQN1KHUAZANFLKIh5k5kMhXgI4inBOx7GTQA=s64",
      "userId": "08777393997037956511"
     },
     "user_tz": -480
    },
    "id": "5QeBy8oCG228",
    "outputId": "dda725b0-a957-48ec-ff96-615de4a23549"
   },
   "outputs": [
    {
     "name": "stdout",
     "output_type": "stream",
     "text": [
      "300\n"
     ]
    }
   ],
   "source": [
    "# --------------------------------------------\n",
    "# Local Scope\n",
    "def myfunc():\n",
    "    x= 300         # <---- 區域變數 local\n",
    "    print(x)\n",
    "\n",
    "myfunc() "
   ]
  },
  {
   "cell_type": "code",
   "execution_count": 0,
   "metadata": {
    "colab": {
     "base_uri": "https://localhost:8080/",
     "height": 50
    },
    "colab_type": "code",
    "executionInfo": {
     "elapsed": 669,
     "status": "ok",
     "timestamp": 1583495095265,
     "user": {
      "displayName": "Robert Lee",
      "photoUrl": "https://lh3.googleusercontent.com/a-/AOh14GgQ76bJXuu_ieEnXLObaMuLg6OYcRtYu9Az6MPVYQ=s64",
      "userId": "08777393997037956511"
     },
     "user_tz": -480
    },
    "id": "ix0jHaA73M57",
    "outputId": "98c50ff0-0aee-42c9-eb74-bae218fabdf9"
   },
   "outputs": [
    {
     "name": "stdout",
     "output_type": "stream",
     "text": [
      "200\n",
      "300\n"
     ]
    }
   ],
   "source": [
    "# --------------------------------------------\n",
    "# Global Scope\n",
    "x = 300           # <---- 全域變數 global\n",
    "\n",
    "def myfunc():\n",
    "    x=200           # <---- 區域變數 local\n",
    "    print(x)\n",
    "\n",
    "myfunc()\n",
    "\n",
    "print(x) "
   ]
  },
  {
   "cell_type": "markdown",
   "metadata": {
    "colab_type": "text",
    "id": "ysNGVmnFw3pe"
   },
   "source": [
    "### Ex 1-1. 請問下面這個程式碼中的 x 是屬於 Global 還是 Local 變數？\n",
    "```\n",
    "# Function Inside Function\n",
    "def myfunc():\n",
    "  x = 300\n",
    "  def myinnerfunc():\n",
    "    print(x)\n",
    "  myinnerfunc()\n",
    "\n",
    "myfunc() \n",
    "```"
   ]
  },
  {
   "cell_type": "markdown",
   "metadata": {
    "colab_type": "text",
    "id": "EvaEnSLnx-mg"
   },
   "source": [
    "### Ex 1-2. 請問下面這個程式碼中，第 1 行與第 4 行的 x ，請想辦法「證明」他們是不一樣的變數！\n",
    "提示：任何方法都可以，甚至改寫程式都可。\n",
    "```\n",
    "x = 300\n",
    "\n",
    "def myfunc():\n",
    "  x = 200\n",
    "  print(x)\n",
    "\n",
    "myfunc()\n",
    "\n",
    "print(x) \n",
    "```"
   ]
  },
  {
   "cell_type": "markdown",
   "metadata": {
    "colab_type": "text",
    "id": "mH9lyTUmz7m6"
   },
   "source": [
    "### Ex 1-3. 執行下面這個程式碼，與你預期的一樣嗎？猜猜 myfunc() 函數中 global 的作用是？\n",
    "```\n",
    "x = 300\n",
    "\n",
    "def myfunc():\n",
    "  global x\n",
    "  x = 200\n",
    "\n",
    "myfunc()\n",
    "\n",
    "print(x) \n",
    "```"
   ]
  },
  {
   "cell_type": "code",
   "execution_count": 0,
   "metadata": {
    "colab": {},
    "colab_type": "code",
    "id": "T_HyDONXwtaa"
   },
   "outputs": [],
   "source": [
    "# 在這寫下你的程式碼，並執行看看！"
   ]
  },
  {
   "cell_type": "markdown",
   "metadata": {
    "colab_type": "text",
    "id": "AKhcBqzw_rZq"
   },
   "source": [
    "## 2. 認識 Tuples\n",
    "* **1. 一般使用 小括號() 來表示。**\n",
    "* **2. 與 list 最大的不同在於 tuple 是「唯獨且不可更變動」的資料結構**\n",
    "* **3. 由於 tuple 的不可變動性，它只能被刪除，其他變更、插入、增加等等變動性功能，都無法使用。**"
   ]
  },
  {
   "cell_type": "code",
   "execution_count": 0,
   "metadata": {
    "colab": {},
    "colab_type": "code",
    "id": "r509Yw4vDvnW"
   },
   "outputs": [],
   "source": [
    "# ------------------------------------------\n",
    "# 建立一個 tuple 範例 1\n",
    "tuple1 = \"dog\", \"elephant\", \"fox\"       # 不使用小括號\n",
    "print(tuple1)\n",
    "\n",
    "tuple2 = (\"apple\", \"banana\", \"cherry\")  # 使用小括號\n",
    "print(tuple2)"
   ]
  },
  {
   "cell_type": "code",
   "execution_count": 0,
   "metadata": {
    "colab": {},
    "colab_type": "code",
    "id": "wihJ_mJ-dXDe"
   },
   "outputs": [],
   "source": [
    "# ------------------------------------------\n",
    "# 建立一個 tuple 範例 2: 使用 tuple() 函數\n",
    "thistuple = tuple((\"apple\", \"banana\", \"cherry\")) # note the double round-brackets\n",
    "print(thistuple)"
   ]
  },
  {
   "cell_type": "code",
   "execution_count": 0,
   "metadata": {
    "colab": {},
    "colab_type": "code",
    "id": "fXm3wXEbdhzC"
   },
   "outputs": [],
   "source": [
    "# ------------------------------------------\n",
    "# tuple 項目是透過 index 來取得內容\n",
    "thistuple = (\"apple\", \"banana\", \"cherry\")\n",
    "print(thistuple[1])"
   ]
  },
  {
   "cell_type": "code",
   "execution_count": 0,
   "metadata": {
    "colab": {},
    "colab_type": "code",
    "id": "vmzoGDy1c8J4"
   },
   "outputs": [],
   "source": [
    "# ------------------------------------------\n",
    "# index 指定範圍方式，與 list 完全相同。\n",
    "# index 為正數時，從頭算。為負數時，就是從尾巴算回來。\n",
    "thistuple = (\"apple\", \"banana\", \"cherry\")\n",
    "print(thistuple[-1])\n",
    "\n",
    "# 正值 index 指定範圍取值\n",
    "thistuple = (\"apple\", \"banana\", \"cherry\", \"orange\", \"kiwi\", \"melon\", \"mango\")\n",
    "print(thistuple[2:5])\n",
    "\n",
    "# 負值 index 指定範圍取值\n",
    "thistuple = (\"apple\", \"banana\", \"cherry\", \"orange\", \"kiwi\", \"melon\", \"mango\")\n",
    "print(thistuple[-4:-1])"
   ]
  },
  {
   "cell_type": "code",
   "execution_count": 0,
   "metadata": {
    "colab": {},
    "colab_type": "code",
    "id": "gBGsdokPKYC2"
   },
   "outputs": [],
   "source": [
    "# ------------------------------------------\n",
    "# Loop Through a Tuple\n",
    "thistuple = (\"apple\", \"banana\", \"cherry\")\n",
    "for x in thistuple:\n",
    "  print(x) "
   ]
  },
  {
   "cell_type": "code",
   "execution_count": 0,
   "metadata": {
    "colab": {},
    "colab_type": "code",
    "id": "hKTREmwfzpIl"
   },
   "outputs": [],
   "source": [
    "# ------------------------------------------\n",
    "# 將 for loop 改用 function 來寫\n",
    "def my_function(food):\n",
    "  for x in food:\n",
    "    print(x)\n",
    "\n",
    "fruits = (\"apple\", \"banana\", \"cherry\")\n",
    "\n",
    "my_function(fruits)"
   ]
  },
  {
   "cell_type": "markdown",
   "metadata": {
    "colab_type": "text",
    "id": "kVcXzce6sfYD"
   },
   "source": [
    "### Ex 2-1. 依照上例，寫出兩個函數，各負責印出歌星與電影\n",
    "```\n",
    "singers = (\"周傑倫\",\"Lady GAGA\", \"帕華洛帝 Pavarotti\", \"John Denver\")\n",
    "movies = (\"Top Gun\", \"不可能的任務\", \"星際迷航 Star Trek\", \"冰雪奇緣\")\n",
    "```"
   ]
  },
  {
   "cell_type": "code",
   "execution_count": 0,
   "metadata": {
    "colab": {},
    "colab_type": "code",
    "id": "lKv4ZgHRs1MI"
   },
   "outputs": [],
   "source": [
    "# 在這寫下你的程式碼，並執行看看！"
   ]
  },
  {
   "cell_type": "markdown",
   "metadata": {
    "colab_type": "text",
    "id": "P1eH3Ccys8eY"
   },
   "source": [
    "### -------------------------------------------------------"
   ]
  },
  {
   "cell_type": "code",
   "execution_count": 0,
   "metadata": {
    "colab": {},
    "colab_type": "code",
    "id": "pdMT5av8JdhG"
   },
   "outputs": [],
   "source": [
    "# ------------------------------------------\n",
    "# 由於 tuple 是無法改變的，若想要改變其項目，必須先將 tuple 轉成 list，改變後，再轉回 tuple。\n",
    "# 把 tuple 的第 2 個項目變更的範例\n",
    "x = (\"apple\", \"banana\", \"cherry\")\n",
    "y = list(x)\n",
    "y[1] = \"kiwi\"\n",
    "x = tuple(y)\n",
    "\n",
    "print(x) "
   ]
  },
  {
   "cell_type": "code",
   "execution_count": 0,
   "metadata": {
    "colab": {},
    "colab_type": "code",
    "id": "57Fx_fhHKj0A"
   },
   "outputs": [],
   "source": [
    "# ------------------------------------------\n",
    "# 檢查某項目是否存在 tuple 中\n",
    "thistuple = (\"apple\", \"banana\", \"cherry\")\n",
    "if \"apple\" in thistuple:\n",
    "  print(\"Yes, 'apple' is in the fruits tuple\") "
   ]
  },
  {
   "cell_type": "code",
   "execution_count": 0,
   "metadata": {
    "colab": {},
    "colab_type": "code",
    "id": "SZgRj4X5Kxex"
   },
   "outputs": [],
   "source": [
    "# ------------------------------------------\n",
    "# 利用 len() 查看 tuple 長度\n",
    "thistuple = (\"apple\", \"banana\", \"cherry\")\n",
    "print(len(thistuple)) "
   ]
  },
  {
   "cell_type": "code",
   "execution_count": 0,
   "metadata": {
    "colab": {},
    "colab_type": "code",
    "id": "jW-1Db87LZu7"
   },
   "outputs": [],
   "source": [
    "# ------------------------------------------\n",
    "# 利用 del() 刪除一個 tuple \n",
    "thistuple = (\"apple\", \"banana\", \"cherry\")\n",
    "del thistuple\n",
    "print(thistuple) #this will raise an error because the tuple no longer exists "
   ]
  },
  {
   "cell_type": "markdown",
   "metadata": {
    "colab_type": "text",
    "id": "nHDHMvNAeR0x"
   },
   "source": [
    "### Ex 2-2 執行以下程式，看是什麼意思？\n",
    "```\n",
    "t1 = \"a\", \"b\", \"c\"\n",
    "t2 = 1, 2, 3\n",
    "\n",
    "t3 = t1 + t2\n",
    "print(t3)\n",
    "print(type(t3))\n",
    "```"
   ]
  },
  {
   "cell_type": "code",
   "execution_count": 0,
   "metadata": {
    "colab": {},
    "colab_type": "code",
    "id": "oe1GnYQefW5O"
   },
   "outputs": [],
   "source": [
    "# 在這寫下你的程式碼，並執行看看！"
   ]
  },
  {
   "cell_type": "markdown",
   "metadata": {
    "colab_type": "text",
    "id": "G7Y5pIk3Z543"
   },
   "source": [
    "### Ex 2-3 執行以下程式，並想看看是什麼意思？\n",
    "```\n",
    "x = 10, 20, 30, 10, 10, 30\n",
    "print(type(x))\n",
    "print(x.count(10))\n",
    "print(x.index(30))\n",
    "len(x)\n",
    "```"
   ]
  },
  {
   "cell_type": "code",
   "execution_count": 0,
   "metadata": {
    "colab": {},
    "colab_type": "code",
    "id": "pNdYkh5BeTcW"
   },
   "outputs": [],
   "source": [
    "# 在這寫下你的程式碼，並執行看看！"
   ]
  },
  {
   "cell_type": "markdown",
   "metadata": {
    "colab_type": "text",
    "id": "nU3BSlZJ_nJZ"
   },
   "source": [
    "## 3. 認識 List (陣列 Arrays)\n",
    "* **1. 使用中括號 [ ] 來表示。**\n",
    "* **2. 可以隨時「增加」、「減少」其內部資料的個數，也可以「修改」資料的內容。**\n",
    "* **3. index 正著數，是從 0 開始。而倒著數(從尾巴往前算)，則是從 -1 開始。兩者別混著用。**"
   ]
  },
  {
   "cell_type": "code",
   "execution_count": 0,
   "metadata": {
    "colab": {},
    "colab_type": "code",
    "id": "BOzkMz0Ngiqc"
   },
   "outputs": [],
   "source": [
    "# ------------------------------------------\n",
    "# 建立一個 list 範例 1 \n",
    "thislist = [\"apple\", \"banana\", \"cherry\"]\n",
    "print(thislist)"
   ]
  },
  {
   "cell_type": "code",
   "execution_count": 0,
   "metadata": {
    "colab": {},
    "colab_type": "code",
    "id": "XPo1S4-TgouU"
   },
   "outputs": [],
   "source": [
    "# ------------------------------------------\n",
    "# 建立一個 list 範例 2: 利用 list() 函數來產生一個 list \n",
    "thislist = list((\"apple\", \"banana\", \"cherry\")) # 注意：是使用雙層的小括號\n",
    "print(thislist)"
   ]
  },
  {
   "cell_type": "code",
   "execution_count": 0,
   "metadata": {
    "colab": {},
    "colab_type": "code",
    "id": "AkcyKxm2vs7d"
   },
   "outputs": [],
   "source": [
    "# ------------------------------------------\n",
    "# list 與 for loop 結合使用\n",
    "thislist = [\"apple\", \"banana\", \"cherry\"]\n",
    "for x in thislist:\n",
    "    print(x) "
   ]
  },
  {
   "cell_type": "code",
   "execution_count": 0,
   "metadata": {
    "colab": {},
    "colab_type": "code",
    "id": "XOn8Cj9DzLD2"
   },
   "outputs": [],
   "source": [
    "# ------------------------------------------\n",
    "# list 與 自訂函數 結合使用\n",
    "def my_function(food):\n",
    "    for x in food:\n",
    "    print(x)\n",
    "\n",
    "fruits = [\"apple\", \"banana\", \"cherry\"]\n",
    "\n",
    "my_function(fruits)"
   ]
  },
  {
   "cell_type": "code",
   "execution_count": 13,
   "metadata": {
    "colab": {},
    "colab_type": "code",
    "id": "yirGYwYbwEw8"
   },
   "outputs": [
    {
     "name": "stdout",
     "output_type": "stream",
     "text": [
      "Yes, 'apple' is in the fruits list\n",
      "cherry\n"
     ]
    }
   ],
   "source": [
    "# ------------------------------------------\n",
    "# 檢查某個項目是否存在 list 中 (重點觀念：程式碼不需要使用到迴圈，就能作到檢查的目的！)\n",
    "thislist = [\"apple\", \"banana\", \"cherry\"]\n",
    "if \"apple\" in thislist:\n",
    "    print(\"Yes, 'apple' is in the fruits list\") \n"
   ]
  },
  {
   "cell_type": "code",
   "execution_count": 14,
   "metadata": {},
   "outputs": [
    {
     "name": "stdout",
     "output_type": "stream",
     "text": [
      "cherry\n",
      "banana\n"
     ]
    }
   ],
   "source": [
    "thislist = [\"apple\", \"banana\", \"cherry\"]\n",
    "list_pop=thislist.pop()\n",
    "print(list_pop)\n",
    "thislist = [\"apple\", \"banana\", \"cherry\"]\n",
    "list_pop=thislist.pop(1)\n",
    "print(list_pop)"
   ]
  },
  {
   "cell_type": "markdown",
   "metadata": {
    "colab_type": "text",
    "id": "3utsjKfqGkW9"
   },
   "source": [
    "### Ex 3-1. 試建一個蘋果、橘子、奇異果、葡萄的 list。 "
   ]
  },
  {
   "cell_type": "code",
   "execution_count": 0,
   "metadata": {
    "colab": {},
    "colab_type": "code",
    "id": "1y7M2qOyhZoV"
   },
   "outputs": [],
   "source": [
    "# 在這寫下你的程式碼，並執行看看！"
   ]
  },
  {
   "cell_type": "markdown",
   "metadata": {
    "colab_type": "text",
    "id": "yMYcj8LFHgY5"
   },
   "source": [
    "### Ex 3-2. 將蘋果、橘子、奇異果、葡萄的 list 內容印出來。 "
   ]
  },
  {
   "cell_type": "code",
   "execution_count": 0,
   "metadata": {
    "colab": {},
    "colab_type": "code",
    "id": "Dvm-51-OiS-b"
   },
   "outputs": [],
   "source": [
    "# 在這寫下你的程式碼，並執行看看！"
   ]
  },
  {
   "cell_type": "markdown",
   "metadata": {
    "colab_type": "text",
    "id": "FdJIjQzhHr7N"
   },
   "source": [
    "### Ex 3-3. 蘋果、橘子、奇異果、葡萄的 list 中，檢查葡萄是否在這個 list 中。 "
   ]
  },
  {
   "cell_type": "code",
   "execution_count": 0,
   "metadata": {
    "colab": {},
    "colab_type": "code",
    "id": "EuLMyCKMiex9"
   },
   "outputs": [],
   "source": [
    "# 在這寫下你的程式碼，並執行看看！"
   ]
  },
  {
   "cell_type": "markdown",
   "metadata": {
    "colab_type": "text",
    "id": "1JR8m2xniXZc"
   },
   "source": [
    "### ===以下 list 的 index 操作方式在「資料科學」中，經常使用到 ==="
   ]
  },
  {
   "cell_type": "code",
   "execution_count": 0,
   "metadata": {
    "colab": {},
    "colab_type": "code",
    "id": "bwctwrK7g2NF"
   },
   "outputs": [],
   "source": [
    "# ------------------------------------------\n",
    "# 印出第 2 個項目的內容(正著數, index=1 之項目)\n",
    "thislist = [\"apple\", \"banana\", \"cherry\"]\n",
    "print(thislist[1])"
   ]
  },
  {
   "cell_type": "code",
   "execution_count": 0,
   "metadata": {
    "colab": {},
    "colab_type": "code",
    "id": "d9vjLNcig42a"
   },
   "outputs": [],
   "source": [
    "# 印出最後一個項目(倒著數, index=-1 之項目)\n",
    "thislist = [\"apple\", \"banana\", \"cherry\"]\n",
    "print(thislist[-1])"
   ]
  },
  {
   "cell_type": "code",
   "execution_count": 0,
   "metadata": {
    "colab": {},
    "colab_type": "code",
    "id": "AvszD69cg-y-"
   },
   "outputs": [],
   "source": [
    "# 印出某個區間。範例：印出 index=2,3,4 之項目(亦即第 3 ～ 5 個項目)\n",
    "thislist = [\"apple\", \"banana\", \"cherry\", \"orange\", \"kiwi\", \"melon\", \"mango\"]\n",
    "print(thislist[2:5])"
   ]
  },
  {
   "cell_type": "code",
   "execution_count": 0,
   "metadata": {
    "colab": {},
    "colab_type": "code",
    "id": "WkAyUeaJhA9v"
   },
   "outputs": [],
   "source": [
    "# 從頭開始，到 index = 4 (不含 4)\n",
    "thislist = [\"apple\", \"banana\", \"cherry\", \"orange\", \"kiwi\", \"melon\", \"mango\"]\n",
    "print(thislist[:4])"
   ]
  },
  {
   "cell_type": "code",
   "execution_count": 0,
   "metadata": {
    "colab": {},
    "colab_type": "code",
    "id": "QDSnWUFDhEnP"
   },
   "outputs": [],
   "source": [
    "# 從 index = 2 開始，到結束\n",
    "thislist = [\"apple\", \"banana\", \"cherry\", \"orange\", \"kiwi\", \"melon\", \"mango\"]\n",
    "print(thislist[2:])"
   ]
  },
  {
   "cell_type": "code",
   "execution_count": 0,
   "metadata": {
    "colab": {},
    "colab_type": "code",
    "id": "wpD2V_Gv7uYY"
   },
   "outputs": [],
   "source": [
    "# 倒著數，從 index = -4 開始，到 index = -1 (不含 -1) \n",
    "thislist = [\"apple\", \"banana\", \"cherry\", \"orange\", \"kiwi\", \"melon\", \"mango\"]\n",
    "print(thislist[-4:-1])"
   ]
  },
  {
   "cell_type": "code",
   "execution_count": 0,
   "metadata": {
    "colab": {},
    "colab_type": "code",
    "id": "lLcWKlWKva11"
   },
   "outputs": [],
   "source": [
    "# ------------------------------------------\n",
    "# 改變某項目內容\n",
    "# 改變 index = 1 項目的內容\n",
    "thislist = [\"apple\", \"banana\", \"cherry\"]\n",
    "thislist[1] = \"blackcurrant\"\n",
    "print(thislist)"
   ]
  },
  {
   "cell_type": "markdown",
   "metadata": {
    "colab_type": "text",
    "id": "cZ2C-0MeibRY"
   },
   "source": [
    "### -------------------------------------------------------"
   ]
  },
  {
   "cell_type": "code",
   "execution_count": 0,
   "metadata": {
    "colab": {},
    "colab_type": "code",
    "id": "-e150feIwuAz"
   },
   "outputs": [],
   "source": [
    "# ------------------------------------------\n",
    "# list 長度\n",
    "thislist = [\"apple\", \"banana\", \"cherry\"]\n",
    "print('List 長度 =', len(thislist))"
   ]
  },
  {
   "cell_type": "code",
   "execution_count": 0,
   "metadata": {
    "colab": {},
    "colab_type": "code",
    "id": "zDNjWrKH3Tsu"
   },
   "outputs": [],
   "source": [
    "# ------------------------------------------\n",
    "# list 用 index 增減項目：append()、insert()、remove()\n",
    "# append(): 從尾端增加\n",
    "thislist = [\"apple\", \"banana\", \"cherry\"]\n",
    "thislist.append(\"orange\")\n",
    "print(thislist)\n",
    "\n",
    "# insert(): 插入在指定的 index 處\n",
    "thislist = [\"apple\", \"banana\", \"cherry\"]\n",
    "thislist.insert(1, \"orange\")\n",
    "print(thislist)\n",
    "\n",
    "# remove(): 移除指定的項目 (項目必須是已知)\n",
    "thislist = [\"apple\", \"banana\", \"cherry\"]\n",
    "thislist.remove(\"banana\")\n",
    "print(thislist)"
   ]
  },
  {
   "cell_type": "code",
   "execution_count": 0,
   "metadata": {
    "colab": {},
    "colab_type": "code",
    "id": "IaR1EKLOxrmJ"
   },
   "outputs": [],
   "source": [
    "# ------------------------------------------\n",
    "# list 項目的直接增減：「尾端增加」pop()、「刪除」del()、「整個清除」clear()\n",
    "# pop(): 刪除指定 index 的項目；如沒指定 index ，則是刪除最後一個\n",
    "thislist = [\"apple\", \"banana\", \"cherry\"]\n",
    "thislist.pop()\n",
    "print(thislist)\n",
    "\n",
    "# del(): 刪除指定 index 的項目\n",
    "thislist = [\"apple\", \"banana\", \"cherry\"]\n",
    "del thislist[0]\n",
    "print(thislist)\n",
    "\n",
    "# del(): 整個刪除\n",
    "thislist = [\"apple\", \"banana\", \"cherry\"]\n",
    "del thislist \n",
    "\n",
    "# clear(): 整個清除\n",
    "thislist = [\"apple\", \"banana\", \"cherry\"]\n",
    "thislist.clear()\n",
    "print(thislist)"
   ]
  },
  {
   "cell_type": "markdown",
   "metadata": {
    "colab_type": "text",
    "id": "n_dUe2OHHHRK"
   },
   "source": [
    "### Ex 3-4. 接 Ex.4-1 試著把葡萄從 list 中移除。"
   ]
  },
  {
   "cell_type": "code",
   "execution_count": 0,
   "metadata": {
    "colab": {},
    "colab_type": "code",
    "id": "gEXhWmywjmnr"
   },
   "outputs": [],
   "source": [
    "# 在這寫下你的程式碼，並執行看看！"
   ]
  },
  {
   "cell_type": "markdown",
   "metadata": {
    "colab_type": "text",
    "id": "3H9EWvEMjttz"
   },
   "source": [
    "### 4. list 的拷貝 copy(), list(), 連結 join(), extend()"
   ]
  },
  {
   "cell_type": "code",
   "execution_count": 0,
   "metadata": {
    "colab": {},
    "colab_type": "code",
    "id": "vRUJRhW3k4H4"
   },
   "outputs": [],
   "source": [
    "# ------------------------------------------\n",
    "# list 拷貝方法 1：copy()\n",
    "thislist = [\"apple\", \"banana\", \"cherry\"]\n",
    "mylist = thislist.copy()\n",
    "print(mylist)"
   ]
  },
  {
   "cell_type": "code",
   "execution_count": 0,
   "metadata": {
    "colab": {},
    "colab_type": "code",
    "id": "x6vEEktNlSrA"
   },
   "outputs": [],
   "source": [
    "# ------------------------------------------\n",
    "# list 拷貝方法 2：list()\n",
    "thislist = [\"apple\", \"banana\", \"cherry\"]\n",
    "mylist = list(thislist)\n",
    "print(mylist)"
   ]
  },
  {
   "cell_type": "code",
   "execution_count": 0,
   "metadata": {
    "colab": {},
    "colab_type": "code",
    "id": "iVvIz_-slah1"
   },
   "outputs": [],
   "source": [
    "# ------------------------------------------\n",
    "# list 連結方法 1： join\n",
    "list1 = [\"a\", \"b\" , \"c\"]\n",
    "list2 = [1, 2, 3]\n",
    "\n",
    "list3 = list1 + list2\n",
    "print(list3) "
   ]
  },
  {
   "cell_type": "code",
   "execution_count": 0,
   "metadata": {
    "colab": {},
    "colab_type": "code",
    "id": "6NQqSda2lguR"
   },
   "outputs": [],
   "source": [
    "# ------------------------------------------\n",
    "# list 連結方法 2： 用 for loop\n",
    "list1 = [\"a\", \"b\" , \"c\"]\n",
    "list2 = [1, 2, 3]\n",
    "\n",
    "for x in list2:\n",
    "    list1.append(x)\n",
    "\n",
    "print(list1) "
   ]
  },
  {
   "cell_type": "code",
   "execution_count": 0,
   "metadata": {
    "colab": {},
    "colab_type": "code",
    "id": "jfz7Rhoy5flQ"
   },
   "outputs": [],
   "source": [
    "# ------------------------------------------\n",
    "# list 連結方法 3： 用 extend()\n",
    "list1 = [\"a\", \"b\" , \"c\"]\n",
    "list2 = [1, 2, 3]\n",
    "\n",
    "list1.extend(list2)\n",
    "print(list1) "
   ]
  },
  {
   "cell_type": "markdown",
   "metadata": {
    "colab_type": "text",
    "id": "8aXM_i_nlwY6"
   },
   "source": [
    "### 4A. 使用 sort() 方法，來重新排序 list 的項目"
   ]
  },
  {
   "cell_type": "code",
   "execution_count": 0,
   "metadata": {
    "colab": {},
    "colab_type": "code",
    "id": "w6DVGiCHD-GB"
   },
   "outputs": [],
   "source": [
    "# ------------------------------------------\n",
    "# 使用 sort() 方法，來重新排序 list 的項目\n",
    "list1 = [\"g\", \"x\" , \"i\", \"a\"]\n",
    "list2 = [5, 9, 3]\n",
    "list1.sort()\n",
    "list2.sort()\n",
    "print(list1)\n",
    "print(list2)"
   ]
  },
  {
   "cell_type": "markdown",
   "metadata": {
    "colab_type": "text",
    "id": "AVi1UYa6uJMw"
   },
   "source": [
    "### List 與 Tuple 的差異\n",
    "**Tuple 與 list 的相同之處**\n",
    "```\n",
    "* 定義 tuple 與定義 list 的方式相同, 除了整個元素集是用小括號包圍的而不是方括號。\n",
    "\n",
    "* Tuple 的元素與 list 一樣按定義的次序進行排序。 Tuples 的索引與 list 一樣從 0 開始, 所以一個非空 tuple 的第一個元素總是 t[0]。\n",
    "\n",
    "* 負數索引與 list 一樣從 tuple 的尾部開始計數。\n",
    "\n",
    "* 與 list 一樣分片 (slice) 也可以使用。注意當分割一個 list 時, 會得到一個新的 list ；當分割一個 tuple 時, 會得到一個新的 tuple。\n",
    "```\n",
    "\n",
    "**Tuple 不存在的方法**\n",
    "```\n",
    "* 您不能向 tuple 增加元素。Tuple 沒有 append 或 extend 方法。\n",
    "\n",
    "* 您不能從 tuple 刪除元素。Tuple 沒有 remove 或 pop 方法。\n",
    "\n",
    "* 您不能在 tuple 中查詢元素。Tuple 沒有 index 方法。\n",
    "  然而, 您可以使用 in 來檢視一個元素是否存在於 tuple 中。\n",
    "```\n",
    "\n",
    "**用 Tuple 的好處**\n",
    "```\n",
    "Tuple 比 list 操作速度快。如果您定義了一個值的常量集，\n",
    "並且唯一要用它做的是不斷地遍歷它，請使用 tuple 代替 list。\n",
    "\n",
    "如果對不需要修改的資料進行 “防寫”，可以使程式碼更安全。\n",
    "使用 tuple 而不是 list 如同擁有一個隱含的 assert 語句，\n",
    "說明這一資料是常量。如果必須要改變這些值，則需要執行 \n",
    "tuple 到 list 的轉換。\n",
    "```\n",
    "\n",
    "Ref: https://codertw.com/%E7%A8%8B%E5%BC%8F%E8%AA%9E%E8%A8%80/373007/\n"
   ]
  },
  {
   "cell_type": "markdown",
   "metadata": {
    "colab_type": "text",
    "id": "I-3-ZLOl_tpc"
   },
   "source": [
    "\n",
    "## 5. 認識 Sets\n",
    "* **1. 使用大括號 { } 來表示。**\n",
    "* **2. 可以隨時「增加」、「減少」其元素的個數，也可以「修改」資料的內容。**\n",
    "* **3. Set 很重要的特性：組成的所有元素，都不能有重複！**\n",
    "* **4. Set 另一個重要特性：所包含的所有元素，不具順序性，所以不具有索引！**"
   ]
  },
  {
   "cell_type": "code",
   "execution_count": 0,
   "metadata": {
    "colab": {},
    "colab_type": "code",
    "id": "vx52g7rom2kb"
   },
   "outputs": [],
   "source": [
    "# ------------------------------------------\n",
    "# 建立一個 set 範例 1\n",
    "thisset = {\"apple\", \"banana\", \"cherry\"}\n",
    "print(thisset)"
   ]
  },
  {
   "cell_type": "code",
   "execution_count": 0,
   "metadata": {
    "colab": {},
    "colab_type": "code",
    "id": "aNqWHGF_m4kv"
   },
   "outputs": [],
   "source": [
    "# 建立一個 set 範例 2: 使用 set() 函數\n",
    "thisset = set((\"apple\", \"banana\", \"cherry\")) # note the double round-brackets\n",
    "print(thisset)"
   ]
  },
  {
   "cell_type": "code",
   "execution_count": 0,
   "metadata": {
    "colab": {},
    "colab_type": "code",
    "id": "Dsx5eVIVm8mu"
   },
   "outputs": [],
   "source": [
    "# ------------------------------------------\n",
    "# 取得項目內容\n",
    "thisset = {\"apple\", \"banana\", \"cherry\"}\n",
    "for x in thisset:\n",
    "  print(x) "
   ]
  },
  {
   "cell_type": "code",
   "execution_count": 0,
   "metadata": {
    "colab": {},
    "colab_type": "code",
    "id": "aR6TiNxgOCf2"
   },
   "outputs": [],
   "source": [
    "# ------------------------------------------\n",
    "# 檢查是否存在 set 中\n",
    "thisset = {\"apple\", \"banana\", \"cherry\"}\n",
    "print(\"banana\" in thisset) "
   ]
  },
  {
   "cell_type": "markdown",
   "metadata": {
    "colab_type": "text",
    "id": "nNARGQf2nOcL"
   },
   "source": [
    "### Ex 5-1. 試建一個蘋果、橘子、奇異果、葡萄的 set。 "
   ]
  },
  {
   "cell_type": "code",
   "execution_count": 0,
   "metadata": {
    "colab": {},
    "colab_type": "code",
    "id": "6RuekB_AnN2G"
   },
   "outputs": [],
   "source": [
    "# 在這寫下你的程式碼，並執行看看！"
   ]
  },
  {
   "cell_type": "markdown",
   "metadata": {
    "colab_type": "text",
    "id": "tffoBP6bnhWk"
   },
   "source": [
    "### Ex 5-2. 將蘋果、橘子、奇異果、葡萄的 set 內容印出來。 "
   ]
  },
  {
   "cell_type": "code",
   "execution_count": 0,
   "metadata": {
    "colab": {},
    "colab_type": "code",
    "id": "q6ZoO0atn5OB"
   },
   "outputs": [],
   "source": [
    "# 在這寫下你的程式碼，並執行看看！"
   ]
  },
  {
   "cell_type": "markdown",
   "metadata": {
    "colab_type": "text",
    "id": "2K7lySt9nyzO"
   },
   "source": [
    "### Ex 5-3. 蘋果、橘子、奇異果、葡萄的 list 中，檢查葡萄是否在這個 set 中。"
   ]
  },
  {
   "cell_type": "code",
   "execution_count": 0,
   "metadata": {
    "colab": {},
    "colab_type": "code",
    "id": "KUFFaDNbn6FE"
   },
   "outputs": [],
   "source": [
    "# 在這寫下你的程式碼，並執行看看！"
   ]
  },
  {
   "cell_type": "markdown",
   "metadata": {
    "colab_type": "text",
    "id": "hhWW13TvoLCM"
   },
   "source": [
    "### ===================================="
   ]
  },
  {
   "cell_type": "code",
   "execution_count": 0,
   "metadata": {
    "colab": {},
    "colab_type": "code",
    "id": "vjcJpQFnoPst"
   },
   "outputs": [],
   "source": [
    "# ------------------------------------------\n",
    "# 在 set 中，增加一個項目: add()\n",
    "thisset = {\"apple\", \"banana\", \"cherry\"}\n",
    "thisset.add(\"orange\")\n",
    "print(thisset) "
   ]
  },
  {
   "cell_type": "code",
   "execution_count": 0,
   "metadata": {
    "colab": {},
    "colab_type": "code",
    "id": "_AXIb38VoVVI"
   },
   "outputs": [],
   "source": [
    "# ------------------------------------------\n",
    "# 在 set 中，一次增加數個項目: update()\n",
    "thisset = {\"apple\", \"banana\", \"cherry\"}\n",
    "thisset.update([\"orange\", \"mango\", \"grapes\"])\n",
    "print(thisset) "
   ]
  },
  {
   "cell_type": "code",
   "execution_count": 0,
   "metadata": {
    "colab": {},
    "colab_type": "code",
    "id": "Yhn69tMYoYTK"
   },
   "outputs": [],
   "source": [
    "# ------------------------------------------\n",
    "# 取得 set 長度\n",
    "thisset = {\"apple\", \"banana\", \"cherry\"}\n",
    "print(len(thisset)) "
   ]
  },
  {
   "cell_type": "code",
   "execution_count": 0,
   "metadata": {
    "colab": {},
    "colab_type": "code",
    "id": "TAfvW4xsQ6N8"
   },
   "outputs": [],
   "source": [
    "# ------------------------------------------\n",
    "# 刪除一個項目: remove() 或 discard()\n",
    "thisset = {\"apple\", \"banana\", \"cherry\"}\n",
    "thisset.remove(\"banana\")   ### 若是要移除的項目不存在時，使用 remove() 會導致系統發出 error 訊息.\n",
    "print(thisset) "
   ]
  },
  {
   "cell_type": "markdown",
   "metadata": {
    "colab_type": "text",
    "id": "OCobnrOjelTm"
   },
   "source": [
    "### Ex 5-4. 試執行下列程式碼，跟你想的一樣嗎？為什麼？\n",
    "```\n",
    "# 在 set 中，增加一個項目: add()\n",
    "thisset = {\"apple\", \"banana\", \"cherry\"}\n",
    "thisset.add(\"apple\")\n",
    "print(thisset) \n",
    "```"
   ]
  },
  {
   "cell_type": "code",
   "execution_count": 0,
   "metadata": {
    "colab": {},
    "colab_type": "code",
    "id": "qhlZ6mrMfBxN"
   },
   "outputs": [],
   "source": [
    "# 在這寫下你的程式碼，並執行看看！"
   ]
  },
  {
   "cell_type": "markdown",
   "metadata": {
    "colab_type": "text",
    "id": "FRCbdJ6tofmg"
   },
   "source": [
    "## 5A. set 一樣有 pop(), clear(), del() 等函數可用，用法與 list 相同。"
   ]
  },
  {
   "cell_type": "code",
   "execution_count": 12,
   "metadata": {
    "colab": {},
    "colab_type": "code",
    "id": "1V_y7frpotWU"
   },
   "outputs": [
    {
     "name": "stdout",
     "output_type": "stream",
     "text": [
      "{1, 2, 3, 'b', 'c', 'a'}\n",
      "b\n"
     ]
    }
   ],
   "source": [
    "# ------------------------------------------\n",
    "# 結合兩個 sets: 範例 1. 使用 union() 方法\n",
    "set1 = {\"a\", \"b\" , \"c\"}\n",
    "set2 = {1, 2, 3}\n",
    "set3 = set1.union(set2)\n",
    "print(set3) \n",
    "set_pop=set1.pop()\n",
    "print(set_pop)#set無序列 不能再()裡面放數字會錯誤"
   ]
  },
  {
   "cell_type": "code",
   "execution_count": 0,
   "metadata": {
    "colab": {},
    "colab_type": "code",
    "id": "aQzHQ-CaSxXc"
   },
   "outputs": [],
   "source": [
    "# ------------------------------------------\n",
    "# 結合兩個 sets: 範例 2. 使用 update() 方法\n",
    "set1 = {\"a\", \"b\" , \"c\"}\n",
    "set2 = {1, 2, 3}\n",
    "\n",
    "set1.update(set2)\n",
    "print(set1) \n",
    "\n",
    "\n",
    "### 注意：union() 與 update() 都會自行移除重複的項目。\n",
    "# ------------------------------------------\n",
    "#set1.sort()#set無序列 亂數重排無意義"
   ]
  },
  {
   "cell_type": "code",
   "execution_count": 0,
   "metadata": {
    "colab": {},
    "colab_type": "code",
    "id": "YPhpX8wjeJ4E"
   },
   "outputs": [],
   "source": []
  },
  {
   "cell_type": "markdown",
   "metadata": {
    "colab_type": "text",
    "id": "cjN9kFitdc93"
   },
   "source": [
    "### Ex 5A-1. 試執行下列程式碼，跟你想的一樣嗎？\n",
    "```\n",
    "set1 = {\"a\", \"b\" , \"c\"}\n",
    "set2 = {\"a\", 1, 2, 3}\n",
    "set3 = set1.union(set2)\n",
    "print(set3) \n",
    "```  "
   ]
  },
  {
   "cell_type": "code",
   "execution_count": 15,
   "metadata": {
    "colab": {},
    "colab_type": "code",
    "id": "kQyp_0QqeGjL"
   },
   "outputs": [
    {
     "name": "stdout",
     "output_type": "stream",
     "text": [
      "{1, 2, 3, 'b', 'c', 'a'}\n"
     ]
    }
   ],
   "source": [
    "set1 = {\"a\", \"b\" , \"c\"}\n",
    "set2 = {\"a\", 1, 2, 3}\n",
    "set3 = set1.union(set2)\n",
    "print(set3) "
   ]
  },
  {
   "cell_type": "markdown",
   "metadata": {
    "colab_type": "text",
    "id": "4AfxrzQT_vqw"
   },
   "source": [
    "## 6. 認識 Dictionary\n",
    "* **1. 一樣是使用大括號 { } 來表示。但是，是一組組的 key 與 value 的對應。**\n",
    "* **2. 可以隨時「增加」、「減少」其內部資料的個數，也可以「修改」資料的內容。**"
   ]
  },
  {
   "cell_type": "code",
   "execution_count": 17,
   "metadata": {
    "colab": {},
    "colab_type": "code",
    "id": "OCFQBqi-o6cE"
   },
   "outputs": [
    {
     "name": "stdout",
     "output_type": "stream",
     "text": [
      "{'brand': 'Ford', 'model': 'Mustang', 'year': 1964}\n"
     ]
    }
   ],
   "source": [
    "# ------------------------------------------\n",
    "# 建立一個 dictionary 範例 1\n",
    "thisdict =\t{\n",
    "  \"brand\": \"Ford\",\n",
    "  \"model\": \"Mustang\",\n",
    "  \"year\": 1964\n",
    "}\n",
    "print(thisdict)"
   ]
  },
  {
   "cell_type": "code",
   "execution_count": 18,
   "metadata": {
    "colab": {},
    "colab_type": "code",
    "id": "x6wCi8uGpAT9"
   },
   "outputs": [
    {
     "name": "stdout",
     "output_type": "stream",
     "text": [
      "{'brand': 'Ford', 'model': 'Mustang', 'year': 1964}\n"
     ]
    }
   ],
   "source": [
    "# ------------------------------------------\n",
    "# 建立一個 dictionary 範例 2: 使用 dict() 函數\n",
    "thisdict = dict(brand=\"Ford\", model=\"Mustang\", year=1964)\n",
    "# note that keywords are not string literals  注意：key 並非是字串形式\n",
    "# note the use of equals rather than colon for the assignment  注意：在此是用等號\"=\"的方式，而非冒號\":\"的方式\n",
    "print(thisdict)"
   ]
  },
  {
   "cell_type": "code",
   "execution_count": 19,
   "metadata": {
    "colab": {},
    "colab_type": "code",
    "id": "FY0xZlKjpReq"
   },
   "outputs": [
    {
     "name": "stdout",
     "output_type": "stream",
     "text": [
      "Mustang\n"
     ]
    }
   ],
   "source": [
    "# ------------------------------------------\n",
    "# 值的存取方式 1：利用 key 來存取\n",
    "x = thisdict[\"model\"]\n",
    "print(x)"
   ]
  },
  {
   "cell_type": "code",
   "execution_count": 20,
   "metadata": {
    "colab": {},
    "colab_type": "code",
    "id": "cBbtBYF9pUa5"
   },
   "outputs": [
    {
     "name": "stdout",
     "output_type": "stream",
     "text": [
      "1964\n"
     ]
    }
   ],
   "source": [
    "# ------------------------------------------\n",
    "# 值的存取方式 2：利用 key 與 get() 方法來存取\n",
    "x = thisdict.get(\"year\")\n",
    "print(x)"
   ]
  },
  {
   "cell_type": "code",
   "execution_count": 21,
   "metadata": {
    "colab": {},
    "colab_type": "code",
    "id": "OjCqULKFWPjU"
   },
   "outputs": [
    {
     "name": "stdout",
     "output_type": "stream",
     "text": [
      "2018\n"
     ]
    }
   ],
   "source": [
    "# ------------------------------------------\n",
    "# 變更 key 所對應的值 value\n",
    "thisdict[\"year\"] = 2018\n",
    "\n",
    "x = thisdict[\"year\"]\n",
    "print(x)"
   ]
  },
  {
   "cell_type": "code",
   "execution_count": 22,
   "metadata": {
    "colab": {},
    "colab_type": "code",
    "id": "aH9iuHT_ptRI"
   },
   "outputs": [
    {
     "name": "stdout",
     "output_type": "stream",
     "text": [
      "key = brand\n",
      "key = model\n",
      "key = year\n"
     ]
    }
   ],
   "source": [
    "# ------------------------------------------\n",
    "# 使用 for loop 訪問所有 key\n",
    "for x in thisdict:\n",
    "    print('key =',x) "
   ]
  },
  {
   "cell_type": "code",
   "execution_count": 23,
   "metadata": {
    "colab": {},
    "colab_type": "code",
    "id": "mC4vLvo7p0G3"
   },
   "outputs": [
    {
     "name": "stdout",
     "output_type": "stream",
     "text": [
      "value = Ford\n",
      "value = Mustang\n",
      "value = 2018\n"
     ]
    }
   ],
   "source": [
    "# 使用 for loop 訪問所有 value 範例 1\n",
    "for x in thisdict:\n",
    "    print('value =', thisdict[x]) "
   ]
  },
  {
   "cell_type": "code",
   "execution_count": 24,
   "metadata": {
    "colab": {},
    "colab_type": "code",
    "id": "Q5HGugQbgBTU"
   },
   "outputs": [
    {
     "name": "stdout",
     "output_type": "stream",
     "text": [
      "value = Ford\n",
      "value = Mustang\n",
      "value = 2018\n"
     ]
    }
   ],
   "source": [
    "# 使用 for loop 訪問所有 value 範例 2\n",
    "for x in thisdict.values():\n",
    "    print('value =', x) "
   ]
  },
  {
   "cell_type": "code",
   "execution_count": 25,
   "metadata": {
    "colab": {},
    "colab_type": "code",
    "id": "pxx-0K65gzw_"
   },
   "outputs": [
    {
     "name": "stdout",
     "output_type": "stream",
     "text": [
      "Yes, 'model' is one of the keys in the thisdict dictionary\n",
      "3\n"
     ]
    }
   ],
   "source": [
    "# ------------------------------------------\n",
    "# 檢查某個 key 是否存在 dict 中\n",
    "if \"model\" in thisdict:\n",
    "    print(\"Yes, 'model' is one of the keys in the thisdict dictionary\") \n",
    "\n",
    "# 檢查 dict 的長度\n",
    "print(len(thisdict)) "
   ]
  },
  {
   "cell_type": "markdown",
   "metadata": {
    "colab_type": "text",
    "id": "i_2RlNXaqI5g"
   },
   "source": [
    "### 6A. 在 dict 中，新增、移除一對 key pair 項目"
   ]
  },
  {
   "cell_type": "code",
   "execution_count": 32,
   "metadata": {
    "colab": {},
    "colab_type": "code",
    "id": "lAFL9WOOp-3u"
   },
   "outputs": [
    {
     "name": "stdout",
     "output_type": "stream",
     "text": [
      "{'brand': 'Ford', 'model': 'Mustang', 'year': 1964, 'color': 'red'}\n"
     ]
    }
   ],
   "source": [
    "# ------------------------------------------\n",
    "thisdict =\t{\n",
    "  \"brand\": \"Ford\",\n",
    "  \"model\": \"Mustang\",\n",
    "  \"year\": 1964\n",
    "}\n",
    "\n",
    "# 在 dict 中，新增一對 key pair 項目\n",
    "thisdict[\"color\"] = \"red\"\n",
    "print(thisdict)"
   ]
  },
  {
   "cell_type": "code",
   "execution_count": 33,
   "metadata": {
    "colab": {},
    "colab_type": "code",
    "id": "Tyu5mDoBhgRA"
   },
   "outputs": [
    {
     "name": "stdout",
     "output_type": "stream",
     "text": [
      "{'brand': 'Ford', 'year': 1964, 'color': 'red'}\n",
      "{'brand': 'Ford', 'year': 1964}\n"
     ]
    }
   ],
   "source": [
    "# 在 dict 中，移除特定 key pair 項目: 使用 pop()\n",
    "thisdict.pop(\"model\")\n",
    "print(thisdict) \n",
    "\n",
    "# For Python 3.7: 在 dict 中，popitem() 會移除前一次新增的 key pair 項目\n",
    "# For Python 3.6 及之前版本: 在 dict 中，popitem() 會移除隋機的一個的 key pair 項目\n",
    "thisdict.popitem()\n",
    "print(thisdict) \n",
    "\n",
    "### 檢查 python 版本\n",
    "#import platform\n",
    "#platform.python_version()"
   ]
  },
  {
   "cell_type": "code",
   "execution_count": 34,
   "metadata": {
    "colab": {},
    "colab_type": "code",
    "id": "P3JqoUvWkSrr"
   },
   "outputs": [
    {
     "name": "stdout",
     "output_type": "stream",
     "text": [
      "{'brand': 'Ford', 'year': 1964}\n"
     ]
    }
   ],
   "source": [
    "# ------------------------------------------\n",
    "# 在 dict 中，移除特定 key pair 項目: 使用 del()\n",
    "thisdict =\t{\n",
    "  \"brand\": \"Ford\",\n",
    "  \"model\": \"Mustang\",\n",
    "  \"year\": 1964\n",
    "}\n",
    "del thisdict[\"model\"]\n",
    "print(thisdict) "
   ]
  },
  {
   "cell_type": "markdown",
   "metadata": {
    "colab_type": "text",
    "id": "4y03-MmElA0E"
   },
   "source": [
    "### Ex 6-1. 試著執行以下指令，並想想是何意思？\n",
    "```\n",
    "thisdict =\t{\n",
    "  \"brand\": \"Ford\",\n",
    "  \"model\": \"Mustang\",\n",
    "  \"year\": 1964\n",
    "}\n",
    "del thisdict\n",
    "print(thisdict)\n",
    "```"
   ]
  },
  {
   "cell_type": "code",
   "execution_count": 35,
   "metadata": {
    "colab": {},
    "colab_type": "code",
    "id": "LqWpShq6ls2Q"
   },
   "outputs": [
    {
     "ename": "NameError",
     "evalue": "name 'thisdict' is not defined",
     "output_type": "error",
     "traceback": [
      "\u001b[1;31m---------------------------------------------------------------------------\u001b[0m",
      "\u001b[1;31mNameError\u001b[0m                                 Traceback (most recent call last)",
      "\u001b[1;32m<ipython-input-35-8886b2d7282a>\u001b[0m in \u001b[0;36m<module>\u001b[1;34m\u001b[0m\n\u001b[0;32m      5\u001b[0m }\n\u001b[0;32m      6\u001b[0m \u001b[1;32mdel\u001b[0m \u001b[0mthisdict\u001b[0m\u001b[1;33m\u001b[0m\u001b[1;33m\u001b[0m\u001b[0m\n\u001b[1;32m----> 7\u001b[1;33m \u001b[0mprint\u001b[0m\u001b[1;33m(\u001b[0m\u001b[0mthisdict\u001b[0m\u001b[1;33m)\u001b[0m\u001b[1;33m\u001b[0m\u001b[1;33m\u001b[0m\u001b[0m\n\u001b[0m",
      "\u001b[1;31mNameError\u001b[0m: name 'thisdict' is not defined"
     ]
    }
   ],
   "source": [
    "thisdict =    {\n",
    "  \"brand\": \"Ford\",\n",
    "  \"model\": \"Mustang\",\n",
    "  \"year\": 1964\n",
    "}\n",
    "del thisdict\n",
    "print(thisdict)"
   ]
  },
  {
   "cell_type": "markdown",
   "metadata": {
    "colab_type": "text",
    "id": "tx6MqCO6l6B2"
   },
   "source": [
    "### Ex 6-2. 試著執行以下指令，並想想是何意思？\n",
    "```\n",
    "thisdict =\t{\n",
    "  \"brand\": \"Ford\",\n",
    "  \"model\": \"Mustang\",\n",
    "  \"year\": 1964\n",
    "}\n",
    "thisdict.clear()\n",
    "print(thisdict)\n",
    "```"
   ]
  },
  {
   "cell_type": "code",
   "execution_count": 36,
   "metadata": {
    "colab": {},
    "colab_type": "code",
    "id": "K_fVE0GLmN8k"
   },
   "outputs": [
    {
     "name": "stdout",
     "output_type": "stream",
     "text": [
      "{}\n"
     ]
    }
   ],
   "source": [
    "thisdict =    {\n",
    "  \"brand\": \"Ford\",\n",
    "  \"model\": \"Mustang\",\n",
    "  \"year\": 1964\n",
    "}\n",
    "thisdict.clear()\n",
    "print(thisdict)"
   ]
  },
  {
   "cell_type": "code",
   "execution_count": 37,
   "metadata": {
    "colab": {},
    "colab_type": "code",
    "id": "30saO65zmeHM"
   },
   "outputs": [
    {
     "name": "stdout",
     "output_type": "stream",
     "text": [
      "{'brand': 'Ford', 'model': 'Mustang', 'year': 1964}\n",
      "{'brand': 'Ford', 'model': 'Mustang', 'year': 1964}\n"
     ]
    }
   ],
   "source": [
    "# ------------------------------------------\n",
    "# dict 的拷貝：使用 copy() 方法\n",
    "thisdict =\t{\n",
    "  \"brand\": \"Ford\",\n",
    "  \"model\": \"Mustang\",\n",
    "  \"year\": 1964\n",
    "}\n",
    "mydict = thisdict.copy()\n",
    "print(mydict)\n",
    "\n",
    "# dict 的拷貝：使用 dict() 方法\n",
    "thisdict =\t{\n",
    "  \"brand\": \"Ford\",\n",
    "  \"model\": \"Mustang\",\n",
    "  \"year\": 1964\n",
    "}\n",
    "mydict = dict(thisdict)\n",
    "print(mydict)"
   ]
  },
  {
   "cell_type": "code",
   "execution_count": 38,
   "metadata": {
    "colab": {},
    "colab_type": "code",
    "id": "mPb8woz_nPQf"
   },
   "outputs": [
    {
     "name": "stdout",
     "output_type": "stream",
     "text": [
      "{'child1': {'name': 'Emil', 'year': 2004}, 'child2': {'name': 'Tobias', 'year': 2007}, 'child3': {'name': 'Linus', 'year': 2011}}\n",
      "{'child1': {'name': 'Emil', 'year': 2004}, 'child2': {'name': 'Tobias', 'year': 2007}, 'child3': {'name': 'Linus', 'year': 2011}}\n"
     ]
    }
   ],
   "source": [
    "# ------------------------------------------\n",
    "# 巢狀式 dict 範例 1\n",
    "myfamily = {\n",
    "  \"child1\" : {\n",
    "    \"name\" : \"Emil\",\n",
    "    \"year\" : 2004\n",
    "  },\n",
    "  \"child2\" : {\n",
    "    \"name\" : \"Tobias\",\n",
    "    \"year\" : 2007\n",
    "  },\n",
    "  \"child3\" : {\n",
    "    \"name\" : \"Linus\",\n",
    "    \"year\" : 2011\n",
    "  }\n",
    "} \n",
    "print(myfamily)\n",
    "\n",
    "\n",
    "# 巢狀式 dict 範例 2 (分開定義)\n",
    "child1 = {\n",
    "  \"name\" : \"Emil\",\n",
    "  \"year\" : 2004\n",
    "}\n",
    "child2 = {\n",
    "  \"name\" : \"Tobias\",\n",
    "  \"year\" : 2007\n",
    "}\n",
    "child3 = {\n",
    "  \"name\" : \"Linus\",\n",
    "  \"year\" : 2011\n",
    "}\n",
    "\n",
    "myfamily = {\n",
    "  \"child1\" : child1,\n",
    "  \"child2\" : child2,\n",
    "  \"child3\" : child3\n",
    "} \n",
    "\n",
    "print(myfamily)"
   ]
  },
  {
   "cell_type": "markdown",
   "metadata": {
    "colab_type": "text",
    "id": "mxsmJ3TopBWx"
   },
   "source": [
    "### Ex 6-3. 試著用 get()，印出 child2 的名字"
   ]
  },
  {
   "cell_type": "code",
   "execution_count": 47,
   "metadata": {
    "colab": {},
    "colab_type": "code",
    "id": "TeiVvXlkpVRp"
   },
   "outputs": [
    {
     "name": "stdout",
     "output_type": "stream",
     "text": [
      "Tobias\n"
     ]
    }
   ],
   "source": [
    "x = myfamily.get(\"child2\")\n",
    "x = x.get(\"name\")\n",
    "print(x)"
   ]
  },
  {
   "cell_type": "markdown",
   "metadata": {
    "colab_type": "text",
    "id": "tTr6e-gwfFWQ"
   },
   "source": [
    "## 7.  join() 函數與 str,  tuple, list, dictionary, set "
   ]
  },
  {
   "cell_type": "code",
   "execution_count": 0,
   "metadata": {
    "colab": {
     "base_uri": "https://localhost:8080/",
     "height": 52
    },
    "colab_type": "code",
    "executionInfo": {
     "elapsed": 1462,
     "status": "ok",
     "timestamp": 1579969606482,
     "user": {
      "displayName": "Robert Lee",
      "photoUrl": "https://lh3.googleusercontent.com/a-/AAuE7mDYy8nQN1KHUAZANFLKIh5k5kMhXgI4inBOx7GTQA=s64",
      "userId": "08777393997037956511"
     },
     "user_tz": -480
    },
    "id": "IlNkpwPHgqpA",
    "outputId": "d879afa9-674e-48ef-b3f7-49439506fe5a"
   },
   "outputs": [
    {
     "name": "stdout",
     "output_type": "stream",
     "text": [
      "hellogoodboydoiido\n",
      "hello:good:boy:doiido\n"
     ]
    }
   ],
   "source": [
    "# list 與 join 函數\n",
    "seq1 = ['hello','good','boy','doiido']\n",
    "print (''.join(seq1))\n",
    "\n",
    "print (':'.join(seq1))"
   ]
  },
  {
   "cell_type": "code",
   "execution_count": 0,
   "metadata": {
    "colab": {
     "base_uri": "https://localhost:8080/",
     "height": 34
    },
    "colab_type": "code",
    "executionInfo": {
     "elapsed": 950,
     "status": "ok",
     "timestamp": 1579969667641,
     "user": {
      "displayName": "Robert Lee",
      "photoUrl": "https://lh3.googleusercontent.com/a-/AAuE7mDYy8nQN1KHUAZANFLKIh5k5kMhXgI4inBOx7GTQA=s64",
      "userId": "08777393997037956511"
     },
     "user_tz": -480
    },
    "id": "7AtmCP0chzQ0",
    "outputId": "40ab5dee-1dea-4266-c87c-0d99a6822c7b"
   },
   "outputs": [
    {
     "name": "stdout",
     "output_type": "stream",
     "text": [
      "h:e:l:l:o: :g:o:o:d: :b:o:y: :d:o:i:i:d:o\n"
     ]
    }
   ],
   "source": [
    "# 字串 與 join 函數\n",
    "seq2 = \"hello good boy doiido\"\n",
    "print (':'.join(seq2))"
   ]
  },
  {
   "cell_type": "code",
   "execution_count": 48,
   "metadata": {
    "colab": {},
    "colab_type": "code",
    "id": "LV9oSIkRh_NP"
   },
   "outputs": [
    {
     "name": "stdout",
     "output_type": "stream",
     "text": [
      "hello:good:boy:doiido\n"
     ]
    }
   ],
   "source": [
    "# tuple 與 join 函數\n",
    "seq3 = ('hello','good','boy','doiido')\n",
    "print (':'.join(seq3))"
   ]
  },
  {
   "cell_type": "code",
   "execution_count": 63,
   "metadata": {
    "colab": {},
    "colab_type": "code",
    "id": "xg0tfNCXiIck"
   },
   "outputs": [
    {
     "name": "stdout",
     "output_type": "stream",
     "text": [
      "hello:good:boy:doiido\n",
      "1\n",
      "hello:good:boy:doiido\n"
     ]
    }
   ],
   "source": [
    "# dictionary 與 join 函數\n",
    "seq4 = {'hello':1,'good':2,'boy':3,'doiido':4}\n",
    "print (':'.join(seq4))\n",
    "print(seq4[\"hello\"])\n",
    "seq2=(':'.join(seq4))\n",
    "print(seq2)"
   ]
  },
  {
   "cell_type": "code",
   "execution_count": 64,
   "metadata": {
    "colab": {},
    "colab_type": "code",
    "id": "QziJtsIDVHDI"
   },
   "outputs": [
    {
     "name": "stdout",
     "output_type": "stream",
     "text": [
      "{'c', 'e', 'v', 'd', 'a'}\n",
      "cevda\n"
     ]
    }
   ],
   "source": [
    "# set 與 join 函數\n",
    "# ------------------------------------------\n",
    "# 利用 set 的特性：所包含的所有元素，都不會重複！\n",
    "my_string = \"aavvccccddddeee\"\n",
    "\n",
    "# converting the string to a set\n",
    "temp_set = set(my_string)\n",
    "print(temp_set)\n",
    "\n",
    "# stitching set into a string using join\n",
    "new_string = ''.join(temp_set)\n",
    "\n",
    "print(new_string)"
   ]
  },
  {
   "cell_type": "markdown",
   "metadata": {
    "colab_type": "text",
    "id": "Yt7FJAUopzKb"
   },
   "source": [
    "### Ex 7.1 以上幾個範例碼跑的結果，你得出什麼結論？"
   ]
  },
  {
   "cell_type": "markdown",
   "metadata": {
    "colab_type": "text",
    "id": "jcaiBkJjtia1"
   },
   "source": [
    "### ＝＝＝＝＝＝＝＝＝＝＝＝＝＝＝＝＝ The End ＝＝＝＝＝＝＝＝＝＝＝＝＝＝＝＝＝\n",
    "©2020 蓉爸, AI4kids 愛奇智慧科技股份有限公司"
   ]
  }
 ],
 "metadata": {
  "colab": {
   "collapsed_sections": [],
   "name": "30. Python快速入門-03 (2020-01).ipynb",
   "provenance": [
    {
     "file_id": "1ycv9A3_1BDUaCZCyozAs2I7rmtACX2O8",
     "timestamp": 1579100047481
    }
   ]
  },
  "kernelspec": {
   "display_name": "Python 3",
   "language": "python",
   "name": "python3"
  },
  "language_info": {
   "codemirror_mode": {
    "name": "ipython",
    "version": 3
   },
   "file_extension": ".py",
   "mimetype": "text/x-python",
   "name": "python",
   "nbconvert_exporter": "python",
   "pygments_lexer": "ipython3",
   "version": "3.6.7"
  }
 },
 "nbformat": 4,
 "nbformat_minor": 1
}
