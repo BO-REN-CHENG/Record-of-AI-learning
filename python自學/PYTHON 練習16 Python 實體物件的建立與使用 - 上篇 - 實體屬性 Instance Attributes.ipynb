{
 "cells": [
  {
   "cell_type": "markdown",
   "metadata": {},
   "source": [
    "# 3/5 PYTHON 練習16 Python 實體物件的建立與使用 - 上篇 - 實體屬性 Instance Attributes\n",
    "* [Python 實體物件的建立與使用 - 上篇 - 實體屬性 Instance Attributes By 彭彭](https://www.youtube.com/watch?v=Lr5N2r1rmtM&list=PL-g0fdC5RMboYEyt6QS2iLb_1m7QcgfHk&index=17)"
   ]
  },
  {
   "cell_type": "code",
   "execution_count": null,
   "metadata": {},
   "outputs": [],
   "source": []
  }
 ],
 "metadata": {
  "kernelspec": {
   "display_name": "Python 3",
   "language": "python",
   "name": "python3"
  },
  "language_info": {
   "codemirror_mode": {
    "name": "ipython",
    "version": 3
   },
   "file_extension": ".py",
   "mimetype": "text/x-python",
   "name": "python",
   "nbconvert_exporter": "python",
   "pygments_lexer": "ipython3",
   "version": "3.6.7"
  }
 },
 "nbformat": 4,
 "nbformat_minor": 2
}
