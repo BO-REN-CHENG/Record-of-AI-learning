{
 "cells": [
  {
   "cell_type": "markdown",
   "metadata": {},
   "source": [
    "# 3/14 PYTHON 練習25 Python Pandas 資料分析 - 篩選資料\n",
    "* [Python Pandas 資料分析 - 篩選資料 By 彭彭](https://www.youtube.com/watch?v=w-V7zvsBlZw&list=PL-g0fdC5RMboYEyt6QS2iLb_1m7QcgfHk&index=26)"
   ]
  },
  {
   "cell_type": "code",
   "execution_count": 1,
   "metadata": {},
   "outputs": [],
   "source": [
    "import pandas as pd"
   ]
  },
  {
   "cell_type": "markdown",
   "metadata": {},
   "source": [
    "# 篩選練習-series"
   ]
  },
  {
   "cell_type": "code",
   "execution_count": 7,
   "metadata": {},
   "outputs": [
    {
     "name": "stdout",
     "output_type": "stream",
     "text": [
      "0    30\n",
      "2    20\n",
      "dtype: int64\n",
      "\n",
      "---------\n",
      "\n",
      "0    30\n",
      "2    20\n",
      "dtype: int64\n",
      "\n",
      "---------\n",
      "\n",
      "0     True\n",
      "1    False\n",
      "2     True\n",
      "dtype: bool\n",
      "\n",
      "\n",
      "0    30\n",
      "2    20\n",
      "dtype: int64\n"
     ]
    }
   ],
   "source": [
    "data=pd.Series([30,15,20])\n",
    "condition=[True,False,True]\n",
    "filteredData=data[condition]\n",
    "print(filteredData)\n",
    "print(\"\\n---------\\n\")\n",
    "data=pd.Series([30,15,20])\n",
    "cd=[True,False,True]\n",
    "filteredData1=data[cd]\n",
    "print(filteredData1)\n",
    "print(\"\\n---------\\n\")\n",
    "data=pd.Series([30,15,20])\n",
    "condition=data>18\n",
    "print(condition)\n",
    "print(\"\\n\")\n",
    "filteredData=data[condition]\n",
    "print(filteredData)"
   ]
  },
  {
   "cell_type": "code",
   "execution_count": 9,
   "metadata": {},
   "outputs": [
    {
     "name": "stdout",
     "output_type": "stream",
     "text": [
      "0        您好\n",
      "2    Pandas\n",
      "dtype: object\n",
      "\n",
      "---------\n",
      "\n",
      "1    Python\n",
      "2    Pandas\n",
      "dtype: object\n"
     ]
    }
   ],
   "source": [
    "data=pd.Series([\"您好\",\"Python\",\"Pandas\"])\n",
    "condition=[True,False,True]\n",
    "filteredData=data[condition]\n",
    "print(filteredData)\n",
    "print(\"\\n---------\\n\")\n",
    "data=pd.Series([\"您好\",\"Python\",\"Pandas\"])\n",
    "condition=data.str.contains(\"P\")\n",
    "filteredData=data[condition]\n",
    "print(filteredData)"
   ]
  },
  {
   "cell_type": "markdown",
   "metadata": {},
   "source": [
    "# 篩選練習-DataFrame"
   ]
  },
  {
   "cell_type": "code",
   "execution_count": 13,
   "metadata": {},
   "outputs": [
    {
     "name": "stdout",
     "output_type": "stream",
     "text": [
      "      name  salary\n",
      "0      AMY   30000\n",
      "1      BOB   50000\n",
      "2  CHARLES   40000 \n",
      "-----------------------\n",
      "\n",
      "      name  salary\n",
      "1      BOB   50000\n",
      "2  CHARLES   40000\n"
     ]
    }
   ],
   "source": [
    "data=pd.DataFrame({\n",
    "    \"name\":[\"AMY\",\"BOB\",\"CHARLES\"],\n",
    "    \"salary\":[30000,50000,40000] \n",
    "})\n",
    "print(data,\"\\n-----------------------\\n\")\n",
    "condition=[False,True,True]\n",
    "filteredData=data[condition]\n",
    "print(filteredData)"
   ]
  },
  {
   "cell_type": "code",
   "execution_count": 15,
   "metadata": {},
   "outputs": [
    {
     "name": "stdout",
     "output_type": "stream",
     "text": [
      "      name  salary\n",
      "1      BOB   50000\n",
      "2  CHARLES   40000\n"
     ]
    }
   ],
   "source": [
    "data=pd.DataFrame({\n",
    "    \"name\":[\"AMY\",\"BOB\",\"CHARLES\"],\n",
    "    \"salary\":[30000,50000,40000] \n",
    "})\n",
    "condition=data[\"salary\"]>=40000\n",
    "filteredData=data[condition]\n",
    "print(filteredData)"
   ]
  },
  {
   "cell_type": "code",
   "execution_count": 16,
   "metadata": {},
   "outputs": [
    {
     "name": "stdout",
     "output_type": "stream",
     "text": [
      "  name  salary\n",
      "0  AMY   30000\n"
     ]
    }
   ],
   "source": [
    "data=pd.DataFrame({\n",
    "    \"name\":[\"AMY\",\"BOB\",\"CHARLES\"],\n",
    "    \"salary\":[30000,50000,40000] \n",
    "})\n",
    "condition=data[\"name\"]==\"AMY\"\n",
    "filteredData=data[condition]\n",
    "print(filteredData)"
   ]
  }
 ],
 "metadata": {
  "kernelspec": {
   "display_name": "Python 3",
   "language": "python",
   "name": "python3"
  },
  "language_info": {
   "codemirror_mode": {
    "name": "ipython",
    "version": 3
   },
   "file_extension": ".py",
   "mimetype": "text/x-python",
   "name": "python",
   "nbconvert_exporter": "python",
   "pygments_lexer": "ipython3",
   "version": "3.6.7"
  }
 },
 "nbformat": 4,
 "nbformat_minor": 2
}
