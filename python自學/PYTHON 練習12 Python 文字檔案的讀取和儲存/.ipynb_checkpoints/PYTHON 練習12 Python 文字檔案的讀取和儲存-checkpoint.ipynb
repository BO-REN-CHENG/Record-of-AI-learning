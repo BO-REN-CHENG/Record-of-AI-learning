{
 "cells": [
  {
   "cell_type": "markdown",
   "metadata": {},
   "source": [
    "# 3/4 PYTHON 練習12 Python 文字檔案的讀取和儲存\n",
    "* [Python 文字檔案的讀取和儲存 By 彭彭](https://www.youtube.com/watch?v=C4OkV6DrVRs&list=PL-g0fdC5RMboYEyt6QS2iLb_1m7QcgfHk&index=13)"
   ]
  },
  {
   "cell_type": "markdown",
   "metadata": {},
   "source": [
    "# 儲存檔案"
   ]
  },
  {
   "cell_type": "code",
   "execution_count": 1,
   "metadata": {},
   "outputs": [],
   "source": [
    "file=open(\"data.txt\",mode=\"w\",encoding=\"utf-8\")#encoding=\"utf-8可正常使用中文 (雖然本來就正常了)\n",
    "file.write(\"hello file\\nsecond line\\n測試中文\")#操作\n",
    "file.close()"
   ]
  },
  {
   "cell_type": "markdown",
   "metadata": {},
   "source": [
    "# 最佳實務寫法"
   ]
  },
  {
   "cell_type": "code",
   "execution_count": 2,
   "metadata": {},
   "outputs": [],
   "source": [
    "with open(\"data2.txt\",mode=\"w\",encoding=\"utf-8\")as file:\n",
    "    file.write(\"測試中文\")\n",
    "with open(\"add.txt\",mode=\"w\",encoding=\"utf-8\")as file:\n",
    "    file.write(\"3\\n5\")"
   ]
  },
  {
   "cell_type": "markdown",
   "metadata": {},
   "source": [
    "# 讀取檔案"
   ]
  },
  {
   "cell_type": "code",
   "execution_count": 3,
   "metadata": {},
   "outputs": [
    {
     "name": "stdout",
     "output_type": "stream",
     "text": [
      "hello file\n",
      "second line\n",
      "測試中文\n"
     ]
    }
   ],
   "source": [
    "with open(\"data.txt\",mode=\"r\",encoding=\"utf-8\")as file:\n",
    "    data=file.read()\n",
    "print(data)"
   ]
  },
  {
   "cell_type": "markdown",
   "metadata": {},
   "source": [
    "# 讀取檔案例題\n",
    "* 一行一行讀取"
   ]
  },
  {
   "cell_type": "code",
   "execution_count": 4,
   "metadata": {},
   "outputs": [
    {
     "name": "stdout",
     "output_type": "stream",
     "text": [
      "8\n"
     ]
    }
   ],
   "source": [
    "sum=0\n",
    "with open(\"add.txt\",mode=\"r\",encoding=\"utf-8\")as file:\n",
    "    for line in file:        #一行一行讀取\n",
    "        sum+=int(line)\n",
    "print(sum)"
   ]
  },
  {
   "cell_type": "markdown",
   "metadata": {},
   "source": [
    "# 使用 JSON 格式讀取,複寫檔案"
   ]
  },
  {
   "cell_type": "code",
   "execution_count": 5,
   "metadata": {},
   "outputs": [
    {
     "name": "stdout",
     "output_type": "stream",
     "text": [
      "name:  my name\n",
      "version:  1.2.5\n"
     ]
    }
   ],
   "source": [
    "import json\n",
    "with open(\"config.json\",mode=\"r\")as file:\n",
    "    data=json.load(file)\n",
    "print(\"name: \",data[\"name\"])\n",
    "print(\"version: \",data[\"version\"])"
   ]
  },
  {
   "cell_type": "code",
   "execution_count": 6,
   "metadata": {},
   "outputs": [
    {
     "name": "stdout",
     "output_type": "stream",
     "text": [
      "{'name': 'my name', 'version': '1.2.5'}\n",
      "{'name': 'my name', 'version': '1.2.5'}\n"
     ]
    }
   ],
   "source": [
    "import json\n",
    "#從檔案中讀取JSON資料,放入變數data裡面\n",
    "with open(\"config.json\",mode=\"r\")as file:\n",
    "    data=json.load(file)\n",
    "print(data)#data是一個字典資料\n",
    "data[\"name\"]=\"my name\"#修改變數中的資料\n",
    "#把最新的資料複寫回檔案中\n",
    "with open(\"config.json\",mode=\"w\")as file:\n",
    "    json.dump(data,file)\n",
    "print(data)#data是一個字典資料"
   ]
  }
 ],
 "metadata": {
  "kernelspec": {
   "display_name": "Python 3",
   "language": "python",
   "name": "python3"
  },
  "language_info": {
   "codemirror_mode": {
    "name": "ipython",
    "version": 3
   },
   "file_extension": ".py",
   "mimetype": "text/x-python",
   "name": "python",
   "nbconvert_exporter": "python",
   "pygments_lexer": "ipython3",
   "version": "3.6.7"
  }
 },
 "nbformat": 4,
 "nbformat_minor": 2
}
