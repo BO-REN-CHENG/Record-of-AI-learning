{
 "cells": [
  {
   "cell_type": "markdown",
   "metadata": {},
   "source": [
    "# 3/11 PYTHON 練習22 Python Pandas 資料分析 - 基礎教學\n",
    "* [Python Pandas 資料分析 - 基礎教學 By 彭彭](https://www.youtube.com/watch?v=5QZqzKCDCQ4&list=PL-g0fdC5RMboYEyt6QS2iLb_1m7QcgfHk&index=23)"
   ]
  },
  {
   "cell_type": "markdown",
   "metadata": {},
   "source": [
    "# 載入pandas模組"
   ]
  },
  {
   "cell_type": "code",
   "execution_count": 1,
   "metadata": {},
   "outputs": [],
   "source": [
    "import pandas as pd"
   ]
  },
  {
   "cell_type": "markdown",
   "metadata": {},
   "source": [
    "# 建立Series"
   ]
  },
  {
   "cell_type": "code",
   "execution_count": 10,
   "metadata": {},
   "outputs": [],
   "source": [
    "data=pd.Series([20,10,15])"
   ]
  },
  {
   "cell_type": "markdown",
   "metadata": {},
   "source": [
    "# 基本Series操作"
   ]
  },
  {
   "cell_type": "code",
   "execution_count": 11,
   "metadata": {},
   "outputs": [
    {
     "name": "stdout",
     "output_type": "stream",
     "text": [
      "0    20\n",
      "1    10\n",
      "2    15\n",
      "dtype: int64\n",
      "Max 20\n",
      "Median 15.0\n",
      "\n",
      "-------------------\n",
      "\n",
      "0    40\n",
      "1    20\n",
      "2    30\n",
      "dtype: int64\n",
      "\n",
      "-------------------\n",
      "\n",
      "0    False\n",
      "1     True\n",
      "2    False\n",
      "dtype: bool\n"
     ]
    }
   ],
   "source": [
    "print(data)\n",
    "print(\"Max\",data.max())\n",
    "print(\"Median\",data.median())\n",
    "print(\"\\n-------------------\\n\")\n",
    "data=data*2\n",
    "print(data)\n",
    "print(\"\\n-------------------\\n\")\n",
    "data=data==20\n",
    "print(data)"
   ]
  },
  {
   "cell_type": "markdown",
   "metadata": {},
   "source": [
    "# DataFrame"
   ]
  },
  {
   "cell_type": "code",
   "execution_count": 12,
   "metadata": {},
   "outputs": [],
   "source": [
    "data=pd.DataFrame({\n",
    "    \"name\":[\"Amy\",\"Joun\",\"Bob\"],\n",
    "    \"salary\":[30000,50000,40000]\n",
    "})"
   ]
  },
  {
   "cell_type": "markdown",
   "metadata": {},
   "source": [
    "# 基礎DataFrame操作"
   ]
  },
  {
   "cell_type": "code",
   "execution_count": 13,
   "metadata": {},
   "outputs": [
    {
     "name": "stdout",
     "output_type": "stream",
     "text": [
      "   name  salary\n",
      "0   Amy   30000\n",
      "1  Joun   50000\n",
      "2   Bob   40000\n"
     ]
    }
   ],
   "source": [
    "print(data)"
   ]
  },
  {
   "cell_type": "markdown",
   "metadata": {},
   "source": [
    "# 取得特定的欄位"
   ]
  },
  {
   "cell_type": "code",
   "execution_count": 21,
   "metadata": {},
   "outputs": [
    {
     "name": "stdout",
     "output_type": "stream",
     "text": [
      "0     Amy\n",
      "1    Joun\n",
      "2     Bob\n",
      "Name: name, dtype: object\n",
      "0    30000\n",
      "1    50000\n",
      "2    40000\n",
      "Name: salary, dtype: int64\n",
      "\n",
      "-------------------\n",
      "\n",
      "name        Amy\n",
      "salary    30000\n",
      "Name: 0, dtype: object\n",
      "\n",
      "-------------------\n",
      "\n",
      "   name  salary\n",
      "0   Amy   30000\n",
      "1  Joun   50000\n",
      "\n",
      "-------------------\n",
      "\n",
      "   name  salary\n",
      "0   Amy   30000\n",
      "1  Joun   50000\n"
     ]
    }
   ],
   "source": [
    "print(data[\"name\"])\n",
    "print(data[\"salary\"])\n",
    "print(\"\\n-------------------\\n\")\n",
    "print(data.iloc[0])#印出第一列\n",
    "print(\"\\n-------------------\\n\")\n",
    "print(data.iloc[0:2])\n",
    "print(\"\\n-------------------\\n\")\n",
    "print(data.iloc[:2])"
   ]
  }
 ],
 "metadata": {
  "kernelspec": {
   "display_name": "Python 3",
   "language": "python",
   "name": "python3"
  },
  "language_info": {
   "codemirror_mode": {
    "name": "ipython",
    "version": 3
   },
   "file_extension": ".py",
   "mimetype": "text/x-python",
   "name": "python",
   "nbconvert_exporter": "python",
   "pygments_lexer": "ipython3",
   "version": "3.6.7"
  }
 },
 "nbformat": 4,
 "nbformat_minor": 2
}
