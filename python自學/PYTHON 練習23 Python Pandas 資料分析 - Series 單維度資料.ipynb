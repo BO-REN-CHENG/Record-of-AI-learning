{
 "cells": [
  {
   "cell_type": "markdown",
   "metadata": {},
   "source": [
    "# 3/14 PYTHON 練習23 Python Pandas 資料分析 - Series 單維度資料\n",
    "* [Python Pandas 資料分析 - Series 單維度資料 By 彭彭](https://www.youtube.com/watch?v=175ZZC3Hr0Y&list=PL-g0fdC5RMboYEyt6QS2iLb_1m7QcgfHk&index=24)"
   ]
  },
  {
   "cell_type": "markdown",
   "metadata": {},
   "source": [
    "# 載入 pandas模組"
   ]
  },
  {
   "cell_type": "code",
   "execution_count": 1,
   "metadata": {},
   "outputs": [],
   "source": [
    "import pandas as pd"
   ]
  },
  {
   "cell_type": "markdown",
   "metadata": {},
   "source": [
    "# 資料索引"
   ]
  },
  {
   "cell_type": "code",
   "execution_count": 6,
   "metadata": {},
   "outputs": [
    {
     "name": "stdout",
     "output_type": "stream",
     "text": [
      "0    5\n",
      "1    4\n",
      "2   -2\n",
      "3    3\n",
      "4    7\n",
      "dtype: int64\n",
      "a    5\n",
      "b    4\n",
      "c   -2\n",
      "d    3\n",
      "e    7\n",
      "dtype: int64\n"
     ]
    }
   ],
   "source": [
    "data=pd.Series([5,4,-2,3,7])\n",
    "print(data)\n",
    "data=pd.Series([5,4,-2,3,7],index=[\"a\",\"b\",\"c\",\"d\",\"e\"])\n",
    "print(data)"
   ]
  },
  {
   "cell_type": "markdown",
   "metadata": {},
   "source": [
    "# 觀察資料"
   ]
  },
  {
   "cell_type": "code",
   "execution_count": 9,
   "metadata": {},
   "outputs": [
    {
     "name": "stdout",
     "output_type": "stream",
     "text": [
      "a    5\n",
      "b    4\n",
      "c   -2\n",
      "d    3\n",
      "e    7\n",
      "dtype: int64\n",
      "資料型態 int64\n",
      "資料數量 5\n",
      "資料索引 Index(['a', 'b', 'c', 'd', 'e'], dtype='object')\n"
     ]
    }
   ],
   "source": [
    "data=pd.Series([5,4,-2,3,7],index=[\"a\",\"b\",\"c\",\"d\",\"e\"])\n",
    "print(data)\n",
    "print(\"資料型態\",data.dtype)\n",
    "print(\"資料數量\",data.size)\n",
    "print(\"資料索引\",data.index)"
   ]
  },
  {
   "cell_type": "markdown",
   "metadata": {},
   "source": [
    "# 取得資料:根據順序,根據索引"
   ]
  },
  {
   "cell_type": "code",
   "execution_count": 13,
   "metadata": {},
   "outputs": [
    {
     "name": "stdout",
     "output_type": "stream",
     "text": [
      "-2 5\n",
      "7 3\n"
     ]
    }
   ],
   "source": [
    "print(data[2],data[0])\n",
    "print(data[\"e\"],data[\"d\"])"
   ]
  },
  {
   "cell_type": "markdown",
   "metadata": {},
   "source": [
    "# 數字運算:基本,統計,順序"
   ]
  },
  {
   "cell_type": "code",
   "execution_count": 41,
   "metadata": {},
   "outputs": [
    {
     "name": "stdout",
     "output_type": "stream",
     "text": [
      "a    5\n",
      "b    4\n",
      "c   -2\n",
      "d    3\n",
      "e    7\n",
      "dtype: int64\n",
      "\n",
      "------------------------\n",
      "\n",
      "最大值 7\n",
      "總和 17\n",
      "所有數字乘法所得 -840\n",
      "\n",
      "------------------------\n",
      "\n",
      "平均 3.4\n",
      "標準差 3.361547262794322\n",
      "中位數 4.0\n",
      "\n",
      "------------------------\n",
      "\n",
      "最大的三個數\n",
      " e    7\n",
      "a    5\n",
      "b    4\n",
      "dtype: int64\n",
      "最小的兩個數\n",
      " c   -2\n",
      "d    3\n",
      "dtype: int64\n"
     ]
    }
   ],
   "source": [
    "data=pd.Series([5,4,-2,3,7],index=[\"a\",\"b\",\"c\",\"d\",\"e\"])\n",
    "print(data)\n",
    "print(\"\\n------------------------\\n\")\n",
    "print(\"最大值\",data.max())\n",
    "print(\"總和\",data.sum())\n",
    "print(\"所有數字乘法所得\",data.prod())\n",
    "print(\"\\n------------------------\\n\")\n",
    "print(\"平均\",data.mean())\n",
    "print(\"標準差\",data.std())\n",
    "print(\"中位數\",data.median())\n",
    "print(\"\\n------------------------\\n\")\n",
    "print(\"最大的三個數\\n\",data.nlargest(3))\n",
    "print(\"最小的兩個數\\n\",data.nsmallest(2))"
   ]
  },
  {
   "cell_type": "markdown",
   "metadata": {},
   "source": [
    "# 字串運算:基本,串接,搜尋,取代"
   ]
  },
  {
   "cell_type": "code",
   "execution_count": 43,
   "metadata": {},
   "outputs": [
    {
     "name": "stdout",
     "output_type": "stream",
     "text": [
      "全部變小寫 中文不影響\n",
      " 0        您好\n",
      "1    python\n",
      "2    pandas\n",
      "dtype: object\n",
      "\n",
      "-----------\n",
      "\n",
      "全部變大寫 中文不影響\n",
      " 0        您好\n",
      "1    PYTHON\n",
      "2    PANDAS\n",
      "dtype: object\n",
      "\n",
      "-----------\n",
      "\n",
      "算出每個字串長度\n",
      " 0    2\n",
      "1    6\n",
      "2    6\n",
      "dtype: int64\n",
      "\n",
      "----------------------\n",
      "\n",
      "把字串串起來,可以自訂串接符號\n",
      " 您好,Python,Pandas\n",
      "\n",
      "----------------------\n",
      "\n",
      "判斷字串是否包含特定的字元\n",
      " 0    False\n",
      "1    False\n",
      "2     True\n",
      "dtype: bool\n",
      "\n",
      "----------------------\n",
      "\n",
      "取代某字串為自訂替換字詞\n",
      " 0     hello\n",
      "1    Python\n",
      "2    Pandas\n",
      "dtype: object\n"
     ]
    }
   ],
   "source": [
    "data=pd.Series([\"您好\",\"Python\",\"Pandas\"])\n",
    "print(\"全部變小寫 中文不影響\\n\",data.str.lower())\n",
    "print(\"\\n-----------\\n\")\n",
    "print(\"全部變大寫 中文不影響\\n\",data.str.upper())\n",
    "print(\"\\n-----------\\n\")\n",
    "print(\"算出每個字串長度\\n\",data.str.len())\n",
    "print(\"\\n----------------------\\n\")\n",
    "print(\"把字串串起來,可以自訂串接符號\\n\",data.str.cat(sep=\",\"))\n",
    "print(\"\\n----------------------\\n\")\n",
    "print(\"判斷字串是否包含特定的字元\\n\",data.str.contains(\"Pa\"))\n",
    "print(\"\\n----------------------\\n\")\n",
    "print(\"取代某字串為自訂替換字詞\\n\",data.str.replace(\"您好\",\"hello\"))"
   ]
  }
 ],
 "metadata": {
  "kernelspec": {
   "display_name": "Python 3",
   "language": "python",
   "name": "python3"
  },
  "language_info": {
   "codemirror_mode": {
    "name": "ipython",
    "version": 3
   },
   "file_extension": ".py",
   "mimetype": "text/x-python",
   "name": "python",
   "nbconvert_exporter": "python",
   "pygments_lexer": "ipython3",
   "version": "3.6.7"
  }
 },
 "nbformat": 4,
 "nbformat_minor": 2
}
