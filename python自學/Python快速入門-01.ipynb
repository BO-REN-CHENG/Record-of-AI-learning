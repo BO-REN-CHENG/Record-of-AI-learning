{
 "cells": [
  {
   "cell_type": "code",
   "execution_count": 4,
   "metadata": {},
   "outputs": [
    {
     "name": "stdout",
     "output_type": "stream",
     "text": [
      "Hello World!\n"
     ]
    }
   ],
   "source": [
    "# 使用輸出函數 print() 函數，輸出文字訊息\n",
    "print('Hello World!')"
   ]
  },
  {
   "cell_type": "code",
   "execution_count": null,
   "metadata": {},
   "outputs": [],
   "source": [
    "# 使用輸入函數 input() 函數，讀取輸入 1\n",
    "input_str = input(\"請輸入一個數字:\")\n",
    "#input_str\n",
    "print('輸入的數字是:', input_str)"
   ]
  },
  {
   "cell_type": "code",
   "execution_count": 6,
   "metadata": {},
   "outputs": [
    {
     "name": "stdout",
     "output_type": "stream",
     "text": [
      "請輸入一個人名: 12\n",
      "太神奇了!  12 !\n"
     ]
    }
   ],
   "source": [
    "# 使用輸入函數 input() 函數，讀取輸入 2: 加上預設值\n",
    "input_str = input(\"請輸入一個人名: \") or 'Jack'\n",
    "print('太神奇了! ', input_str, '!')"
   ]
  },
  {
   "cell_type": "markdown",
   "metadata": {},
   "source": [
    "# Ex 1-1. 使用 print() 函數，印出 \"Hello, [自己的名字]!\"\n"
   ]
  },
  {
   "cell_type": "code",
   "execution_count": 7,
   "metadata": {},
   "outputs": [
    {
     "name": "stdout",
     "output_type": "stream",
     "text": [
      "Hello, [鄭博仁]!\n"
     ]
    }
   ],
   "source": [
    "print(\"Hello, [鄭博仁]!\")"
   ]
  },
  {
   "cell_type": "code",
   "execution_count": 20,
   "metadata": {},
   "outputs": [
    {
     "name": "stdout",
     "output_type": "stream",
     "text": [
      "請輸入一個人名: \n",
      "輸入一個人名是: Jack22 \n",
      "-----\n",
      "\n",
      "Jack 你好！\n"
     ]
    }
   ],
   "source": [
    "name = input(\"請輸入一個人名: \") or 'Jack'\n",
    "print('輸入一個人名是:', end=' ')\n",
    "print(name, end='22 ')\n",
    "print(\"\\n-----\\n\")\n",
    "print(name+' 你好！')"
   ]
  },
  {
   "cell_type": "markdown",
   "metadata": {},
   "source": [
    "# 2. 認識 Python 的程式區塊(Identation)"
   ]
  },
  {
   "cell_type": "code",
   "execution_count": 11,
   "metadata": {},
   "outputs": [
    {
     "ename": "IndentationError",
     "evalue": "unexpected indent (<ipython-input-11-55cb73196f3f>, line 3)",
     "output_type": "error",
     "traceback": [
      "\u001b[1;36m  File \u001b[1;32m\"<ipython-input-11-55cb73196f3f>\"\u001b[1;36m, line \u001b[1;32m3\u001b[0m\n\u001b[1;33m    print(\"a is\") # you will get an error here\u001b[0m\n\u001b[1;37m    ^\u001b[0m\n\u001b[1;31mIndentationError\u001b[0m\u001b[1;31m:\u001b[0m unexpected indent\n"
     ]
    }
   ],
   "source": [
    "# 一般區塊錯誤的寫法：上下倆行沒對齊\n",
    "a = 33\n",
    " print(\"a is\") # you will get an error here"
   ]
  },
  {
   "cell_type": "code",
   "execution_count": 12,
   "metadata": {},
   "outputs": [
    {
     "name": "stdout",
     "output_type": "stream",
     "text": [
      "a is\n"
     ]
    }
   ],
   "source": [
    "a = 33\n",
    "print(\"a is\") # you will get an error here"
   ]
  },
  {
   "cell_type": "code",
   "execution_count": 14,
   "metadata": {},
   "outputs": [
    {
     "ename": "IndentationError",
     "evalue": "expected an indented block (<ipython-input-14-f88fde5826fb>, line 5)",
     "output_type": "error",
     "traceback": [
      "\u001b[1;36m  File \u001b[1;32m\"<ipython-input-14-f88fde5826fb>\"\u001b[1;36m, line \u001b[1;32m5\u001b[0m\n\u001b[1;33m    print(\"b is greater than a\") # you will get an error here\u001b[0m\n\u001b[1;37m        ^\u001b[0m\n\u001b[1;31mIndentationError\u001b[0m\u001b[1;31m:\u001b[0m expected an indented block\n"
     ]
    }
   ],
   "source": [
    "# 錯誤的 if 區塊寫法：if 下一行沒內縮\n",
    "a = 33\n",
    "b = 200\n",
    "if b > a:\n",
    "print(\"b is greater than a\") # you will get an error here"
   ]
  },
  {
   "cell_type": "code",
   "execution_count": 15,
   "metadata": {},
   "outputs": [
    {
     "name": "stdout",
     "output_type": "stream",
     "text": [
      "b is greater than a\n"
     ]
    }
   ],
   "source": [
    "# 錯誤的 if 區塊寫法：if 下一行沒內縮\n",
    "a = 33\n",
    "b = 200\n",
    "if b > a:\n",
    "    print(\"b is greater than a\") # you will get an error here"
   ]
  },
  {
   "cell_type": "code",
   "execution_count": null,
   "metadata": {},
   "outputs": [],
   "source": [
    "# 錯誤的 for 區塊寫法：for 下一行沒內縮\n",
    "start = 1\n",
    "upper_limit = 5\n",
    "step = 2\n",
    "for i in range(start, upper_limit, step):\n",
    "j = i + 1    # you will get an error here\n",
    "    print('i=',i,', j=',j)"
   ]
  },
  {
   "cell_type": "code",
   "execution_count": 16,
   "metadata": {},
   "outputs": [
    {
     "name": "stdout",
     "output_type": "stream",
     "text": [
      "i= 1 , j= 2\n",
      "i= 3 , j= 4\n"
     ]
    }
   ],
   "source": [
    "# 錯誤的 for 區塊寫法：for 下一行沒內縮\n",
    "start = 1\n",
    "upper_limit = 5\n",
    "step = 2\n",
    "for i in range(start, upper_limit, step):\n",
    "    j = i + 1    # you will get an error here\n",
    "    print('i=',i,', j=',j)"
   ]
  },
  {
   "cell_type": "code",
   "execution_count": 17,
   "metadata": {},
   "outputs": [
    {
     "ename": "IndentationError",
     "evalue": "unexpected indent (<ipython-input-17-10fc826df3ad>, line 6)",
     "output_type": "error",
     "traceback": [
      "\u001b[1;36m  File \u001b[1;32m\"<ipython-input-17-10fc826df3ad>\"\u001b[1;36m, line \u001b[1;32m6\u001b[0m\n\u001b[1;33m    choice = input(\"輸入 'Y' 或 'N'\")\u001b[0m\n\u001b[1;37m    ^\u001b[0m\n\u001b[1;31mIndentationError\u001b[0m\u001b[1;31m:\u001b[0m unexpected indent\n"
     ]
    }
   ],
   "source": [
    "# 錯誤的 while 區塊寫法：while 下一行沒內縮\n",
    "# while 迴圈確認特定輸入：'Y' 或 'N'\n",
    "choice = input(\"輸入 'Y' 或 'N'\")\n",
    "while not(choice == 'Y' or choice == 'N'):\n",
    " print('你輸入的是：', choice)    # you will get an error here\n",
    "   choice = input(\"輸入 'Y' 或 'N'\")"
   ]
  },
  {
   "cell_type": "code",
   "execution_count": 18,
   "metadata": {},
   "outputs": [
    {
     "name": "stdout",
     "output_type": "stream",
     "text": [
      "輸入 'Y' 或 'N'Y\n"
     ]
    }
   ],
   "source": [
    "# 錯誤的 while 區塊寫法：while 下一行沒內縮\n",
    "# while 迴圈確認特定輸入：'Y' 或 'N'\n",
    "choice = input(\"輸入 'Y' 或 'N'\")\n",
    "while not(choice == 'Y' or choice == 'N'):\n",
    "    print('你輸入的是：', choice)    # you will get an error here\n",
    "    choice = input(\"輸入 'Y' 或 'N'\")"
   ]
  },
  {
   "cell_type": "markdown",
   "metadata": {},
   "source": [
    "# 3. 認識「變數(variable)」與「資料型態(data type)」"
   ]
  },
  {
   "cell_type": "code",
   "execution_count": 21,
   "metadata": {},
   "outputs": [],
   "source": [
    "# 變數設定\n",
    "msg = 'I have 1 book.'   # 設定一個變數 msg，並將其內容設定為 'I have 1 book.' 這個字串.\n",
    "msg = 70                 # 設定一個變數 msg，並將其內容設定為 70 這個數字.\n",
    "msg = -61.0              # 設定一個變數 msg，並將其內容設定為 -60.0 這個數字."
   ]
  },
  {
   "cell_type": "code",
   "execution_count": 22,
   "metadata": {},
   "outputs": [
    {
     "data": {
      "text/plain": [
       "float"
      ]
     },
     "execution_count": 22,
     "metadata": {},
     "output_type": "execute_result"
    }
   ],
   "source": [
    "# 利用 type() 函數，來顯示變數的資料型態\n",
    "type(msg)"
   ]
  },
  {
   "cell_type": "code",
   "execution_count": 23,
   "metadata": {},
   "outputs": [
    {
     "name": "stdout",
     "output_type": "stream",
     "text": [
      "1 3.14\n"
     ]
    }
   ],
   "source": [
    "# 變數設定\n",
    "i = 1      # (整數)數字型態\n",
    "f = 3.14   # (浮點數)數字型態\n",
    "print(i, f)"
   ]
  },
  {
   "cell_type": "code",
   "execution_count": 24,
   "metadata": {},
   "outputs": [
    {
     "name": "stdout",
     "output_type": "stream",
     "text": [
      "<class 'int'> <class 'float'> <class 'str'>\n"
     ]
    }
   ],
   "source": [
    "# 變數的設定，也可寫成這樣\n",
    "i, f, j = 1, 3.14, 'Hello'\n",
    "print(type(i), type(f), type(j))"
   ]
  },
  {
   "cell_type": "code",
   "execution_count": 37,
   "metadata": {},
   "outputs": [
    {
     "name": "stdout",
     "output_type": "stream",
     "text": [
      "請輸入一個數字:2\n",
      "輸入的型態是: <class 'str'>\n"
     ]
    }
   ],
   "source": [
    "# 使用輸入函數 input() 所讀取的，真的是數字型態嗎？\n",
    "input_str =input(\"請輸入一個數字:\")\n",
    "print('輸入的型態是:', type(input_str))"
   ]
  },
  {
   "cell_type": "markdown",
   "metadata": {},
   "source": [
    "### Ex 3-1. 試著執行以下程式碼，想看看是什麼意思？"
   ]
  },
  {
   "cell_type": "code",
   "execution_count": 26,
   "metadata": {},
   "outputs": [
    {
     "name": "stdout",
     "output_type": "stream",
     "text": [
      "x: 8\n",
      "y: Hello\n",
      "x: Hello , y: 8\n"
     ]
    }
   ],
   "source": [
    "x = 8\n",
    "print('x:', x)\n",
    "y = 'Hello'\n",
    "print('y:', y)\n",
    " \n",
    "x, y = y, x\n",
    "print('x:', x, ', y:', y)"
   ]
  },
  {
   "cell_type": "markdown",
   "metadata": {},
   "source": [
    "# 4. 認識註解"
   ]
  },
  {
   "cell_type": "code",
   "execution_count": 27,
   "metadata": {},
   "outputs": [
    {
     "name": "stdout",
     "output_type": "stream",
     "text": [
      "44444\n"
     ]
    }
   ],
   "source": [
    "# 這是單行註解\n",
    "\n",
    "\n",
    "# 以下是多行註解的例子：用 3 個單引號當起始，結束也是用 3 個單引號。\n",
    "'''\n",
    "這是\n",
    "多行\n",
    "的註解！\n",
    "i = 0\n",
    "msg = 'Good Morning!'\n",
    "print(i, msg)\n",
    "'''\n",
    "\n",
    "# 以下行末註解\n",
    "print('44444')   #行末註解\n"
   ]
  },
  {
   "cell_type": "markdown",
   "metadata": {},
   "source": [
    "# 5. 認識數字型態\n",
    "### Python 有三種數字型態\n",
    "* 整數   int\n",
    "* 浮點數 float\n",
    "* 複數   complex"
   ]
  },
  {
   "cell_type": "code",
   "execution_count": 28,
   "metadata": {},
   "outputs": [
    {
     "name": "stdout",
     "output_type": "stream",
     "text": [
      "<class 'int'>\n",
      "<class 'float'>\n",
      "<class 'complex'>\n"
     ]
    }
   ],
   "source": [
    "# --------------------------------------------\n",
    "# Python 的三種數字型態\n",
    "x = 1    # int\n",
    "y = 2.8  # float\n",
    "z = 1j   # complex, 數字後面加個 'j'\n",
    "\n",
    "print(type(x))\n",
    "print(type(y))\n",
    "print(type(z))"
   ]
  },
  {
   "cell_type": "code",
   "execution_count": 30,
   "metadata": {},
   "outputs": [
    {
     "name": "stdout",
     "output_type": "stream",
     "text": [
      "<class 'int'>\n",
      "<class 'int'>\n",
      "<class 'int'>\n"
     ]
    }
   ],
   "source": [
    "# 整數：是不帶小數點的正數或負數\n",
    "x = 1\n",
    "y = 35656222554887711\n",
    "z = -3255522\n",
    "\n",
    "print(type(x))\n",
    "print(type(y))\n",
    "print(type(z)) "
   ]
  },
  {
   "cell_type": "code",
   "execution_count": 38,
   "metadata": {},
   "outputs": [
    {
     "name": "stdout",
     "output_type": "stream",
     "text": [
      "<class 'float'>\n",
      "<class 'float'>\n",
      "<class 'float'>\n"
     ]
    }
   ],
   "source": [
    "# 浮點數 1：帶小數點的正數或負數\n",
    "x = 1.10\n",
    "y = 1.0\n",
    "z = -35.59\n",
    "\n",
    "print(type(x))\n",
    "print(type(y))\n",
    "print(type(z)) "
   ]
  },
  {
   "cell_type": "code",
   "execution_count": 41,
   "metadata": {},
   "outputs": [
    {
     "name": "stdout",
     "output_type": "stream",
     "text": [
      "<class 'float'>\n",
      "<class 'float'>\n",
      "120000.0\n",
      "<class 'float'>\n",
      "-8.77e+101\n"
     ]
    }
   ],
   "source": [
    "# 浮點數 2：科學記號法，用 e 代表 10 的次方\n",
    "x = 35e3      # x = 35 * (10的3次方)\n",
    "y = 12E4\n",
    "z = -87.7e100\n",
    "\n",
    "print(type(x))\n",
    "print(type(y))\n",
    "print(y)\n",
    "print(type(z)) \n",
    "print(z)"
   ]
  },
  {
   "cell_type": "code",
   "execution_count": 42,
   "metadata": {},
   "outputs": [
    {
     "name": "stdout",
     "output_type": "stream",
     "text": [
      "<class 'complex'>\n",
      "<class 'complex'>\n",
      "<class 'complex'>\n"
     ]
    }
   ],
   "source": [
    "# 複數：科學記號法，用 j 代表虛數部份\n",
    "x = 3+5j\n",
    "y = 5j\n",
    "z = -12j\n",
    "\n",
    "print(type(x))\n",
    "print(type(y))\n",
    "print(type(z)) "
   ]
  },
  {
   "cell_type": "markdown",
   "metadata": {},
   "source": [
    "# Ex 5-1. 試試執行以下的程式碼，看看輸出長什麼樣子？"
   ]
  },
  {
   "cell_type": "code",
   "execution_count": null,
   "metadata": {},
   "outputs": [],
   "source": [
    "x = 3+5j\n",
    "y = 5\n",
    "i = x + y"
   ]
  },
  {
   "cell_type": "code",
   "execution_count": 44,
   "metadata": {},
   "outputs": [
    {
     "name": "stdout",
     "output_type": "stream",
     "text": [
      "(3+5j) 5j (-0-12j)\n"
     ]
    }
   ],
   "source": [
    "print(x,y,z)"
   ]
  },
  {
   "cell_type": "markdown",
   "metadata": {},
   "source": [
    "# 6. 認識字串型態"
   ]
  },
  {
   "cell_type": "code",
   "execution_count": 47,
   "metadata": {},
   "outputs": [],
   "source": [
    "# 巢狀引號的用法\n",
    "msg1 = \"Where's my book\"\n",
    "msg2 = \"It's on the TV!\"\n",
    "msg3 = '她驚叫的說\"我的老天!\"'\n",
    "msg4 = msg1 + msg2"
   ]
  },
  {
   "cell_type": "markdown",
   "metadata": {},
   "source": [
    "### Ex 6-1. 試著執行上面的 print(msg4)，看看輸出長什麼樣子？"
   ]
  },
  {
   "cell_type": "code",
   "execution_count": 48,
   "metadata": {},
   "outputs": [
    {
     "name": "stdout",
     "output_type": "stream",
     "text": [
      "Where's my bookIt's on the TV!\n"
     ]
    }
   ],
   "source": [
    "print(msg4)"
   ]
  },
  {
   "cell_type": "markdown",
   "metadata": {},
   "source": [
    "### Ex 6-2. 試著將上一題的輸出，改得好看一點。(例如該有空格的地方沒空，如何去加個空格。)"
   ]
  },
  {
   "cell_type": "code",
   "execution_count": 51,
   "metadata": {},
   "outputs": [
    {
     "name": "stdout",
     "output_type": "stream",
     "text": [
      "Where's my book .  It's on the TV!\n"
     ]
    }
   ],
   "source": [
    "print(msg1,\". \",msg2)"
   ]
  },
  {
   "cell_type": "code",
   "execution_count": 52,
   "metadata": {},
   "outputs": [
    {
     "name": "stdout",
     "output_type": "stream",
     "text": [
      "x: t\n",
      "x: T\n"
     ]
    }
   ],
   "source": [
    "# --------------------------------------------\n",
    "# 字串大小寫轉換\n",
    "#\n",
    "\n",
    "# 轉小寫\n",
    "x = 'T'.lower()\n",
    "print('x:', x)\n",
    "\n",
    "# 轉大寫\n",
    "x = x.upper()\n",
    "print('x:', x)"
   ]
  },
  {
   "cell_type": "markdown",
   "metadata": {},
   "source": [
    "### Ex 6-3. 試著將上面的 x 的內容改成一個句子，再跑跑看大小寫轉換。\n",
    "* 例如：x = 'Don't Worry Be Happy!'.lower()  # 但這裡有錯誤，須先修正"
   ]
  },
  {
   "cell_type": "code",
   "execution_count": 56,
   "metadata": {},
   "outputs": [
    {
     "name": "stdout",
     "output_type": "stream",
     "text": [
      "don't worry be happy!\n"
     ]
    }
   ],
   "source": [
    "x = 'Don\\'t Worry Be Happy!'\n",
    "x=x.lower()\n",
    "print(x)"
   ]
  },
  {
   "cell_type": "code",
   "execution_count": 57,
   "metadata": {},
   "outputs": [
    {
     "name": "stdout",
     "output_type": "stream",
     "text": [
      "1. new_str: llo World!\n",
      "2. new_str: Hello Worl\n",
      "2. new_str: d!\n",
      "3. new_str: llo Worl\n",
      "4. new_str: llo Wo\n"
     ]
    }
   ],
   "source": [
    "# --------------------------------------------\n",
    "# 字串分割 String Split\n",
    "# 說明：\n",
    "# 1. x[start_index:end_index] => 對字串 x ，從 start_index 開始，取到 end_index 之前位置(不包含 end_index)的字母。\n",
    "# 2. 如果省略 start_index，例如：x[:end_index]，就表示從頭開始取，取到 end_index 之前位置(不包含 end_index)的字母。\n",
    "# 3. 如果省略 end_index, 例如：x[start_index:]，就表示從 start_index 開始取，取到結束。\n",
    "# 4. start_index, end_index: 可正可負。正：從左邊開始算起。負：從右邊(字串尾)開始算起。  \n",
    "# \n",
    "\n",
    "x = \"Hello World!\"\n",
    "\n",
    "# \n",
    "new_str = x[2:]\n",
    "print('1. new_str:', new_str)\n",
    "\n",
    "new_str = x[:-2]\n",
    "print('2. new_str:', new_str)\n",
    "\n",
    "new_str = x[-2:]\n",
    "print('2. new_str:', new_str)\n",
    "\n",
    "new_str = x[2:-2]\n",
    "print('3. new_str:', new_str)\n",
    "\n",
    "new_str = x[2:8]\n",
    "print('4. new_str:', new_str)"
   ]
  },
  {
   "cell_type": "markdown",
   "metadata": {},
   "source": [
    "### Ex 6-4. 試著將上面的 x 的內容改成如下中文語句，再跑跑看。"
   ]
  },
  {
   "cell_type": "code",
   "execution_count": 60,
   "metadata": {},
   "outputs": [
    {
     "name": "stdout",
     "output_type": "stream",
     "text": [
      "1. new_str: 自來水來自海上\n",
      "2. new_str: 上海自來水來自\n",
      "2. new_str: 海上\n",
      "3. new_str: 自來水來自\n",
      "4. new_str: 自來水來自海\n"
     ]
    }
   ],
   "source": [
    "x = \"上海自來水來自海上\"\n",
    "\n",
    "# \n",
    "new_str = x[2:]\n",
    "print('1. new_str:', new_str)\n",
    "\n",
    "new_str = x[:-2]\n",
    "print('2. new_str:', new_str)\n",
    "\n",
    "new_str = x[-2:]\n",
    "print('2. new_str:', new_str)\n",
    "\n",
    "new_str = x[2:-2]\n",
    "print('3. new_str:', new_str)\n",
    "\n",
    "new_str = x[2:8]\n",
    "print('4. new_str:', new_str)"
   ]
  },
  {
   "cell_type": "code",
   "execution_count": 61,
   "metadata": {},
   "outputs": [
    {
     "name": "stdout",
     "output_type": "stream",
     "text": [
      "語法 1：I want 3 pieces of item 567 for 49.95 dollars.\n",
      "語法 2: I want to pay 49.95 dollars for 3 pieces of item 567.\n"
     ]
    }
   ],
   "source": [
    "# --------------------------------------------\n",
    "# 利用 format() 函數，將參數填入語句中\n",
    "#\n",
    "quantity = 3\n",
    "itemno = 567\n",
    "price = 49.95\n",
    "\n",
    "# 語法 1: 當使用空的大括號，參數並會由左至右依序填入語句中\n",
    "myorder = \"語法 1：I want {} pieces of item {} for {} dollars.\"\n",
    "print(myorder.format(quantity, itemno, price))\n",
    "\n",
    "# 語法 2: 當使用指定參數位置的大括號時，參數則依指定方式填入\n",
    "myorder = \"語法 2: I want to pay {2} dollars for {0} pieces of item {1}.\"\n",
    "print(myorder.format(quantity, itemno, price))"
   ]
  },
  {
   "cell_type": "code",
   "execution_count": 68,
   "metadata": {},
   "outputs": [
    {
     "name": "stdout",
     "output_type": "stream",
     "text": [
      "We are the so-called \"Vikings\" from the north.\n"
     ]
    }
   ],
   "source": [
    "# --------------------------------------------\n",
    "# Escape 字元: '\\' 的用法\n",
    "#\n",
    "txt = \"We are the so-called \\\"Vikings\\\" from the north.\"  # you will get an error here\n",
    "print(txt)"
   ]
  },
  {
   "cell_type": "markdown",
   "metadata": {},
   "source": [
    "# 6A. 字串與 replace() 函數\n",
    "語法：\n",
    "string.replace(oldvalue, newvalue, [count]) "
   ]
  },
  {
   "cell_type": "code",
   "execution_count": 65,
   "metadata": {},
   "outputs": [
    {
     "name": "stdout",
     "output_type": "stream",
     "text": [
      "I like one banana, two apples, three apples.\n"
     ]
    }
   ],
   "source": [
    "# 認識 replace() 函數\n",
    "# 以下會把兩個 bananas 取代為 apples \n",
    "txt = \"I like one banana, two bananas, three bananas.\"\n",
    "x = txt.replace(\"bananas\", \"apples\")\n",
    "print(x) "
   ]
  },
  {
   "cell_type": "markdown",
   "metadata": {},
   "source": [
    "### Ex 6A-1. 試著執行以下程式碼，看看是否與上面的結果相同？試著隨意變更 [count]，再跑程式看看。"
   ]
  },
  {
   "cell_type": "code",
   "execution_count": 71,
   "metadata": {},
   "outputs": [
    {
     "name": "stdout",
     "output_type": "stream",
     "text": [
      "three three was a race horse, two two was one too.\n",
      "three three was a race horse, two two was three too.\n"
     ]
    }
   ],
   "source": [
    "txt = \"one one was a race horse, two two was one too.\"\n",
    "x = txt.replace(\"one\", \"three\", 2)\n",
    "print(x) \n",
    "txt = \"one one was a race horse, two two was one too.\"\n",
    "x = txt.replace(\"one\", \"three\", 3)\n",
    "print(x) "
   ]
  },
  {
   "cell_type": "markdown",
   "metadata": {},
   "source": [
    "# 7. 認識條件式 if else\n",
    "Note 1: if 的這行，最後都是以「:」作為結束。\n",
    " \n",
    "Note 2: if 的下一行，就是一個子程式區塊的開始，所以程式碼都必須再內縮。\n",
    "*   相等 Equals: a == b\n",
    "*   不相等 Not Equals: a != b\n",
    "*   小於 Less than: a < b\n",
    "*   小於等於 Less than or equal to: a <= b\n",
    "*   大於 Greater than: a > b\n",
    "*   大於等於 Greater than or equal to: a >= b"
   ]
  },
  {
   "cell_type": "code",
   "execution_count": 72,
   "metadata": {},
   "outputs": [
    {
     "ename": "IndentationError",
     "evalue": "expected an indented block (<ipython-input-72-efb32e7c8abe>, line 5)",
     "output_type": "error",
     "traceback": [
      "\u001b[1;36m  File \u001b[1;32m\"<ipython-input-72-efb32e7c8abe>\"\u001b[1;36m, line \u001b[1;32m5\u001b[0m\n\u001b[1;33m    print(\"b is greater than a\") # you will get an error here\u001b[0m\n\u001b[1;37m        ^\u001b[0m\n\u001b[1;31mIndentationError\u001b[0m\u001b[1;31m:\u001b[0m expected an indented block\n"
     ]
    }
   ],
   "source": [
    "# 錯誤的 if 區塊寫法：if 下一行沒內縮\n",
    "a = 33\n",
    "b = 200\n",
    "if b > a:             \n",
    "print(\"b is greater than a\") # you will get an error here"
   ]
  },
  {
   "cell_type": "code",
   "execution_count": 73,
   "metadata": {},
   "outputs": [
    {
     "name": "stdout",
     "output_type": "stream",
     "text": [
      "b is greater than a\n"
     ]
    }
   ],
   "source": [
    "# 錯誤的 if 區塊寫法：if 下一行沒內縮\n",
    "a = 33\n",
    "b = 200\n",
    "if b > a:             \n",
    "    print(\"b is greater than a\") # you will get an error here"
   ]
  },
  {
   "cell_type": "code",
   "execution_count": 74,
   "metadata": {},
   "outputs": [
    {
     "name": "stdout",
     "output_type": "stream",
     "text": [
      "b is greater than a\n"
     ]
    }
   ],
   "source": [
    "# if else 型態 1\n",
    "a = 33\n",
    "b = 200\n",
    "if b > a:     # <--- 這一行的結尾一定要是 \":\" \n",
    "   print(\"b is greater than a\") "
   ]
  },
  {
   "cell_type": "code",
   "execution_count": 75,
   "metadata": {},
   "outputs": [
    {
     "name": "stdout",
     "output_type": "stream",
     "text": [
      "b is greater than a\n"
     ]
    }
   ],
   "source": [
    "# if else 型態 1\n",
    "a = 33\n",
    "b = 200\n",
    "if b > a:     # <--- 這一行的結尾一定要是 \":\" \n",
    "    print(\"b is greater than a\") "
   ]
  },
  {
   "cell_type": "code",
   "execution_count": 76,
   "metadata": {},
   "outputs": [
    {
     "name": "stdout",
     "output_type": "stream",
     "text": [
      "a and b are equal\n"
     ]
    }
   ],
   "source": [
    "# if else 型態 2\n",
    "a = 33\n",
    "b = 33\n",
    "if b > a:\n",
    "    print(\"b is greater than a\")\n",
    "elif a == b:\n",
    "    print(\"a and b are equal\")"
   ]
  },
  {
   "cell_type": "code",
   "execution_count": 77,
   "metadata": {},
   "outputs": [
    {
     "name": "stdout",
     "output_type": "stream",
     "text": [
      "a is greater than b\n"
     ]
    }
   ],
   "source": [
    "# if else 型態 3\n",
    "a = 200\n",
    "b = 33\n",
    "if b > a:\n",
    "    print(\"b is greater than a\")\n",
    "elif a == b:\n",
    "    print(\"a and b are equal\")\n",
    "else:\n",
    "    print(\"a is greater than b\")"
   ]
  },
  {
   "cell_type": "code",
   "execution_count": 79,
   "metadata": {},
   "outputs": [
    {
     "name": "stdout",
     "output_type": "stream",
     "text": [
      "Both conditions are True\n"
     ]
    }
   ],
   "source": [
    "# 用 and 連接多個判斷式\n",
    "a = 200\n",
    "b = 33\n",
    "c = 500\n",
    "if a > b and c > a:\n",
    "    print(\"Both conditions are True\")"
   ]
  },
  {
   "cell_type": "code",
   "execution_count": 80,
   "metadata": {},
   "outputs": [
    {
     "name": "stdout",
     "output_type": "stream",
     "text": [
      "At least one of the conditions is True\n"
     ]
    }
   ],
   "source": [
    "# 用 or 連接多個判斷式\n",
    "a = 200\n",
    "b = 33\n",
    "c = 500\n",
    "if a > b or a > c:\n",
    "    print(\"At least one of the conditions is True\")"
   ]
  },
  {
   "cell_type": "markdown",
   "metadata": {},
   "source": [
    "### Ex 7-1 輸入一個 i，並檢查輸入的 i 是否為數字字串？是數字，就印出 \"你輸入的是數字 !\"。若為非數字，就印出 \"你輸入的是字串 !\"。"
   ]
  },
  {
   "cell_type": "code",
   "execution_count": 2,
   "metadata": {},
   "outputs": [
    {
     "name": "stdout",
     "output_type": "stream",
     "text": [
      "輸入一個i: 2\n",
      "你輸入的是字串 !\n"
     ]
    }
   ],
   "source": [
    "n=input(\"輸入一個i: \")\n",
    "if(type(n)==int):\n",
    "    print(\"你輸入的是數字 !\")\n",
    "elif(type(n)==str):\n",
    "    print(\"你輸入的是字串 !\")\n",
    "else:\n",
    "    print(\"none\")"
   ]
  },
  {
   "cell_type": "markdown",
   "metadata": {},
   "source": [
    "### Ex 7-2 提示「請輸入一個數字(必須是 1 到 7):」，並根據所輸入的數字，印出如下訊息："
   ]
  },
  {
   "cell_type": "markdown",
   "metadata": {},
   "source": [
    "# 8. 認識 while 迴圈\n",
    "Note 1: while 的這行，最後都是以「:」作為結束。\n",
    " \n",
    "Note 2: while 迴圈下一行，就是一個子程式區塊的開始，所以程式碼都必須再內縮。"
   ]
  },
  {
   "cell_type": "code",
   "execution_count": null,
   "metadata": {},
   "outputs": [
    {
     "name": "stdout",
     "output_type": "stream",
     "text": [
      "輸入 'Y' 或 'N'02\n",
      "你輸入的是： 02\n",
      "輸入 'Y' 或 'N'\n",
      "你輸入的是： \n"
     ]
    }
   ],
   "source": [
    "# while 迴圈確認特定輸入：'Y' 或 'N'\n",
    "choice = input(\"輸入 'Y' 或 'N'\")\n",
    "while not(choice == 'Y' or choice == 'N'):    # <--- 這一行的結尾一定要是 \":\" \n",
    "    print('你輸入的是：', choice)\n",
    "    choice = input(\"輸入 'Y' 或 'N'\")\n",
    "\n",
    "# 當輸入是 'Y' 或 'N' 時，while 迴圈就會結束，程式即可繼續往下了"
   ]
  },
  {
   "cell_type": "markdown",
   "metadata": {},
   "source": [
    "### Ex 8-1 提示「請輸入一串數字 i」 ，並檢查輸入的 i 是否真的是數字？若不是數字，就一直重複提示「輸入的不是數字，請輸入一串數字」，直到確認輸入的數字為止，然後印出 \"你輸入的是數字是 !\"。"
   ]
  },
  {
   "cell_type": "markdown",
   "metadata": {},
   "source": [
    "### Ex 8-2 使用 while 寫個猜數字遊戲，直到猜中為止。"
   ]
  },
  {
   "cell_type": "code",
   "execution_count": null,
   "metadata": {},
   "outputs": [],
   "source": []
  },
  {
   "cell_type": "code",
   "execution_count": null,
   "metadata": {},
   "outputs": [],
   "source": []
  },
  {
   "cell_type": "code",
   "execution_count": null,
   "metadata": {},
   "outputs": [],
   "source": []
  },
  {
   "cell_type": "code",
   "execution_count": null,
   "metadata": {},
   "outputs": [],
   "source": []
  },
  {
   "cell_type": "code",
   "execution_count": null,
   "metadata": {},
   "outputs": [],
   "source": []
  }
 ],
 "metadata": {
  "kernelspec": {
   "display_name": "Python 3",
   "language": "python",
   "name": "python3"
  },
  "language_info": {
   "codemirror_mode": {
    "name": "ipython",
    "version": 3
   },
   "file_extension": ".py",
   "mimetype": "text/x-python",
   "name": "python",
   "nbconvert_exporter": "python",
   "pygments_lexer": "ipython3",
   "version": "3.6.8"
  }
 },
 "nbformat": 4,
 "nbformat_minor": 2
}
