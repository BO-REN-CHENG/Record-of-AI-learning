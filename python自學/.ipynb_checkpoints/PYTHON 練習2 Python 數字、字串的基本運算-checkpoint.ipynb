{
 "cells": [
  {
   "cell_type": "markdown",
   "metadata": {},
   "source": [
    "# 2/26 PYTHON 練習2 Python 數字、字串的基本運算\n",
    "* [Python 數字、字串的基本運算](https://www.youtube.com/watch?v=bLRa4TZ99aY&list=PL-g0fdC5RMboYEyt6QS2iLb_1m7QcgfHk&index=3)"
   ]
  },
  {
   "cell_type": "markdown",
   "metadata": {},
   "source": [
    "## 基礎補充\n"
   ]
  },
  {
   "cell_type": "code",
   "execution_count": 5,
   "metadata": {},
   "outputs": [
    {
     "name": "stdout",
     "output_type": "stream",
     "text": [
      "1\n"
     ]
    }
   ],
   "source": [
    "z=7%3 #取餘數 \n",
    "print(z)"
   ]
  },
  {
   "cell_type": "markdown",
   "metadata": {},
   "source": [
    "## x的y次方\n",
    "x**y\n"
   ]
  },
  {
   "cell_type": "code",
   "execution_count": 4,
   "metadata": {},
   "outputs": [
    {
     "name": "stdout",
     "output_type": "stream",
     "text": [
      "8\n",
      "1.4142135623730951\n"
     ]
    }
   ],
   "source": [
    "z=2**3\n",
    "print(z)\n",
    "z=2**0.5#等同於開根號\n",
    "print(z)"
   ]
  },
  {
   "cell_type": "markdown",
   "metadata": {},
   "source": [
    "## 小數除法\n",
    "x/y\n",
    "## 整數除法\n",
    "x//y"
   ]
  },
  {
   "cell_type": "code",
   "execution_count": 3,
   "metadata": {},
   "outputs": [
    {
     "name": "stdout",
     "output_type": "stream",
     "text": [
      "0.6666666666666666\n",
      "0\n"
     ]
    }
   ],
   "source": [
    "z=2/3\n",
    "print(z)\n",
    "z=2//3\n",
    "print(z)"
   ]
  },
  {
   "cell_type": "markdown",
   "metadata": {},
   "source": [
    "# 字串運算"
   ]
  },
  {
   "cell_type": "markdown",
   "metadata": {},
   "source": [
    "## 跳脫　加\\"
   ]
  },
  {
   "cell_type": "code",
   "execution_count": 7,
   "metadata": {},
   "outputs": [
    {
     "name": "stdout",
     "output_type": "stream",
     "text": [
      "hello\n",
      "hel\"lo\n"
     ]
    }
   ],
   "source": [
    "s=\"hello\"\n",
    "print(s)\n",
    "s=\"hel\\\"lo\"\n",
    "print(s)"
   ]
  },
  {
   "cell_type": "markdown",
   "metadata": {},
   "source": [
    "## 字串串接\n",
    "* \"a\"+\"b\"\n",
    "* \"a\" \"b\""
   ]
  },
  {
   "cell_type": "code",
   "execution_count": 8,
   "metadata": {},
   "outputs": [
    {
     "name": "stdout",
     "output_type": "stream",
     "text": [
      "helloworld\n",
      "helloworld\n"
     ]
    }
   ],
   "source": [
    "s=\"hello\"+\"world\"\n",
    "print(s)\n",
    "s=\"hello\"\"world\"\n",
    "print(s)"
   ]
  },
  {
   "cell_type": "markdown",
   "metadata": {},
   "source": [
    "## 換行"
   ]
  },
  {
   "cell_type": "code",
   "execution_count": 13,
   "metadata": {},
   "outputs": [
    {
     "name": "stdout",
     "output_type": "stream",
     "text": [
      "1.hello\n",
      "world\n",
      "2.hello\n",
      "world\n",
      "\n",
      "3.hello\n",
      "\n",
      "\n",
      "world\n",
      "\n"
     ]
    }
   ],
   "source": [
    "s=\"1.hello\\nworld\"\n",
    "print(s)\n",
    "s=\"\"\"2.hello\n",
    "world\n",
    "\"\"\"\n",
    "print(s)\n",
    "s=\"\"\"3.hello\n",
    "\n",
    "\n",
    "world\n",
    "\"\"\"\n",
    "print(s)"
   ]
  },
  {
   "cell_type": "markdown",
   "metadata": {},
   "source": [
    "## 字串重複"
   ]
  },
  {
   "cell_type": "code",
   "execution_count": 14,
   "metadata": {},
   "outputs": [
    {
     "name": "stdout",
     "output_type": "stream",
     "text": [
      "hellohellohello\n"
     ]
    }
   ],
   "source": [
    "s=\"hello\"*3\n",
    "print(s)"
   ]
  },
  {
   "cell_type": "markdown",
   "metadata": {},
   "source": [
    "## 字串標號\n",
    "## [:]用法\n",
    "* 包含開頭不含結尾"
   ]
  },
  {
   "cell_type": "code",
   "execution_count": 18,
   "metadata": {},
   "outputs": [
    {
     "name": "stdout",
     "output_type": "stream",
     "text": [
      "el\n",
      "ell\n",
      "ello\n",
      "hell\n"
     ]
    }
   ],
   "source": [
    "s=\"hello\"\n",
    "print(s[1:3])\n",
    "s=\"hello\"\n",
    "print(s[1:4])\n",
    "s=\"hello\"\n",
    "print(s[1:])\n",
    "s=\"hello\"\n",
    "print(s[:4])"
   ]
  },
  {
   "cell_type": "code",
   "execution_count": null,
   "metadata": {},
   "outputs": [],
   "source": []
  }
 ],
 "metadata": {
  "kernelspec": {
   "display_name": "Python 3",
   "language": "python",
   "name": "python3"
  },
  "language_info": {
   "codemirror_mode": {
    "name": "ipython",
    "version": 3
   },
   "file_extension": ".py",
   "mimetype": "text/x-python",
   "name": "python",
   "nbconvert_exporter": "python",
   "pygments_lexer": "ipython3",
   "version": "3.6.7"
  }
 },
 "nbformat": 4,
 "nbformat_minor": 2
}
