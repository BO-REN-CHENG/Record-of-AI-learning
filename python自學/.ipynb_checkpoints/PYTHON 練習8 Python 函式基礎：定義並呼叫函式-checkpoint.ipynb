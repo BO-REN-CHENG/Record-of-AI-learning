{
 "cells": [
  {
   "cell_type": "markdown",
   "metadata": {},
   "source": [
    "# 3/2 PYTHON 練習8 Python 函式基礎：定義並呼叫函式\n",
    "* [Python 函式基礎：定義並呼叫函式 By 彭彭](https://www.youtube.com/watch?v=7qKFvUVpQXg&list=PL-g0fdC5RMboYEyt6QS2iLb_1m7QcgfHk&index=9)"
   ]
  },
  {
   "cell_type": "markdown",
   "metadata": {},
   "source": [
    "# 定義函式"
   ]
  },
  {
   "cell_type": "code",
   "execution_count": 1,
   "metadata": {},
   "outputs": [],
   "source": [
    "def multiply():\n",
    "    print(3*4)"
   ]
  },
  {
   "cell_type": "markdown",
   "metadata": {},
   "source": [
    "# 呼叫函式"
   ]
  },
  {
   "cell_type": "code",
   "execution_count": 2,
   "metadata": {},
   "outputs": [
    {
     "name": "stdout",
     "output_type": "stream",
     "text": [
      "12\n"
     ]
    }
   ],
   "source": [
    "multiply()"
   ]
  },
  {
   "cell_type": "code",
   "execution_count": 5,
   "metadata": {},
   "outputs": [
    {
     "name": "stdout",
     "output_type": "stream",
     "text": [
      "12\n",
      "80\n"
     ]
    }
   ],
   "source": [
    "def multiply(n1,n2):\n",
    "    print(n1*n2)\n",
    "multiply(3,4) #沒縮排表示在函式外\n",
    "multiply(10,8)"
   ]
  },
  {
   "cell_type": "code",
   "execution_count": 6,
   "metadata": {},
   "outputs": [
    {
     "name": "stdout",
     "output_type": "stream",
     "text": [
      "12\n",
      "None\n"
     ]
    }
   ],
   "source": [
    "def multiply(n1,n2):\n",
    "    print(n1*n2)      #因為return none 所以value=none\n",
    "value=multiply(3,4)\n",
    "print(value)"
   ]
  },
  {
   "cell_type": "code",
   "execution_count": 7,
   "metadata": {},
   "outputs": [
    {
     "name": "stdout",
     "output_type": "stream",
     "text": [
      "12\n",
      "12\n"
     ]
    }
   ],
   "source": [
    "def multiply(n1,n2):\n",
    "    print(n1*n2)     \n",
    "    return n1*n2\n",
    "value=multiply(3,4)\n",
    "print(value)"
   ]
  },
  {
   "cell_type": "markdown",
   "metadata": {},
   "source": [
    "# 程式包裝"
   ]
  },
  {
   "cell_type": "code",
   "execution_count": null,
   "metadata": {},
   "outputs": [],
   "source": [
    "sum=0\n",
    "for n in range(1,11):\n",
    "    sum=sum+n\n",
    "print(sum)\n",
    "sum=0\n",
    "for n in range(1,21):\n",
    "    sum=sum+n\n",
    "print(sum)"
   ]
  },
  {
   "cell_type": "markdown",
   "metadata": {},
   "source": [
    "## 函式可用來做程式的包裝:同樣的邏輯可以重複利用"
   ]
  },
  {
   "cell_type": "code",
   "execution_count": 11,
   "metadata": {},
   "outputs": [
    {
     "name": "stdout",
     "output_type": "stream",
     "text": [
      "55\n",
      "55\n"
     ]
    }
   ],
   "source": [
    "def calculate():\n",
    "    sum=0\n",
    "    for n in range(1,11):\n",
    "        sum=sum+n\n",
    "    print(sum)\n",
    "calculate()\n",
    "calculate()"
   ]
  },
  {
   "cell_type": "code",
   "execution_count": 12,
   "metadata": {},
   "outputs": [
    {
     "name": "stdout",
     "output_type": "stream",
     "text": [
      "55\n",
      "210\n"
     ]
    }
   ],
   "source": [
    "def calculate(max):\n",
    "    sum=0\n",
    "    for n in range(1,max+1):\n",
    "        sum=sum+n\n",
    "    print(sum)\n",
    "calculate(10)\n",
    "calculate(20)"
   ]
  },
  {
   "cell_type": "markdown",
   "metadata": {},
   "source": [
    "## 自我練習"
   ]
  },
  {
   "cell_type": "code",
   "execution_count": null,
   "metadata": {},
   "outputs": [],
   "source": [
    "n=input(\"輸入一個正整數: \")\n",
    "s=set(n)\n",
    "if(\".\" in s ):\n",
    "    print(\"只能輸入正整數!\")\n",
    "elif(\"-\"in s):\n",
    "    print(\"只能輸入正整數!\")\n",
    "else:\n",
    "    n=int(n)\n",
    "    calculate(n)\n",
    "    def calculate(max):\n",
    "        sum=0\n",
    "        for n in range(1,max+1):\n",
    "            sum=sum+n\n",
    "            #print(\"sum=\",sum)\n",
    "        print(sum)\n"
   ]
  },
  {
   "cell_type": "code",
   "execution_count": 2,
   "metadata": {},
   "outputs": [
    {
     "name": "stdout",
     "output_type": "stream",
     "text": [
      "輸入一個正整數: 1.5\n",
      "只能輸入正整數!\n"
     ]
    }
   ],
   "source": [
    "n=input(\"輸入一個正整數: \")\n",
    "s=set(n)\n",
    "if(\".\" in s or \"-\"in s):\n",
    "    print(\"只能輸入正整數!\")\n",
    "else:\n",
    "    n=int(n)\n",
    "    calculate(n)\n",
    "    def calculate(max):\n",
    "        sum=0\n",
    "        for n in range(1,max+1):\n",
    "            sum=sum+n\n",
    "            #print(\"sum=\",sum)\n",
    "        print(sum)\n"
   ]
  }
 ],
 "metadata": {
  "kernelspec": {
   "display_name": "Python 3",
   "language": "python",
   "name": "python3"
  },
  "language_info": {
   "codemirror_mode": {
    "name": "ipython",
    "version": 3
   },
   "file_extension": ".py",
   "mimetype": "text/x-python",
   "name": "python",
   "nbconvert_exporter": "python",
   "pygments_lexer": "ipython3",
   "version": "3.6.7"
  }
 },
 "nbformat": 4,
 "nbformat_minor": 2
}
