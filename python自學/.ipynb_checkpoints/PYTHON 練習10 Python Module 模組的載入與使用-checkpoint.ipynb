{
 "cells": [
  {
   "cell_type": "markdown",
   "metadata": {},
   "source": [
    "# 3/3 PYTHON 練習10 Python Module 模組的載入與使用\n",
    "* [Python Module 模組的載入與使用 By 彭彭](https://www.youtube.com/watch?v=Et0DjY2cGiE&list=PL-g0fdC5RMboYEyt6QS2iLb_1m7QcgfHk&index=11)"
   ]
  },
  {
   "cell_type": "markdown",
   "metadata": {},
   "source": [
    "# 載入內建的sys 模組並取得資訊"
   ]
  },
  {
   "cell_type": "code",
   "execution_count": 1,
   "metadata": {},
   "outputs": [
    {
     "name": "stdout",
     "output_type": "stream",
     "text": [
      "win32\n",
      "9223372036854775807\n"
     ]
    }
   ],
   "source": [
    "import sys\n",
    "print(sys.platform)\n",
    "print(sys.maxsize)"
   ]
  },
  {
   "cell_type": "code",
   "execution_count": 2,
   "metadata": {},
   "outputs": [
    {
     "name": "stdout",
     "output_type": "stream",
     "text": [
      "win32\n",
      "9223372036854775807\n"
     ]
    }
   ],
   "source": [
    "import sys as s\n",
    "print(s.platform)\n",
    "print(s.maxsize)"
   ]
  },
  {
   "cell_type": "markdown",
   "metadata": {},
   "source": [
    "\n",
    "# 自建模組\n",
    "# 建立geometry"
   ]
  },
  {
   "cell_type": "code",
   "execution_count": 3,
   "metadata": {},
   "outputs": [],
   "source": [
    "import geometry\n",
    "result=geometry.distance(1,1,5,5)\n",
    "print(result)\n",
    "result=geometry.slope(1,2,5,6)\n",
    "print(result)\n"
   ]
  },
  {
   "cell_type": "markdown",
   "metadata": {},
   "source": [
    "# 調整搜尋模組的路徑"
   ]
  },
  {
   "cell_type": "code",
   "execution_count": 4,
   "metadata": {
    "scrolled": true
   },
   "outputs": [
    {
     "name": "stdout",
     "output_type": "stream",
     "text": [
      "['c:\\\\users\\\\jhfb0606\\\\appdata\\\\local\\\\programs\\\\python\\\\python36\\\\python36.zip', 'c:\\\\users\\\\jhfb0606\\\\appdata\\\\local\\\\programs\\\\python\\\\python36\\\\DLLs', 'c:\\\\users\\\\jhfb0606\\\\appdata\\\\local\\\\programs\\\\python\\\\python36\\\\lib', 'c:\\\\users\\\\jhfb0606\\\\appdata\\\\local\\\\programs\\\\python\\\\python36', '', 'c:\\\\users\\\\jhfb0606\\\\appdata\\\\local\\\\programs\\\\python\\\\python36\\\\lib\\\\site-packages', 'c:\\\\users\\\\jhfb0606\\\\appdata\\\\local\\\\programs\\\\python\\\\python36\\\\lib\\\\site-packages\\\\IPython\\\\extensions', 'C:\\\\Users\\\\jhfb0606\\\\AppData\\\\Roaming\\\\SPB_Data\\\\.ipython', 'C:\\\\Users\\\\jhfb0606\\\\AppData\\\\Local\\\\Programs\\\\Python\\\\Python36\\\\Lib\\\\modules']\n"
     ]
    }
   ],
   "source": [
    "#  import sys\n",
    "#  sys.path.append(\"C:\\\\Users\\\\jhfb0606\\\\AppData\\\\Local\\\\Programs\\\\Python\\\\Python36\\\\Lib\\\\modules\")\n",
    "#  print(sys.path)\n",
    "# # import geometry\n",
    "# # result=geometry.distance(1,1,5,5)\n",
    "# # print(result)\n",
    "#未能成功"
   ]
  }
 ],
 "metadata": {
  "kernelspec": {
   "display_name": "Python 3",
   "language": "python",
   "name": "python3"
  },
  "language_info": {
   "codemirror_mode": {
    "name": "ipython",
    "version": 3
   },
   "file_extension": ".py",
   "mimetype": "text/x-python",
   "name": "python",
   "nbconvert_exporter": "python",
   "pygments_lexer": "ipython3",
   "version": "3.6.7"
  }
 },
 "nbformat": 4,
 "nbformat_minor": 2
}
