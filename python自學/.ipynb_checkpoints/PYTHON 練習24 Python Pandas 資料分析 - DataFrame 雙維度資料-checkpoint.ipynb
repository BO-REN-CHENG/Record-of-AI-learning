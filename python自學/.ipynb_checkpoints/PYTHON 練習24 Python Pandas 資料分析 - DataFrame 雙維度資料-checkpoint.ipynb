{
 "cells": [
  {
   "cell_type": "markdown",
   "metadata": {},
   "source": [
    "# 3/14 PYTHON 練習24 Python Pandas 資料分析 - DataFrame 雙維度資料\n",
    "* [Python Pandas 資料分析 - DataFrame 雙維度資料 By 彭彭](https://www.youtube.com/watch?v=Krj-50BNo9E&list=PL-g0fdC5RMboYEyt6QS2iLb_1m7QcgfHk&index=25)\n",
    "* [sep,變更換行符號,變更連接分隔符號,你關心的，如何做string format?](https://extenshu.com/2017/09/24/python%E5%88%9D%E5%AD%B8%E9%87%8D%E9%BB%9E-04-%E8%81%8A%E8%81%8Aprint/)"
   ]
  },
  {
   "cell_type": "markdown",
   "metadata": {},
   "source": [
    "# sep 用法"
   ]
  },
  {
   "cell_type": "code",
   "execution_count": 75,
   "metadata": {},
   "outputs": [
    {
     "name": "stdout",
     "output_type": "stream",
     "text": [
      "Good Bad Ugly\n",
      "Good/Bad/Ugly\n",
      "Good\tBad\tUgly\n",
      "Good;Bad;Ugly\n",
      "Good\n",
      "Bad\n",
      "Ugly\n"
     ]
    }
   ],
   "source": [
    "print('Good', 'Bad', 'Ugly')\n",
    "print('Good', 'Bad', 'Ugly', sep = '/')\n",
    "print('Good', 'Bad', 'Ugly', sep = '\\t')\n",
    "print('Good', 'Bad', 'Ugly', sep = ';')\n",
    "print('Good', 'Bad', 'Ugly', sep = '\\n')"
   ]
  },
  {
   "cell_type": "code",
   "execution_count": 2,
   "metadata": {},
   "outputs": [],
   "source": [
    "import pandas as pd"
   ]
  },
  {
   "cell_type": "markdown",
   "metadata": {},
   "source": [
    "# 資料索引:pd.DataFrame(字典,index=索引列表)"
   ]
  },
  {
   "cell_type": "code",
   "execution_count": 6,
   "metadata": {},
   "outputs": [
    {
     "name": "stdout",
     "output_type": "stream",
     "text": [
      "      name  salary\n",
      "0      AMY   30000\n",
      "1      BOB   50000\n",
      "2  CHARLES   40000 \n",
      "--------------------\n",
      "\n",
      "      name  salary\n",
      "a      AMY   30000\n",
      "b      BOB   50000\n",
      "c  CHARLES   40000\n"
     ]
    }
   ],
   "source": [
    "data=pd.DataFrame({\n",
    "    \"name\":[\"AMY\",\"BOB\",\"CHARLES\"],\n",
    "    \"salary\":[30000,50000,40000] \n",
    "})\n",
    "print(data,\"\\n--------------------\\n\")\n",
    "data=pd.DataFrame({\n",
    "    \"name\":[\"AMY\",\"BOB\",\"CHARLES\"],\n",
    "    \"salary\":[30000,50000,40000] \n",
    "},index=[\"a\",\"b\",\"c\"])\n",
    "print(data)"
   ]
  },
  {
   "cell_type": "markdown",
   "metadata": {},
   "source": [
    "# 觀察資料"
   ]
  },
  {
   "cell_type": "code",
   "execution_count": 62,
   "metadata": {},
   "outputs": [
    {
     "name": "stdout",
     "output_type": "stream",
     "text": [
      "      name  salary\n",
      "a      AMY   30000\n",
      "b      BOB   50000\n",
      "c  CHARLES   40000 \n",
      "------------------\n",
      "\n",
      "資料數量 6\n",
      "資料形狀(列,欄) (3, 2)\n",
      "資料索引 Index(['a', 'b', 'c'], dtype='object')\n"
     ]
    }
   ],
   "source": [
    "data=pd.DataFrame({\n",
    "    \"name\":[\"AMY\",\"BOB\",\"CHARLES\"],\n",
    "    \"salary\":[30000,50000,40000] \n",
    "},index=[\"a\",\"b\",\"c\"])\n",
    "print(data,\"\\n------------------\\n\")\n",
    "print(\"資料數量\",data.size)\n",
    "print(\"資料形狀(列,欄)\",data.shape)\n",
    "print(\"資料索引\",data.index)"
   ]
  },
  {
   "cell_type": "markdown",
   "metadata": {},
   "source": [
    "# 取得列(row/橫向)的Series資料:根據順序,根據索引"
   ]
  },
  {
   "cell_type": "code",
   "execution_count": 65,
   "metadata": {},
   "outputs": [
    {
     "name": "stdout",
     "output_type": "stream",
     "text": [
      "取得第二列 name        BOB\n",
      "salary    50000\n",
      "Name: b, dtype: object\n",
      "取得第二列\n",
      " name        BOB\n",
      "salary    50000\n",
      "Name: b, dtype: object\n",
      "取得第二列\n",
      "name        BOB\n",
      "salary    50000\n",
      "Name: b, dtype: object\n",
      "=================\n",
      "取得第c列\n",
      "name      CHARLES\n",
      "salary      40000\n",
      "Name: c, dtype: object\n"
     ]
    }
   ],
   "source": [
    "print(\"取得第二列\",data.iloc[1])\n",
    "print(\"取得第二列\\n\",data.iloc[1])\n",
    "print(\"取得第二列\",data.iloc[1],sep=\"\\n\")\n",
    "print(\"=================\")\n",
    "print(\"取得第c列\",data.loc[\"c\"],sep=\"\\n\")"
   ]
  },
  {
   "cell_type": "markdown",
   "metadata": {},
   "source": [
    "# 取得欄(Column/直向)的Series資料:根據欄位的名稱"
   ]
  },
  {
   "cell_type": "code",
   "execution_count": 25,
   "metadata": {},
   "outputs": [
    {
     "name": "stdout",
     "output_type": "stream",
     "text": [
      "取得name欄位\n",
      "a        AMY\n",
      "b        BOB\n",
      "c    CHARLES\n",
      "Name: name, dtype: object\n",
      "把name全部轉大寫\n",
      "a        AMY\n",
      "b        BOB\n",
      "c    CHARLES\n",
      "Name: name, dtype: object\n",
      "薪水平均值 40000.0\n"
     ]
    }
   ],
   "source": [
    "print(\"取得name欄位\",data[\"name\"],sep=\"\\n\")\n",
    "name=data[\"name\"]# 取得單維度的Series資料\n",
    "print(\"把name全部轉大寫\",name.str.upper(),sep=\"\\n\")\n",
    "salaries=data[\"salary\"]\n",
    "print(\"薪水平均值\",salaries.mean())"
   ]
  },
  {
   "cell_type": "markdown",
   "metadata": {},
   "source": [
    "# 建立新的欄位"
   ]
  },
  {
   "cell_type": "markdown",
   "metadata": {},
   "source": [
    "* 方法1"
   ]
  },
  {
   "cell_type": "code",
   "execution_count": 46,
   "metadata": {},
   "outputs": [
    {
     "name": "stdout",
     "output_type": "stream",
     "text": [
      "      name  salary  revenue\n",
      "a      AMY   30000   500000\n",
      "b      BOB   50000   400000\n",
      "c  CHARLES   40000   300000\n"
     ]
    }
   ],
   "source": [
    "data=pd.DataFrame({\n",
    "    \"name\":[\"AMY\",\"BOB\",\"CHARLES\"],\n",
    "    \"salary\":[30000,50000,40000] \n",
    "},index=[\"a\",\"b\",\"c\"])\n",
    "data[\"revenue\"]=[500000,400000,300000]#data[新欄位的名稱]=列表\n",
    "print(data)"
   ]
  },
  {
   "cell_type": "markdown",
   "metadata": {},
   "source": [
    "* 方法2"
   ]
  },
  {
   "cell_type": "code",
   "execution_count": 45,
   "metadata": {},
   "outputs": [
    {
     "name": "stdout",
     "output_type": "stream",
     "text": [
      "      name  salary  rank\n",
      "a      AMY   30000     3\n",
      "b      BOB   50000     6\n",
      "c  CHARLES   40000     1\n",
      "      name  salary  rank  rank2\n",
      "a      AMY   30000     3      3\n",
      "b      BOB   50000     6      6\n",
      "c  CHARLES   40000     1      1\n",
      "      name  salary  rank  rank2  revenue         cp\n",
      "a      AMY   30000     3      3   500000  16.666667\n",
      "b      BOB   50000     6      6   400000   8.000000\n",
      "c  CHARLES   40000     1      1   300000   7.500000\n"
     ]
    }
   ],
   "source": [
    "data=pd.DataFrame({\n",
    "    \"name\":[\"AMY\",\"BOB\",\"CHARLES\"],\n",
    "    \"salary\":[30000,50000,40000] \n",
    "},index=[\"a\",\"b\",\"c\"])\n",
    "data[\"rank\"]=pd.Series([3,6,1],index=[\"a\",\"b\",\"c\"])\n",
    "print(data)\n",
    "data[\"rank2\"]=pd.Series([3,6,1,50],index=[\"a\",\"b\",\"c\",\"d\"])\n",
    "print(data)\n",
    "data[\"revenue\"]=[500000,400000,300000]\n",
    "data[\"cp\"]=data[\"revenue\"]/data[\"salary\"]\n",
    "print(data)"
   ]
  },
  {
   "cell_type": "markdown",
   "metadata": {},
   "source": [
    "# 額外各種測試"
   ]
  },
  {
   "cell_type": "code",
   "execution_count": 55,
   "metadata": {},
   "outputs": [
    {
     "name": "stdout",
     "output_type": "stream",
     "text": [
      "      name  salary  rank2\n",
      "0      AMY   30000    NaN\n",
      "1      BOB   50000    NaN\n",
      "2  CHARLES   40000    NaN \n",
      "\n",
      "      name  salary  rank2\n",
      "0      AMY   30000    NaN\n",
      "1      BOB   50000    NaN\n",
      "2  CHARLES   40000    NaN \n",
      "\n",
      "      name  salary  rank2\n",
      "0      AMY   30000      3\n",
      "1      BOB   50000      6\n",
      "2  CHARLES   40000      1 \n",
      "\n",
      "      name salary  rank2\n",
      "0      AMY  30000      3\n",
      "1      BOB  50000      6\n",
      "2  CHARLES  40000      1\n",
      "3                     50 \n",
      "\n"
     ]
    }
   ],
   "source": [
    "data=pd.DataFrame({\n",
    "    \"name\":[\"AMY\",\"BOB\",\"CHARLES\"],\n",
    "    \"salary\":[30000,50000,40000] \n",
    "})\n",
    "data[\"rank2\"]=pd.Series([3,6,1,50],index=[\"a\",\"b\",\"c\",\"d\"])\n",
    "print(data,\"\\n\")\n",
    "data=pd.DataFrame({\n",
    "    \"name\":[\"AMY\",\"BOB\",\"CHARLES\"],\n",
    "    \"salary\":[30000,50000,40000] \n",
    "})\n",
    "data[\"rank2\"]=pd.Series([3,6,1],index=[\"a\",\"b\",\"c\"])\n",
    "print(data,\"\\n\")\n",
    "data=pd.DataFrame({\n",
    "    \"name\":[\"AMY\",\"BOB\",\"CHARLES\"],\n",
    "    \"salary\":[30000,50000,40000] \n",
    "})\n",
    "data[\"rank2\"]=pd.Series([3,6,1,50])\n",
    "print(data,\"\\n\")\n",
    "data=pd.DataFrame({\n",
    "    \"name\":[\"AMY\",\"BOB\",\"CHARLES\",\"\"],\n",
    "    \"salary\":[30000,50000,40000,\"\"] \n",
    "})\n",
    "data[\"rank2\"]=pd.Series([3,6,1,50])\n",
    "print(data,\"\\n\")"
   ]
  }
 ],
 "metadata": {
  "kernelspec": {
   "display_name": "Python 3",
   "language": "python",
   "name": "python3"
  },
  "language_info": {
   "codemirror_mode": {
    "name": "ipython",
    "version": 3
   },
   "file_extension": ".py",
   "mimetype": "text/x-python",
   "name": "python",
   "nbconvert_exporter": "python",
   "pygments_lexer": "ipython3",
   "version": "3.6.7"
  }
 },
 "nbformat": 4,
 "nbformat_minor": 2
}
