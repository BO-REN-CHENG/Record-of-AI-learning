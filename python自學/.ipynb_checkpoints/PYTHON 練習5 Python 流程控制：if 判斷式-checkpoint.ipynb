{
 "cells": [
  {
   "cell_type": "markdown",
   "metadata": {},
   "source": [
    "# 3/1 PYTHON 練習5 Python 流程控制：if 判斷式\n",
    "* [Python 流程控制：if 判斷式 By 彭彭](https://www.youtube.com/watch?v=A93BsHB-lWo&list=PL-g0fdC5RMboYEyt6QS2iLb_1m7QcgfHk&index=6)"
   ]
  },
  {
   "cell_type": "code",
   "execution_count": 1,
   "metadata": {},
   "outputs": [
    {
     "name": "stdout",
     "output_type": "stream",
     "text": [
      "true 執行\n"
     ]
    }
   ],
   "source": [
    "if True:\n",
    "    print(\"true 執行\")\n",
    "else:\n",
    "    print(\"false 執行\")"
   ]
  },
  {
   "cell_type": "code",
   "execution_count": 2,
   "metadata": {},
   "outputs": [
    {
     "name": "stdout",
     "output_type": "stream",
     "text": [
      "false 執行\n"
     ]
    }
   ],
   "source": [
    "if False:\n",
    "    print(\"true 執行\")\n",
    "else:\n",
    "    print(\"false 執行\")"
   ]
  },
  {
   "cell_type": "code",
   "execution_count": 3,
   "metadata": {},
   "outputs": [
    {
     "name": "stdout",
     "output_type": "stream",
     "text": [
      "請輸入數字:150\n",
      "大於100\n"
     ]
    }
   ],
   "source": [
    "x=input(\"請輸入數字:\")#取得字串形式的使用者輸入\n",
    "x=int(x)#將字串型態轉換成數字型態\n",
    "if x>100:\n",
    "    print(\"大於100\")\n",
    "else:\n",
    "    print(\"小於100\")"
   ]
  },
  {
   "cell_type": "code",
   "execution_count": 4,
   "metadata": {},
   "outputs": [
    {
     "name": "stdout",
     "output_type": "stream",
     "text": [
      "請輸入數字:250\n",
      "大於200\n"
     ]
    }
   ],
   "source": [
    "x=input(\"請輸入數字:\")#取得字串形式的使用者輸入\n",
    "x=int(x)#將字串型態轉換成數字型態\n",
    "if x>200:\n",
    "    print(\"大於200\")\n",
    "elif x>100:\n",
    "    print(\"大於100 小於等於200\")\n",
    "else:\n",
    "    print(\"小於100\")"
   ]
  },
  {
   "cell_type": "code",
   "execution_count": 5,
   "metadata": {},
   "outputs": [
    {
     "name": "stdout",
     "output_type": "stream",
     "text": [
      "請輸入數字:150\n",
      "大於100 小於等於200\n"
     ]
    }
   ],
   "source": [
    "x=input(\"請輸入數字:\")#取得字串形式的使用者輸入\n",
    "x=int(x)#將字串型態轉換成數字型態\n",
    "if x>200:\n",
    "    print(\"大於200\")\n",
    "elif x>100:\n",
    "    print(\"大於100 小於等於200\")\n",
    "else:\n",
    "    print(\"小於100\")"
   ]
  },
  {
   "cell_type": "code",
   "execution_count": 6,
   "metadata": {},
   "outputs": [
    {
     "name": "stdout",
     "output_type": "stream",
     "text": [
      "請輸入數字:50\n",
      "小於100\n"
     ]
    }
   ],
   "source": [
    "x=input(\"請輸入數字:\")#取得字串形式的使用者輸入\n",
    "x=int(x)#將字串型態轉換成數字型態\n",
    "if x>200:\n",
    "    print(\"大於200\")\n",
    "elif x>100:\n",
    "    print(\"大於100 小於等於200\")\n",
    "else:\n",
    "    print(\"小於100\")"
   ]
  },
  {
   "cell_type": "code",
   "execution_count": 7,
   "metadata": {},
   "outputs": [
    {
     "name": "stdout",
     "output_type": "stream",
     "text": [
      "請輸入數字一: 2\n",
      "請輸入數字二: 3\n",
      "請輸入運算:+,-,*,/: *\n",
      "6\n"
     ]
    }
   ],
   "source": [
    "n1=int(input(\"請輸入數字一: \"))\n",
    "n2=int(input(\"請輸入數字二: \" ))\n",
    "op=input(\"請輸入運算:+,-,*,/: \")\n",
    "if op==\"+\":\n",
    "    print(n1+n2)\n",
    "elif op==\"-\":\n",
    "    print(n1-n2)\n",
    "elif op==\"*\":\n",
    "    print(n1*n2) \n",
    "elif op==\"*\":\n",
    "    print(n1/n2)\n",
    "else :\n",
    "    print(\"不支援的運算\")"
   ]
  }
 ],
 "metadata": {
  "kernelspec": {
   "display_name": "Python 3",
   "language": "python",
   "name": "python3"
  },
  "language_info": {
   "codemirror_mode": {
    "name": "ipython",
    "version": 3
   },
   "file_extension": ".py",
   "mimetype": "text/x-python",
   "name": "python",
   "nbconvert_exporter": "python",
   "pygments_lexer": "ipython3",
   "version": "3.6.7"
  }
 },
 "nbformat": 4,
 "nbformat_minor": 2
}
