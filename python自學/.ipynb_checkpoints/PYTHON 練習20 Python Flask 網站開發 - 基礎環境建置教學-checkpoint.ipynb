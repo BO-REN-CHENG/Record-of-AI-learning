{
 "cells": [
  {
   "cell_type": "markdown",
   "metadata": {},
   "source": [
    "# 3/11 PYTHON 練習20 Python Flask 網站開發 - 基礎環境建置教學\n",
    "* [Python Flask 網站開發 - 基礎環境建置教學 By 彭彭](https://www.youtube.com/watch?v=dYulda6wEWA&list=PL-g0fdC5RMboYEyt6QS2iLb_1m7QcgfHk&index=21)"
   ]
  },
  {
   "cell_type": "code",
   "execution_count": null,
   "metadata": {},
   "outputs": [
    {
     "name": "stdout",
     "output_type": "stream",
     "text": [
      " * Serving Flask app \"__main__\" (lazy loading)\n",
      " * Environment: production\n",
      "   WARNING: This is a development server. Do not use it in a production deployment.\n",
      "   Use a production WSGI server instead.\n",
      " * Debug mode: off\n"
     ]
    },
    {
     "name": "stderr",
     "output_type": "stream",
     "text": [
      " * Running on http://127.0.0.1:5000/ (Press CTRL+C to quit)\n",
      "127.0.0.1 - - [11/Mar/2020 14:20:25] \"\u001b[37mGET / HTTP/1.1\u001b[0m\" 200 -\n",
      "127.0.0.1 - - [11/Mar/2020 14:20:31] \"\u001b[37mGET /test HTTP/1.1\u001b[0m\" 200 -\n"
     ]
    }
   ],
   "source": [
    "from flask import Flask\n",
    "app=Flask(__name__)#__name__代表目前執行的模組\n",
    "@app.route(\"/\")#函式的裝飾(Decorator):以函式為基礎 提供附加的功能\n",
    "def home():\n",
    "    return \"Hello Flask\"\n",
    "@app.route(\"/test\")#代表我們要處理的網站路徑\n",
    "def test():\n",
    "    return \"this is test\"\n",
    "if __name__==\"__main__\":#如果以主程式執行\n",
    "    app.run()#立刻啟動伺服器   "
   ]
  }
 ],
 "metadata": {
  "kernelspec": {
   "display_name": "Python 3",
   "language": "python",
   "name": "python3"
  },
  "language_info": {
   "codemirror_mode": {
    "name": "ipython",
    "version": 3
   },
   "file_extension": ".py",
   "mimetype": "text/x-python",
   "name": "python",
   "nbconvert_exporter": "python",
   "pygments_lexer": "ipython3",
   "version": "3.6.7"
  }
 },
 "nbformat": 4,
 "nbformat_minor": 2
}
