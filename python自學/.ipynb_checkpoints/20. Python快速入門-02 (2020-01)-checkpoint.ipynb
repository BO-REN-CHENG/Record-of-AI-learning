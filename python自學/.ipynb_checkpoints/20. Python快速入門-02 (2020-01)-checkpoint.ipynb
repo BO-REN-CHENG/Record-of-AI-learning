{
 "cells": [
  {
   "cell_type": "markdown",
   "metadata": {
    "colab_type": "text",
    "id": "L7YzDnN8QbNn"
   },
   "source": [
    "# Python 快速入門 - 02\n",
    "By 蓉爸 <br>\n",
    "Revised: 2020-03-12 <br>\n",
    "©2020 蓉爸, AI4kids 愛奇智慧科技股份有限公司"
   ]
  },
  {
   "cell_type": "markdown",
   "metadata": {
    "colab_type": "text",
    "id": "i0fP7GRvBhLy"
   },
   "source": [
    "## 本次課程重點\n",
    "* 1. **型態轉換 Casting**\n",
    "* 2. **日期型態** 轉換 Casting\n",
    "* 3. **數學運算**\n",
    "* 4. 認識 **for 迴圈**\n",
    "* 5. 認識 **巢狀 for 迴圈**\n",
    "* 6. 認識 **函數 function**"
   ]
  },
  {
   "cell_type": "markdown",
   "metadata": {
    "colab_type": "text",
    "id": "QnaECf8cd_fG"
   },
   "source": [
    "### 1. 型態轉換 Casting\n",
    "**數字型態 <-> 字串型態**\n",
    "```\n",
    "int()\n",
    "float()\n",
    "str()\n",
    "complex()\n",
    "```"
   ]
  },
  {
   "cell_type": "code",
   "execution_count": 0,
   "metadata": {
    "colab": {},
    "colab_type": "code",
    "id": "gJpLzOSWfdUa"
   },
   "outputs": [],
   "source": [
    "# --------------------------------------------\n",
    "# 轉成 int \n",
    "x1 = int(1)       # x1 will be 1\n",
    "y1 = int(2.8)     # y1 will be 2\n",
    "z1 = int(\"3\")     # z1 will be 3 "
   ]
  },
  {
   "cell_type": "code",
   "execution_count": 0,
   "metadata": {
    "colab": {},
    "colab_type": "code",
    "id": "UZr-7NCifhfU"
   },
   "outputs": [],
   "source": [
    "# --------------------------------------------\n",
    "# 轉成 float\n",
    "x2 = float(1)     # x2 will be 1.0\n",
    "y2 = float(2.8)   # y2 will be 2.8\n",
    "z2 = float(\"3\")   # z2 will be 3.0\n",
    "w2 = float(\"4.2\") # w2 will be 4.2"
   ]
  },
  {
   "cell_type": "code",
   "execution_count": 0,
   "metadata": {
    "colab": {},
    "colab_type": "code",
    "id": "CJCO5MxnflbL"
   },
   "outputs": [],
   "source": [
    "# --------------------------------------------\n",
    "# 轉成 str\n",
    "x3 = str(\"s1\") # x3 will be 's1'\n",
    "y3 = str(2)    # y3 will be '2'\n",
    "z3 = str(3.0)  # z3 will be '3.0' "
   ]
  },
  {
   "cell_type": "markdown",
   "metadata": {
    "colab_type": "text",
    "id": "b4D_6eSdfRmh"
   },
   "source": [
    "### Ex 1-1. 有變數如下，請印出 a, b, c 的內容與型態，看看結果與你想的是不是一樣？\"\n",
    "```\n",
    "x = 1\n",
    "y = 2.8\n",
    "z = '2j'\n",
    "\n",
    "a = float(x)\n",
    "b = int(y)\n",
    "c = complex(z)\n",
    "```"
   ]
  },
  {
   "cell_type": "code",
   "execution_count": 0,
   "metadata": {
    "colab": {},
    "colab_type": "code",
    "id": "4YYmT2B9d-Wt"
   },
   "outputs": [],
   "source": [
    "# 在這寫下你的程式碼，並執行看看！\n"
   ]
  },
  {
   "cell_type": "markdown",
   "metadata": {
    "colab_type": "text",
    "id": "kJ5sHB3FfFgz"
   },
   "source": [
    "### Ex 1-2. 數字與字串結合，設變數如下，並印出 \"1 個 apple 是 5.1 元，5 個 apple 共是 25.5 元！\"\n",
    "```\n",
    "x = 'apple'\n",
    "y = 5.1\n",
    "z = 25.5\n",
    "```"
   ]
  },
  {
   "cell_type": "code",
   "execution_count": 0,
   "metadata": {
    "colab": {},
    "colab_type": "code",
    "id": "mUirkF8ffG3s"
   },
   "outputs": [],
   "source": [
    "# 在這寫下你的程式碼，並執行看看！"
   ]
  },
  {
   "cell_type": "markdown",
   "metadata": {
    "colab_type": "text",
    "id": "TJ139DtiexGq"
   },
   "source": [
    "### 2. 日期型態轉換 Casting\n",
    "**日期型態 <-> 字串型態**\n",
    "\n",
    "<img src='https://scontent.frmq2-2.fna.fbcdn.net/v/t1.0-9/s720x720/87791657_3307427422606182_2896463633036869632_n.jpg?_nc_cat=103&_nc_sid=cdbe9c&_nc_oc=AQnxaFS4Aw5Yxqt031pCn4522RnyTck4s9DKf04u8MCvx6VJ62okPOYlARsoRIxs3z0&_nc_ht=scontent.frmq2-2.fna&_nc_tp=7&oh=a1ae46be82291a2db4b7440fa64182c7&oe=5EFB24E0'>\n",
    "\n",
    "Ref: Python : How to convert datetime object to string using datetime.strftime() https://thispointer.com/python-how-to-convert-datetime-object-to-string-using-datetime-strftime/ "
   ]
  },
  {
   "cell_type": "code",
   "execution_count": 0,
   "metadata": {
    "colab": {},
    "colab_type": "code",
    "id": "-Nms24bfdEYM"
   },
   "outputs": [],
   "source": [
    "# --------------------------------------------\n",
    "# 日期轉字串: datetime.strftime() 練習 [f: format（格式）的意思]\n",
    "#\n",
    "# 格式 1\n",
    "from datetime import datetime \n",
    "\n",
    "# 先指定變數 dateTimeObj 為[日期型態]\n",
    "dateTimeObj = datetime.now()\n",
    "\n",
    "Format_String1 = \"%Y-%m-%d\"  # 設定[字串型態]轉[日期型態]的格式\n",
    "datestr = dateTimeObj.strftime(Format_String1)\n",
    "print('格式 1:', datestr)\n",
    "\n",
    "# 格式 2\n",
    "Format_String1 = \"%Y/%m/%d\"  # 設定[字串型態]轉[日期型態]的格式\n",
    "datestr = dateTimeObj.strftime(Format_String1)\n",
    "print('格式 2:', datestr)\n",
    "\n",
    "# 格式 3\n",
    "Format_String1 = \"%Y%m%d\"    # 設定[字串型態]轉[日期型態]的格式\n",
    "datestr = dateTimeObj.strftime(Format_String1)\n",
    "print('格式 3:', datestr)"
   ]
  },
  {
   "cell_type": "code",
   "execution_count": 0,
   "metadata": {
    "colab": {},
    "colab_type": "code",
    "id": "GwzJ7sKmm0vQ"
   },
   "outputs": [],
   "source": [
    "# --------------------------------------------\n",
    "# 字串轉日期: datetime.strptime() 練習 [p: parse（解析）的意思]\n",
    "#\n",
    "datestr = \"20200301\"       # 日期(字串型態)\n",
    "Format_String1 = \"%Y%m%d\"  # 設定[字串型態]轉[日期型態]的格式\n",
    "dateTimeObj = datetime.strptime(datestr, Format_String1)\n",
    "print('Date-time:', dateTimeObj)"
   ]
  },
  {
   "cell_type": "code",
   "execution_count": 0,
   "metadata": {
    "colab": {},
    "colab_type": "code",
    "id": "prdKbEQf2jWP"
   },
   "outputs": [],
   "source": [
    "# --------------------------------------------\n",
    "# 星期幾(Weekday): datetime.weekday() 練習\n",
    "#\n",
    "datestr = \"20200302\"       # 日期(字串型態)\n",
    "Format_String1 = \"%Y%m%d\"  # 設定[字串型態]轉[日期型態]的格式\n",
    "dateTimeObj = datetime.strptime(datestr, Format_String1)\n",
    "wd = dateTimeObj.weekday()\n",
    "\n",
    "print('Date-time:', dateTimeObj, ' 是 ', wd)"
   ]
  },
  {
   "cell_type": "code",
   "execution_count": 0,
   "metadata": {
    "colab": {},
    "colab_type": "code",
    "id": "vGi50LiQtGoX"
   },
   "outputs": [],
   "source": [
    "# --------------------------------------------\n",
    "# 英文星期幾(Weekday): datetime.strftime(\"%A\") 練習\n",
    "#\n",
    "datestr = \"20200302\"       # 日期(字串型態)\n",
    "Format_String1 = \"%Y%m%d\"  # 設定[字串型態]轉[日期型態]的格式\n",
    "dateTimeObj = datetime.strptime(datestr, Format_String1)\n",
    "wd = dateTimeObj.strftime(\"%A\")\n",
    "\n",
    "print('Date-time:', dateTimeObj, ' 是 ', wd)"
   ]
  },
  {
   "cell_type": "code",
   "execution_count": 0,
   "metadata": {
    "colab": {},
    "colab_type": "code",
    "id": "0fNEDQwmqmS6"
   },
   "outputs": [],
   "source": [
    "# --------------------------------------------\n",
    "#\n",
    "# 日期操作\n",
    "#\n",
    "from datetime import timedelta\n",
    "\n",
    "# 起始日\n",
    "datestr = \"20000201\"       # 日期(字串型態)\n",
    "Format_String1 = \"%Y%m%d\"  # 設定[字串型態]轉[日期型態]的格式\n",
    "\n",
    "# 根據[字串型態]轉[日期型態]的格式，進行轉換\n",
    "dateTimeObj_begin = datetime.strptime(datestr, Format_String1) \n",
    "\n",
    "# 截止日\n",
    "datestr = \"20000210\"\n",
    "dateTimeObj_end = datetime.strptime(datestr, Format_String1)\n",
    "\n",
    "# 日期間隔\n",
    "delta = dateTimeObj_end - dateTimeObj_begin\n",
    "print('日期間隔:', delta)\n",
    "\n",
    "# 設定起始日\n",
    "dateTimeObj_nextday = dateTimeObj_begin\n",
    "\n",
    "while not(dateTimeObj_nextday == dateTimeObj_end):\n",
    "  # 隔日(增加 1 日)\n",
    "  dateTimeObj_nextday = dateTimeObj_nextday + timedelta(days=1)\n",
    "\n",
    "  # 印出隔日日期\n",
    "  print('Next Date:', dateTimeObj_nextday)\n",
    "  #print(dateTimeObj_nextday, end=', ')\n",
    "  "
   ]
  },
  {
   "cell_type": "markdown",
   "metadata": {
    "colab_type": "text",
    "id": "YsiBcJ-blg3e"
   },
   "source": [
    "### Ex 2-1. 依據上題，試試印出從 2020-02-20 到 2020-04-01，看結果是否正確？\n"
   ]
  },
  {
   "cell_type": "code",
   "execution_count": 0,
   "metadata": {
    "colab": {},
    "colab_type": "code",
    "id": "9vJ3b2KIm_wj"
   },
   "outputs": [],
   "source": [
    "# 在這寫下你的程式碼，並執行看看！"
   ]
  },
  {
   "cell_type": "markdown",
   "metadata": {
    "colab_type": "text",
    "id": "u-Uga81Smp9J"
   },
   "source": [
    "### Ex 2-2. 續上題，試試從 2020-02-20 到 2020-04-01 每 5 天才印一次。\n",
    "\n",
    "提示：若是直接引用上面「日期操作」中的 while 迴圈時，要小心變成無窮迴圈的問題！！！"
   ]
  },
  {
   "cell_type": "code",
   "execution_count": 0,
   "metadata": {
    "colab": {},
    "colab_type": "code",
    "id": "dJqJA0S_nASz"
   },
   "outputs": [],
   "source": [
    "# 在這寫下你的程式碼，並執行看看！"
   ]
  },
  {
   "cell_type": "markdown",
   "metadata": {
    "colab_type": "text",
    "id": "u_q9ut1Qx6wl"
   },
   "source": [
    "### Ex 2-3 提示「請輸入任一個日期字串(西元年月日):」，並根據所輸入的日期是星期幾，印出相對應的訊息： <br>\n",
    "0：星期 1，猴子穿新衣 <br>\n",
    "1：星期 2，猴子肚子餓 <br>\n",
    "2：星期 3，猴子去爬山 <br>\n",
    "3：星期 4，猴子去考試 <br>\n",
    "4：星期 5，猴子去跳舞 <br>\n",
    "5：星期 6，猴子去斗六 <br>\n",
    "6：星期日，猴子過生日 <br>\n"
   ]
  },
  {
   "cell_type": "code",
   "execution_count": 0,
   "metadata": {
    "colab": {},
    "colab_type": "code",
    "id": "ldJHPOeK1YlS"
   },
   "outputs": [],
   "source": [
    "# 在這寫下你的程式碼，並執行看看！"
   ]
  },
  {
   "cell_type": "markdown",
   "metadata": {
    "colab_type": "text",
    "id": "jYaj2HGtmd-m"
   },
   "source": [
    "## 3. 數學運算"
   ]
  },
  {
   "cell_type": "code",
   "execution_count": 7,
   "metadata": {
    "colab": {},
    "colab_type": "code",
    "id": "FKz4gkteoTJd"
   },
   "outputs": [
    {
     "name": "stdout",
     "output_type": "stream",
     "text": [
      "2\n",
      "5\n",
      "8\n",
      "14.286\n",
      "16.0\n"
     ]
    }
   ],
   "source": [
    "# 加法\n",
    "i1 = 8\n",
    "i2 = 25\n",
    "i3 = i1 + i2\n",
    "#i3\n",
    "\n",
    "# 減法\n",
    "i4 = i2 - i1\n",
    "\n",
    "\n",
    "# 乘法\n",
    "i5 = i1 * i2    # 乘法以 「*」 表示\n",
    "\n",
    "\n",
    "# 除法\n",
    "f1 = i1 / i2    # 除法以 「/」 表示\n",
    "\n",
    "\n",
    "f2 = i1 // i2   # 向下取整數除法，即捨棄小數部份\n",
    "f2=5//2\n",
    "print(f2)\n",
    "\n",
    "# 餘數運算\n",
    "f3 = i1 % 3     # 餘數運算以 「%」 表示\n",
    "f3=5#3\n",
    "print(f3)\n",
    "\n",
    "# n次方運算\n",
    "i6 = 2**3       # 餘數運算以 「**」 表示\n",
    "print(i6)\n",
    "\n",
    "# 四捨五入運算\n",
    "f4 = round(100/7, 3)   # 使用 round 函數來做\n",
    "print(f4)\n",
    "\n",
    "# 運算規則 (先乘除，後加減，再依序)\n",
    "f5 = (100 - 10 * 2) /5\n",
    "#f5 = 100 - 10 * 2\n",
    "print(f5)"
   ]
  },
  {
   "cell_type": "markdown",
   "metadata": {
    "colab_type": "text",
    "id": "Q56pVxaEuWuQ"
   },
   "source": [
    "### Ex 3-1. 下面的程式執行結果有沒有奇怪的地方 ? 可以如何修改？\n",
    "```\n",
    "number = input(\"輸入一個數字：\")\n",
    "number + number\n",
    "```\n",
    "**提示 1：用 print(type()) 檢查看看，跟我們原先想的一樣嗎？**\n",
    "**提示 2：用 int() 函式來轉換**"
   ]
  },
  {
   "cell_type": "code",
   "execution_count": 0,
   "metadata": {
    "colab": {},
    "colab_type": "code",
    "id": "_-e5I-xlti4j"
   },
   "outputs": [],
   "source": [
    "# 在這寫下你的程式碼，並執行看看！\n",
    "# 為何有時候，3+3 是 33 ?"
   ]
  },
  {
   "cell_type": "markdown",
   "metadata": {
    "colab_type": "text",
    "id": "hlD85k4nxu5O"
   },
   "source": [
    "<br>\n",
    "\n",
    "### Ex 3-2. 寫個程式，讓人可以輸入兩個數字，然後做「加、減、乘、除、餘數」運算，最後輸出運算的結果，如下：\n",
    "\n",
    "```\n",
    "輸入第 1 個數字 i：\n",
    "輸入第 2 個數字 j： \n",
    "(假設輸入 i=12, j=5)\n",
    "\n",
    "輸出：\n",
    "12 + 5 = 17\n",
    "12 - 5 = 7\n",
    "12 * 5 = 60\n",
    "12 / 5 = 2.4\n",
    "12 % 5 = 2\n",
    "```"
   ]
  },
  {
   "cell_type": "code",
   "execution_count": 0,
   "metadata": {
    "colab": {},
    "colab_type": "code",
    "id": "F6bvTK7O1UJj"
   },
   "outputs": [],
   "source": [
    "# 在這寫下你的程式碼，並執行看看！"
   ]
  },
  {
   "cell_type": "markdown",
   "metadata": {
    "colab_type": "text",
    "id": "WbDA_p8q6lFd"
   },
   "source": [
    "### Ex 3-3 提示「請輸入任一個數字:」，根據所輸入數字，運用餘數運算，印出相對應的訊息： <br>\n",
    "0：星期 1，猴子穿新衣 <br>\n",
    "1：星期 2，猴子肚子餓 <br>\n",
    "2：星期 3，猴子去爬山 <br>\n",
    "3：星期 4，猴子去考試 <br>\n",
    "4：星期 5，猴子去跳舞 <br>\n",
    "5：星期 6，猴子去斗六 <br>\n",
    "6：星期日，猴子過生日 <br>\n"
   ]
  },
  {
   "cell_type": "code",
   "execution_count": 0,
   "metadata": {
    "colab": {},
    "colab_type": "code",
    "id": "H5r4J2Ra6oi5"
   },
   "outputs": [],
   "source": [
    "# 在這寫下你的程式碼，並執行看看！"
   ]
  },
  {
   "cell_type": "markdown",
   "metadata": {
    "colab_type": "text",
    "id": "HiEbC3EcvmtQ"
   },
   "source": [
    "## 4. 認識 for 迴圈 <br>\n",
    "```\n",
    "Note 1: for 的這行，最後都是以「:」作為結束。\n",
    "\n",
    "Note 2: for 迴圈下一行，就是一個子程式區塊的開始，所以程式碼都必須再內縮。\n",
    "```\n",
    "* Ref: https://www.w3schools.com/python/python_for_loops.asp"
   ]
  },
  {
   "cell_type": "code",
   "execution_count": 0,
   "metadata": {
    "colab": {},
    "colab_type": "code",
    "id": "SyDQp-WhzJiV"
   },
   "outputs": [],
   "source": [
    "# --------------------------------------------\n",
    "# 運行條件設定 型態 1：只設定「上限」\n",
    "# 預設從 0 開始，做到 5-1，也就是 4，共 5 次。\n",
    "upper_limit = 5\n",
    "for i in range(upper_limit):     # <--- 這一行的結尾一定要是 \":\" \n",
    "    j = i + 1\n",
    "    print('i=',i,', j=',j)\n"
   ]
  },
  {
   "cell_type": "code",
   "execution_count": 0,
   "metadata": {
    "colab": {},
    "colab_type": "code",
    "id": "jgblRVjMzTk5"
   },
   "outputs": [],
   "source": [
    "# 運行條件設定 型態 2：設定「起始」與「上限」\n",
    "# 從 1 開始，做到 5-1，也就是 4，共 4 次。\n",
    "start = 1\n",
    "upper_limit = 5\n",
    "for i in range(start, upper_limit):\n",
    "    j = i + 1\n",
    "    print('i=',i,', j=',j)\n"
   ]
  },
  {
   "cell_type": "code",
   "execution_count": 0,
   "metadata": {
    "colab": {},
    "colab_type": "code",
    "id": "bMYzhnOyzccZ"
   },
   "outputs": [],
   "source": [
    "# 運行條件設定 型態 3：設定」「起始」、「上限」與「間隔」\n",
    "# 從 1 開始，做到 5-1，也就是 4，共 4 次。\n",
    "start = 1\n",
    "upper_limit = 5\n",
    "step = 2\n",
    "for i in range(start, upper_limit, step):\n",
    "    j = i + 1\n",
    "    print('i=',i,', j=',j)\n"
   ]
  },
  {
   "cell_type": "code",
   "execution_count": 0,
   "metadata": {
    "colab": {},
    "colab_type": "code",
    "id": "hKQF5qqNF2WH"
   },
   "outputs": [],
   "source": [
    "# Python 獨有的 for 迴圈用法: 迴圈次數變數使用底線符號(underscore) \"_\"\n",
    "# 使用時機：就是當迴圈內的程式區塊，根本不會用到迴圈次數變數的內容時！\n",
    "for _ in range(4):\n",
    "    print(\"Happy Birthday to you!\")"
   ]
  },
  {
   "cell_type": "code",
   "execution_count": 0,
   "metadata": {
    "colab": {},
    "colab_type": "code",
    "id": "YXg0Xw63BBvf"
   },
   "outputs": [],
   "source": [
    "# 在這寫下你的程式碼，並執行看看！"
   ]
  },
  {
   "cell_type": "markdown",
   "metadata": {
    "colab_type": "text",
    "id": "RhYutr8xzqLI"
   },
   "source": [
    "### Ex 4-1. 試寫一個 for loop 來印出 10, 15, 20, 25, 30"
   ]
  },
  {
   "cell_type": "code",
   "execution_count": 0,
   "metadata": {
    "colab": {},
    "colab_type": "code",
    "id": "RjWvFlOVz8KB"
   },
   "outputs": [],
   "source": [
    "# 在這寫下你的程式碼，並執行看看！"
   ]
  },
  {
   "cell_type": "markdown",
   "metadata": {
    "colab_type": "text",
    "id": "exb8U9FV0C7h"
   },
   "source": [
    "### Ex 4-2. 試寫一個 for loop 來印出 1, 2, 3, 5, 8, 13\n",
    "**提示 1：從第三個數字開始，都會有個關係存在，例如： 3=1+2; 5=2+3... 以此類推**"
   ]
  },
  {
   "cell_type": "code",
   "execution_count": 0,
   "metadata": {
    "colab": {},
    "colab_type": "code",
    "id": "bGoj2cTI0hiT"
   },
   "outputs": [],
   "source": [
    "# 在這寫下你的程式碼，並執行看看！"
   ]
  },
  {
   "cell_type": "markdown",
   "metadata": {
    "colab_type": "text",
    "id": "_1Ah4T2HfPRa"
   },
   "source": [
    "### Ex 4-3. 試寫一個 for loop 來印出如下結果：<br>\n",
    "2 * 1 ＝ 2  \n",
    "2 * 2 ＝ 4  \n",
    "2 * 3 ＝ 6  \n",
    "2 * 4 ＝ 8  \n",
    "2 * 5 ＝ 10  <br>\n",
    "2 * 6 ＝ 12  \n",
    "2 * 7 ＝ 14  \n",
    "2 * 8 ＝ 16  \n",
    "2 * 9 ＝ 18 "
   ]
  },
  {
   "cell_type": "markdown",
   "metadata": {
    "colab_type": "text",
    "id": "LIJvGITTAjUB"
   },
   "source": [
    "### Ex 4-4. 輸入任一個數，然印出這個數字的所有因數。\n"
   ]
  },
  {
   "cell_type": "code",
   "execution_count": 0,
   "metadata": {
    "colab": {},
    "colab_type": "code",
    "id": "HTqU9lgWgZV4"
   },
   "outputs": [],
   "source": [
    "# 在這寫下你的程式碼，並執行看看！"
   ]
  },
  {
   "cell_type": "markdown",
   "metadata": {
    "colab_type": "text",
    "id": "bk_-c0M4_1p7"
   },
   "source": [
    "### Ex 4-5. (回家作業)試寫一個程式，可以找出本世紀(2000 ~ 2099年)的所有回文日。<br>\n",
    "註：所謂「回文日」就像 2020 年 02 月 02 日，一般可表示成 「yyyymmdd」亦即「20200202」。\n",
    "\n",
    "圖片來源：政大應數 蔡炎龍 教授\n",
    "<img src=\"https://scontent.frmq2-2.fna.fbcdn.net/v/t1.0-9/p720x720/83359802_10219103135181780_3922461458113232896_o.jpg?_nc_cat=101&_nc_eui2=AeFSwitPBb8USgeN_jrgPVGQC5BTZpXLTJPX7xHCbkrpkFNFVI44wy6G2ows9qfmogsVsZDlPXHcsCP14N9V4MW1kBN1u8eKATRi_81pCrQv_g&_nc_oc=AQnv5j3ORQB-6vB2B52Z_Bjgm-pihUmFnt3iroOhVFRci3wCQDVYWlyQ2l9Mr9El2Pk&_nc_ht=scontent.frmq2-2.fna&_nc_tp=6&oh=956c36e156d632166697c6295a2c7d1b&oe=5E8F53B6\">"
   ]
  },
  {
   "cell_type": "markdown",
   "metadata": {
    "colab_type": "text",
    "id": "s-hof8Up_2hr"
   },
   "source": [
    "## 5. 巢狀 for 迴圈"
   ]
  },
  {
   "cell_type": "code",
   "execution_count": 0,
   "metadata": {
    "colab": {},
    "colab_type": "code",
    "id": "9mo2O7Tj3m-Z"
   },
   "outputs": [],
   "source": [
    "# 巢狀 for 迴圈 \n",
    "## 外圈運行條件設定\n",
    "start1 = 1\n",
    "upper_limit1 = 5\n",
    "step1 = 2\n",
    "\n",
    "## 內圈運行條件設定\n",
    "start2 = 1\n",
    "upper_limit2 = 5\n",
    "step2 = 1\n",
    "\n",
    "for j in range(start1, upper_limit1, step1):          \n",
    "   print('j =',j)\n",
    "   for i in range(start2, upper_limit2, step2):\n",
    "      j = i + 1\n",
    "      print(i, end=',')\n",
    "   print()"
   ]
  },
  {
   "cell_type": "markdown",
   "metadata": {
    "colab_type": "text",
    "id": "m5Ue5-5C-zod"
   },
   "source": [
    "### Ex 5-1. 使用巢狀迴圈印出九九乘法表\n",
    "**提示 1：先求能寫出 2 的乘法表，再進一步寫出 n * n 的乘法表。**"
   ]
  },
  {
   "cell_type": "code",
   "execution_count": 0,
   "metadata": {
    "colab": {},
    "colab_type": "code",
    "id": "b9NGH8rlZ_8D"
   },
   "outputs": [],
   "source": [
    "# 在這寫下你的程式碼，並執行看看！"
   ]
  },
  {
   "cell_type": "markdown",
   "metadata": {
    "colab_type": "text",
    "id": "NxTPsjvMb85t"
   },
   "source": [
    "## 6. 認識函數\n",
    "一組程式碼的集合，被呼叫時，才會執行。\n",
    "* Ref: https://www.w3schools.com/python/python_functions.asp\n",
    "\n",
    "```\n",
    "範例：\n",
    "def my_function():\n",
    "  print(\"Hello from a function\") \n",
    "```"
   ]
  },
  {
   "cell_type": "code",
   "execution_count": 0,
   "metadata": {
    "colab": {},
    "colab_type": "code",
    "id": "SG0iBtURmbCn"
   },
   "outputs": [],
   "source": [
    "# 無參數 (No Argument)\n",
    "def my_function():\n",
    "  print(\"Hello from a function\")\n",
    "\n",
    "my_function()"
   ]
  },
  {
   "cell_type": "code",
   "execution_count": 0,
   "metadata": {
    "colab": {},
    "colab_type": "code",
    "id": "dDXePdqsmx4Y"
   },
   "outputs": [],
   "source": [
    "# 1 個參數 (One Argument)\n",
    "def my_function(fname):\n",
    "  print(fname + \" 早安！\")\n",
    "\n",
    "my_function(\"大家\") \n",
    "my_function(\"老師\")\n",
    "my_function(\"同學\")"
   ]
  },
  {
   "cell_type": "code",
   "execution_count": 0,
   "metadata": {
    "colab": {},
    "colab_type": "code",
    "id": "I4wp9qwMyCX3"
   },
   "outputs": [],
   "source": [
    "# 給定預設值參數 (Default Parameter Vaule)\n",
    "def my_function(country = \"Norway\"):\n",
    "  print(\"I am from \" + country)\n",
    "\n",
    "my_function(\"Sweden\")\n",
    "my_function(\"India\")\n",
    "my_function()\n",
    "my_function(\"Brazil\") "
   ]
  },
  {
   "cell_type": "code",
   "execution_count": 0,
   "metadata": {
    "colab": {},
    "colab_type": "code",
    "id": "8W865ymrnRcZ"
   },
   "outputs": [],
   "source": [
    "# 2 個有參數 (two Arguments)\n",
    "def my_function(fname, lname):\n",
    "  print(fname + \" \" + lname)\n",
    "\n",
    "my_function(\"老師\", \"早安！\") \n",
    "#my_function(\"Emil\")   # 只給一個參數，you will get an error!"
   ]
  },
  {
   "cell_type": "code",
   "execution_count": 0,
   "metadata": {
    "colab": {},
    "colab_type": "code",
    "id": "6FDg84AvvsvQ"
   },
   "outputs": [],
   "source": [
    "# 任意參數 (Arbitrary Arguments, *args)\n",
    "def my_function(*kids):           # 注意 kid 前要有的 '*' 符號\n",
    "  print(\"The youngest child is \" + kids[2])\n",
    "\n",
    "my_function(\"艾咪\", \"托比\", \"玲玲\"\") "
   ]
  },
  {
   "cell_type": "code",
   "execution_count": 0,
   "metadata": {
    "colab": {},
    "colab_type": "code",
    "id": "kLeOCVbXwq3L"
   },
   "outputs": [],
   "source": [
    "# 指定式參數 (keyword Arguments)\n",
    "def my_function(child3, child2, child1):\n",
    "  print(\"The youngest child is \" + child3)\n",
    "\n",
    "my_function(child1 = \"艾咪\", child2 = \"托比\", child3 = \"托比\") "
   ]
  },
  {
   "cell_type": "code",
   "execution_count": 0,
   "metadata": {
    "colab": {},
    "colab_type": "code",
    "id": "4n2dDtCoxnmJ"
   },
   "outputs": [],
   "source": [
    "# 任意指定式參數 (Arbitrary Keyword Arguments, **kwargs)\n",
    "def my_function(**kid):\n",
    "  print(\"His last name is \" + kid[\"lname\"])\n",
    "\n",
    "my_function(fname = \"Tobias\", lname = \"Refsnes\") "
   ]
  },
  {
   "cell_type": "code",
   "execution_count": 0,
   "metadata": {
    "colab": {},
    "colab_type": "code",
    "id": "I-7HlFKloB3c"
   },
   "outputs": [],
   "source": [
    "# 用 return 回傳值\n",
    "def my_function(x):\n",
    "  return 5 * x\n",
    "\n",
    "print(my_function(3))\n",
    "print(my_function(5))\n",
    "print(my_function(9)) "
   ]
  },
  {
   "cell_type": "code",
   "execution_count": 0,
   "metadata": {
    "colab": {},
    "colab_type": "code",
    "id": "hpy-YLFN5m6o"
   },
   "outputs": [],
   "source": [
    "# 遞迴式函數 (Recursion): 在函數內呼叫自己的函數\n",
    "def tri_recursion(k):\n",
    "  if(k>0):\n",
    "    result = k+tri_recursion(k-1)\n",
    "    print(result)\n",
    "  else:\n",
    "    result = 0\n",
    "  return result\n",
    "\n",
    "print(\"\\n\\nRecursion Example Results\")\n",
    "tri_recursion(6)"
   ]
  },
  {
   "cell_type": "markdown",
   "metadata": {
    "colab_type": "text",
    "id": "EDmgbhgpruZw"
   },
   "source": [
    "### Ex 6-1. 試使用函數來印出如下結果：\n",
    "2 * 1 ＝ 2  \n",
    "2 * 2 ＝ 4  \n",
    "2 * 3 ＝ 6  \n",
    "2 * 4 ＝ 8  \n",
    "2 * 5 ＝ 10  <br>\n",
    "2 * 6 ＝ 12  \n",
    "2 * 7 ＝ 14  \n",
    "2 * 8 ＝ 16  \n",
    "2 * 9 ＝ 18 "
   ]
  },
  {
   "cell_type": "code",
   "execution_count": 0,
   "metadata": {
    "colab": {},
    "colab_type": "code",
    "id": "Qig1H2lZsRX3"
   },
   "outputs": [],
   "source": [
    "# 在這寫下你的程式碼，並執行看看！\n"
   ]
  },
  {
   "cell_type": "markdown",
   "metadata": {
    "colab_type": "text",
    "id": "y6mqWF2AsBx9"
   },
   "source": [
    "### Ex 6-2. (回家作業) 試使用一個迴圈 + 一個函數，印出九九乘法表\n"
   ]
  },
  {
   "cell_type": "code",
   "execution_count": 0,
   "metadata": {
    "colab": {},
    "colab_type": "code",
    "id": "p5F6ZAA6sQxw"
   },
   "outputs": [],
   "source": [
    "# 在這寫下你的程式碼，並執行看看！\n"
   ]
  },
  {
   "cell_type": "markdown",
   "metadata": {
    "colab_type": "text",
    "id": "sC1CJ1uy1R4z"
   },
   "source": [
    "### Ex 6-3. (回家作業) 輸入任兩個數，然印出這兩個數字的 gcd。\n"
   ]
  },
  {
   "cell_type": "code",
   "execution_count": 0,
   "metadata": {
    "colab": {},
    "colab_type": "code",
    "id": "DeNGPaTFpa-3"
   },
   "outputs": [],
   "source": [
    "# 在這寫下你的程式碼，並執行看看！\n"
   ]
  },
  {
   "cell_type": "markdown",
   "metadata": {
    "colab_type": "text",
    "id": "a59K-4H8ZWJN"
   },
   "source": [
    "### ＝＝＝＝＝＝＝＝＝＝＝＝＝＝＝＝＝ The End ＝＝＝＝＝＝＝＝＝＝＝＝＝＝＝＝＝\n",
    "©2020 蓉爸, AI4kids 愛奇智慧科技股份有限公司"
   ]
  }
 ],
 "metadata": {
  "colab": {
   "collapsed_sections": [],
   "name": "20. Python快速入門-02 (2020-01).ipynb",
   "provenance": [
    {
     "file_id": "1xQqYW5BRdEfidSYL93_4cLZtu7b95gJ7",
     "timestamp": 1578904244767
    },
    {
     "file_id": "1CM4Zfwd_yuD1NvG_DXYWrCsAD9d5vj4N",
     "timestamp": 1574758880351
    }
   ]
  },
  "kernelspec": {
   "display_name": "Python 3",
   "language": "python",
   "name": "python3"
  },
  "language_info": {
   "codemirror_mode": {
    "name": "ipython",
    "version": 3
   },
   "file_extension": ".py",
   "mimetype": "text/x-python",
   "name": "python",
   "nbconvert_exporter": "python",
   "pygments_lexer": "ipython3",
   "version": "3.6.7"
  }
 },
 "nbformat": 4,
 "nbformat_minor": 1
}
