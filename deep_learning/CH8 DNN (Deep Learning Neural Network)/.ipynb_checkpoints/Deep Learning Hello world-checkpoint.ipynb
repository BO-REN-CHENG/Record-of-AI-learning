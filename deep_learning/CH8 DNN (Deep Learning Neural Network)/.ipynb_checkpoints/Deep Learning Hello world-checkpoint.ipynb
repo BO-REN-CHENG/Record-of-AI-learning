{
 "cells": [
  {
   "cell_type": "markdown",
   "metadata": {
    "colab_type": "text",
    "id": "dp7xEaE1MUtf"
   },
   "source": [
    "## 作業一\n",
    "\n",
    "* 閱讀下方YT教學 (建議用1.25-1.5倍速觀看)\n",
    "\n",
    "* 做ppt(7頁左右)簡易講解Deep Learning (不用介紹歷史)\n",
    "\n",
    "* 介紹重點:  what/why/how deep learning?  各layer介紹 "
   ]
  },
  {
   "cell_type": "markdown",
   "metadata": {
    "colab_type": "text",
    "id": "kDBO6IyhMXRc"
   },
   "source": []
  },
  {
   "cell_type": "markdown",
   "metadata": {
    "colab_type": "text",
    "id": "pwYSR681MUtg"
   },
   "source": [
    "[Brief Introduction of Deep Learning 李弘毅](https://www.youtube.com/watch?v=Dr-WRlEFefw&list=PLJV_el3uVTsPy9oCRY30oBPNLCo89yu49&index=11)"
   ]
  },
  {
   "cell_type": "markdown",
   "metadata": {
    "colab_type": "text",
    "id": "Owg21EqqMUth"
   },
   "source": [
    "[“Hello world” of deep learning 李弘毅](https://www.youtube.com/watch?v=Lx3l4lOrquw&list=PLJV_el3uVTsPy9oCRY30oBPNLCo89yu49&index=13)\n",
    "\n"
   ]
  },
  {
   "cell_type": "markdown",
   "metadata": {},
   "source": [
    "### 作業二\n",
    "\n",
    "參考下方資料,架設NN model 進行手寫辨識\n",
    "\n",
    "[Keras 2.0](https://www.youtube.com/watch?v=5BJDJd-dzzg&list=PLJV_el3uVTsPy9oCRY30oBPNLCo89yu49&index=14)\n",
    "\n",
    "[Keras Demo](https://www.youtube.com/watch?v=L8unuZNpWw8&list=PLJV_el3uVTsPy9oCRY30oBPNLCo89yu49&index=15)\n",
    "\n",
    "[參考作法](http://puremonkey2010.blogspot.com/2017/06/toolkit-keras-mnist.html)"
   ]
  },
  {
   "cell_type": "markdown",
   "metadata": {},
   "source": [
    "# 參考資料\n",
    "## 實作:\n",
    "[Save & reload 保存提取](https://morvanzhou.github.io/tutorials/machine-learning/keras/3-1-save/)\n",
    "\n",
    "[Toolkit Keras - MNIST 手寫數字辨識使用 CNN](http://puremonkey2010.blogspot.com/2017/07/toolkit-keras-mnist-cnn.html)\n",
    "\n",
    "[初學Python手記#3-資料前處理( Label encoding、 One hot encoding)](https://medium.com/@PatHuang/%E5%88%9D%E5%AD%B8python%E6%89%8B%E8%A8%98-3-%E8%B3%87%E6%96%99%E5%89%8D%E8%99%95%E7%90%86-label-encoding-one-hot-encoding-85c983d63f87)\n",
    "\n",
    "\n",
    "## 觀念:\n",
    "[深度學習最常用的算法:Adam優化算法](https://juejin.im/entry/5983115f6fb9a03c50227fd4)\n",
    "\n",
    "[Day 05：Keras 模型、函數及參數使用說明](https://ithelp.ithome.com.tw/articles/10191725)\n",
    "\n",
    "[機器/深度學習: 基礎介紹-損失函數(loss function)](https://medium.com/@chih.sheng.huang821/%E6%A9%9F%E5%99%A8-%E6%B7%B1%E5%BA%A6%E5%AD%B8%E7%BF%92-%E5%9F%BA%E7%A4%8E%E4%BB%8B%E7%B4%B9-%E6%90%8D%E5%A4%B1%E5%87%BD%E6%95%B8-loss-function-2dcac5ebb6cb)\n",
    "\n",
    "[機器學習：梯度消失（vanishing gradient）與梯度爆炸（exploding gradient）問題](https://www.itread01.com/content/1542206046.html)\n",
    "\n",
    "\n"
   ]
  },
  {
   "cell_type": "markdown",
   "metadata": {},
   "source": [
    "## 下載 Mnist 資料 \n",
    "## 我們將建立以下 Keras 程式, 下載並讀取 mnist 資料. \n",
    "\n",
    "### STEP1. 匯入 Keras 及相關模組 "
   ]
  },
  {
   "cell_type": "code",
   "execution_count": 1,
   "metadata": {
    "scrolled": true
   },
   "outputs": [
    {
     "name": "stdout",
     "output_type": "stream",
     "text": [
      "Package              Version  \n",
      "-------------------- ---------\n",
      "absl-py              0.10.0   \n",
      "argon2-cffi          20.1.0   \n",
      "astor                0.8.1    \n",
      "attrs                20.1.0   \n",
      "backcall             0.2.0    \n",
      "bleach               3.1.5    \n",
      "certifi              2020.6.20\n",
      "cffi                 1.14.2   \n",
      "colorama             0.4.3    \n",
      "colour               0.1.5    \n",
      "cycler               0.10.0   \n",
      "Cython               0.29.21  \n",
      "decorator            4.4.2    \n",
      "defusedxml           0.6.0    \n",
      "entrypoints          0.3      \n",
      "future               0.18.2   \n",
      "gast                 0.4.0    \n",
      "grpcio               1.31.0   \n",
      "h5py                 2.10.0   \n",
      "imageio              2.9.0    \n",
      "importlib-metadata   1.7.0    \n",
      "ipykernel            5.3.4    \n",
      "ipython              7.16.1   \n",
      "ipython-genutils     0.2.0    \n",
      "ipywidgets           7.5.1    \n",
      "jedi                 0.17.2   \n",
      "Jinja2               2.11.2   \n",
      "joblib               0.16.0   \n",
      "jsonschema           3.2.0    \n",
      "jupyter              1.0.0    \n",
      "jupyter-client       6.1.6    \n",
      "jupyter-console      6.1.0    \n",
      "jupyter-core         4.6.3    \n",
      "Keras                2.3.0    \n",
      "Keras-Applications   1.0.8    \n",
      "Keras-Preprocessing  1.1.2    \n",
      "kiwisolver           1.2.0    \n",
      "llvmlite             0.34.0   \n",
      "Markdown             3.2.2    \n",
      "MarkupSafe           1.1.1    \n",
      "matplotlib           3.3.1    \n",
      "mistune              0.8.4    \n",
      "mock                 4.0.2    \n",
      "nbconvert            5.6.1    \n",
      "nbformat             5.0.7    \n",
      "networkx             2.5      \n",
      "notebook             6.1.3    \n",
      "numba                0.51.1   \n",
      "numpy                1.16.4   \n",
      "opencv-python        4.4.0.42 \n",
      "packaging            20.4     \n",
      "pandas               1.1.0    \n",
      "pandocfilters        1.4.2    \n",
      "parso                0.7.1    \n",
      "pickleshare          0.7.5    \n",
      "Pillow               7.2.0    \n",
      "pip                  18.1     \n",
      "prometheus-client    0.8.0    \n",
      "prompt-toolkit       3.0.6    \n",
      "protobuf             3.13.0   \n",
      "pycocotools          2.0.2    \n",
      "pycparser            2.20     \n",
      "Pygments             2.6.1    \n",
      "pyparsing            2.4.7    \n",
      "pyrsistent           0.16.0   \n",
      "python-dateutil      2.8.1    \n",
      "pytz                 2020.1   \n",
      "PyWavelets           1.1.1    \n",
      "pywin32              228      \n",
      "pywinpty             0.5.7    \n",
      "PyYAML               5.1      \n",
      "pyzmq                19.0.2   \n",
      "qtconsole            4.7.6    \n",
      "QtPy                 1.9.0    \n",
      "rfpimp               1.3.5    \n",
      "scikit-image         0.17.2   \n",
      "scikit-learn         0.23.2   \n",
      "scipy                1.5.2    \n",
      "seaborn              0.10.1   \n",
      "Send2Trash           1.5.0    \n",
      "setuptools           40.6.2   \n",
      "shap                 0.36.0   \n",
      "six                  1.15.0   \n",
      "sklearn              0.0      \n",
      "slicer               0.0.3    \n",
      "stratx               0.5      \n",
      "tensorboard          1.13.1   \n",
      "tensorflow-estimator 1.13.0   \n",
      "tensorflow-gpu       1.13.1   \n",
      "termcolor            1.1.0    \n",
      "terminado            0.8.3    \n",
      "testpath             0.4.4    \n",
      "threadpoolctl        2.1.0    \n",
      "tifffile             2020.9.3 \n",
      "torch                1.6.0+cpu\n",
      "torchvision          0.7.0+cpu\n",
      "tornado              6.0.4    \n",
      "tqdm                 4.48.2   \n",
      "traitlets            4.3.3    \n",
      "wcwidth              0.2.5    \n",
      "webencodings         0.5.1    \n",
      "Werkzeug             1.0.1    \n",
      "wheel                0.35.1   \n",
      "widgetsnbextension   3.5.1    \n",
      "xgboost              1.2.0    \n",
      "zipp                 3.1.0    \n"
     ]
    },
    {
     "name": "stderr",
     "output_type": "stream",
     "text": [
      "You are using pip version 18.1, however version 20.2.3 is available.\n",
      "You should consider upgrading via the 'python -m pip install --upgrade pip' command.\n"
     ]
    }
   ],
   "source": [
    "!pip list\n"
   ]
  },
  {
   "cell_type": "code",
   "execution_count": 2,
   "metadata": {
    "colab": {},
    "colab_type": "code",
    "id": "DfA1ze59MUti",
    "scrolled": true
   },
   "outputs": [
    {
     "name": "stderr",
     "output_type": "stream",
     "text": [
      "Using TensorFlow backend.\n"
     ]
    }
   ],
   "source": [
    "import numpy as np  \n",
    "import pandas as pd  \n",
    "from keras.utils import np_utils  # 用來後續將 label 標籤轉為 one-hot-encoding  \n",
    "  \n",
    "# np.random.seed(10)  \n"
   ]
  },
  {
   "cell_type": "markdown",
   "metadata": {},
   "source": [
    "### STEP2. 下載 mnist 資料 "
   ]
  },
  {
   "cell_type": "code",
   "execution_count": 3,
   "metadata": {},
   "outputs": [],
   "source": [
    "from keras.datasets import mnist  "
   ]
  },
  {
   "cell_type": "markdown",
   "metadata": {},
   "source": [
    "### STEP3. 讀取與查看 mnist 資料 "
   ]
  },
  {
   "cell_type": "code",
   "execution_count": 4,
   "metadata": {},
   "outputs": [
    {
     "name": "stdout",
     "output_type": "stream",
     "text": [
      "\t[Info] train data= 60,000\n",
      "\t[Info] test  data= 10,000\n"
     ]
    }
   ],
   "source": [
    "(X_train_image, y_train_label), (X_test_image, y_test_label) = mnist.load_data()  \n",
    "print(\"\\t[Info] train data={:7,}\".format(len(X_train_image)))  #??\n",
    "print(\"\\t[Info] test  data={:7,}\".format(len(X_test_image)))  "
   ]
  },
  {
   "cell_type": "markdown",
   "metadata": {},
   "source": [
    "## 查看訓練資料 \n",
    "#### 接著我們來看載入資料的長相與格式. \n",
    "\n",
    "### STEP1. 訓練資料是由 images 與 labels 所組成 "
   ]
  },
  {
   "cell_type": "code",
   "execution_count": 5,
   "metadata": {},
   "outputs": [
    {
     "name": "stdout",
     "output_type": "stream",
     "text": [
      "\t[Info] Shape of train data=(60000, 28, 28)\n",
      "\t[Info] Shape of train label=(60000,)\n"
     ]
    }
   ],
   "source": [
    "print(\"\\t[Info] Shape of train data=%s\" % (str(X_train_image.shape)))  \n",
    "print(\"\\t[Info] Shape of train label=%s\" % (str(y_train_label.shape)))\n",
    " #訓練資料是由 images 與 labels 所組成共有 60,000 筆, 每一筆代表某個數字的影像為 28x28 pixels."
   ]
  },
  {
   "cell_type": "markdown",
   "metadata": {},
   "source": [
    "### STEP2. 定應 plot_image 函數顯示數字影像 "
   ]
  },
  {
   "cell_type": "code",
   "execution_count": 6,
   "metadata": {},
   "outputs": [],
   "source": [
    "import matplotlib.pyplot as plt  \n",
    "def plot_image(image):  \n",
    "    fig = plt.gcf()  \n",
    "    fig.set_size_inches(2,2)  \n",
    "    plt.imshow(image, cmap='binary') # cmap='binary' 參數設定以黑白灰階顯示.  \n",
    "    plt.show()  \n",
    "#matplotlib.pyplot.gcf() 得到當前的 figure\n",
    "#matplotlib.pyplot.gca() 得到當前的 axes\n",
    "#matplotlib.pyplot.sca(ax) 設定當前的 axes，並且會自動更正 figure"
   ]
  },
  {
   "cell_type": "markdown",
   "metadata": {},
   "source": [
    "### STEP3. 執行 plot_image 函數查看第 0 筆數字影像與 label 資料 "
   ]
  },
  {
   "cell_type": "code",
   "execution_count": 7,
   "metadata": {},
   "outputs": [
    {
     "data": {
      "image/png": "[encoded data removed]",
      "text/plain": [
       "<Figure size 144x144 with 1 Axes>"
      ]
     },
     "metadata": {
      "needs_background": "light"
     },
     "output_type": "display_data"
    }
   ],
   "source": [
    "plot_image(X_train_image[0])"
   ]
  },
  {
   "cell_type": "code",
   "execution_count": 8,
   "metadata": {},
   "outputs": [
    {
     "data": {
      "text/plain": [
       "5"
      ]
     },
     "execution_count": 8,
     "metadata": {},
     "output_type": "execute_result"
    }
   ],
   "source": [
    "y_train_label[0]"
   ]
  },
  {
   "cell_type": "markdown",
   "metadata": {},
   "source": [
    "## 查看多筆訓練資料 images 與 labels \n",
    "## 接下來我們將建立 plot_images_labels_predict 函數, 可以顯示多筆資料的影像與 label. \n",
    "\n",
    "### STEP1. 建立 plot_images_labels_predict() 函數 \n",
    " 因為後續我們希望能很方便查看數字圖形, 真實的數字與預測結果, 所以我們建立了以下函數: "
   ]
  },
  {
   "cell_type": "code",
   "execution_count": 9,
   "metadata": {},
   "outputs": [],
   "source": [
    "def plot_images_labels_predict(images, labels, prediction, idx, num=10):  \n",
    "    fig = plt.gcf()  \n",
    "    fig.set_size_inches(12, 14)   #設定圖片大小???\n",
    "    if num > 25: num = 25  \n",
    "    for i in range(0, num):  \n",
    "        ax=plt.subplot(5,5, 1+i)  \n",
    "        ax.imshow(images[idx], cmap='binary')  \n",
    "        title = \"l=\" + str(labels[idx])  \n",
    "        if len(prediction) > 0:  \n",
    "            title = \"l={},p={}\".format(str(labels[idx]), str(prediction[idx]))  \n",
    "        else:  \n",
    "            title = \"l={}\".format(str(labels[idx]))  \n",
    "        ax.set_title(title, fontsize=10)  \n",
    "        ax.set_xticks([]); ax.set_yticks([])  \n",
    "        idx+=1  \n",
    "    plt.show()  "
   ]
  },
  {
   "cell_type": "code",
   "execution_count": 10,
   "metadata": {},
   "outputs": [
    {
     "data": {
      "image/png": "[encoded data removed]",
      "text/plain": [
       "<Figure size 864x1008 with 10 Axes>"
      ]
     },
     "metadata": {},
     "output_type": "display_data"
    }
   ],
   "source": [
    ">>> plot_images_labels_predict(X_train_image, y_train_label, [], 0, 10)"
   ]
  },
  {
   "cell_type": "code",
   "execution_count": 11,
   "metadata": {},
   "outputs": [
    {
     "data": {
      "image/png": "[encoded data removed]",
      "text/plain": [
       "<Figure size 864x1008 with 10 Axes>"
      ]
     },
     "metadata": {},
     "output_type": "display_data"
    }
   ],
   "source": [
    ">>> plot_images_labels_predict(X_train_image, y_train_label, [], 0, 10)"
   ]
  },
  {
   "cell_type": "markdown",
   "metadata": {},
   "source": [
    "## 多層感知器模型資料前處理 \n",
    " 接下來我們建立 多層感知器模型 (MLP), 我們必須先將 images 與 labels 的內容進行前處理, 才能餵進去 Keras 預期的資料結構. \n",
    "\n",
    "### STEP1. features (數字影像的特徵值) 資料前處理 \n",
    " 首先將 image 以 reshape 轉換為二維 ndarray 並進行 normalization (Feature scaling): "
   ]
  },
  {
   "cell_type": "code",
   "execution_count": 12,
   "metadata": {},
   "outputs": [
    {
     "name": "stdout",
     "output_type": "stream",
     "text": [
      "\t[Info] xTrain: (60000, 784)\n",
      "\t[Info] xTest: (10000, 784)\n"
     ]
    }
   ],
   "source": [
    "x_Train = X_train_image.reshape(60000, 28*28).astype('float32')  \n",
    "x_Test = X_test_image.reshape(10000, 28*28).astype('float32')  \n",
    "print(\"\\t[Info] xTrain: %s\" % (str(x_Train.shape)))  \n",
    "print(\"\\t[Info] xTest: %s\" % (str(x_Test.shape)))  \n",
    "  \n",
    "# Normalization  \n",
    "x_Train_norm = x_Train/255  #(灰階除以255)\n",
    "x_Test_norm = x_Test/255  "
   ]
  },
  {
   "cell_type": "markdown",
   "metadata": {},
   "source": [
    "### STEP2. labels (影像數字真實的值) 資料前處理 \n",
    " label 標籤欄位原本是 0-9 數字, 而為了配合 Keras 的資料格式, 我們必須進行 One-hot-encoding 將之轉換為 10 個 0 或 1 的組合, 例如數字 7 經過 One-hot encoding 轉換後是 0000000100, 正好對應到輸出層的 10 個神經元. 下面簡單測試過程: "
   ]
  },
  {
   "cell_type": "code",
   "execution_count": 13,
   "metadata": {},
   "outputs": [],
   "source": [
    "#>>> from ch6_1 import  # 載之前的代碼\n",
    ">>> y_TrainOneHot = np_utils.to_categorical(y_train_label) # 將 training 的 label 進行 one-hot encoding\n",
    ">>> y_TestOneHot = np_utils.to_categorical(y_test_label) # 將測試的 labels 進行 one-hot encoding\n",
    "\n"
   ]
  },
  {
   "cell_type": "code",
   "execution_count": 14,
   "metadata": {},
   "outputs": [
    {
     "data": {
      "text/plain": [
       "5"
      ]
     },
     "execution_count": 14,
     "metadata": {},
     "output_type": "execute_result"
    }
   ],
   "source": [
    ">>> y_train_label[0] # 檢視 training labels 第一個 label 的值\n"
   ]
  },
  {
   "cell_type": "code",
   "execution_count": 15,
   "metadata": {},
   "outputs": [
    {
     "data": {
      "text/plain": [
       "array([[0., 0., 0., 0., 0., 1., 0., 0., 0., 0.]], dtype=float32)"
      ]
     },
     "execution_count": 15,
     "metadata": {},
     "output_type": "execute_result"
    }
   ],
   "source": [
    ">>> y_TrainOneHot[:1] #檢視第一個 label 在 one-hot encoding 後的結果, 會在第六個位置上為 1, 其他位置上為 0\n",
    "#array([[ 0., 0., 0., 0., 0., 1., 0., 0., 0., 0.]])\n"
   ]
  },
  {
   "cell_type": "markdown",
   "metadata": {},
   "source": [
    "#### 建立模型我們將建立以下多層感知器 Multilayer Perceptron 模型, 輸入層 (x) 共有 28x28=784 個神經元, Hidden layers (h) 共有 256 層; 輸出層 (y) 共有 10 個 神經元: "
   ]
  },
  {
   "cell_type": "code",
   "execution_count": 16,
   "metadata": {},
   "outputs": [
    {
     "name": "stdout",
     "output_type": "stream",
     "text": [
      "WARNING:tensorflow:From c:\\users\\highd\\appdata\\local\\programs\\python\\python36\\lib\\site-packages\\tensorflow\\python\\ops\\resource_variable_ops.py:435: colocate_with (from tensorflow.python.framework.ops) is deprecated and will be removed in a future version.\n",
      "Instructions for updating:\n",
      "Colocations handled automatically by placer.\n",
      "\t[Info] Model summary:\n",
      "Model: \"sequential_1\"\n",
      "_________________________________________________________________\n",
      "Layer (type)                 Output Shape              Param #   \n",
      "=================================================================\n",
      "dense_1 (Dense)              (None, 256)               200960    \n",
      "_________________________________________________________________\n",
      "dense_2 (Dense)              (None, 10)                2570      \n",
      "=================================================================\n",
      "Total params: 203,530\n",
      "Trainable params: 203,530\n",
      "Non-trainable params: 0\n",
      "_________________________________________________________________\n",
      "\n"
     ]
    }
   ],
   "source": [
    "from keras.models import Sequential  \n",
    "from keras.layers import Dense  \n",
    "  \n",
    "model = Sequential()  # Build Linear Model  \n",
    "  \n",
    "model.add(Dense(units=256, input_dim=784, kernel_initializer='normal', activation='relu')) # Add Input/hidden layer  \n",
    "model.add(Dense(units=10, kernel_initializer='normal', activation='softmax')) # Add Hidden/output layer  \n",
    "print(\"\\t[Info] Model summary:\")  \n",
    "model.summary()  \n",
    "print(\"\")  "
   ]
  },
  {
   "cell_type": "markdown",
   "metadata": {},
   "source": [
    "![title](3946_4.png)"
   ]
  },
  {
   "cell_type": "markdown",
   "metadata": {},
   "source": [
    "## 進行訓練 \n",
    "當我們建立深度學習模型後, 就可以使用 Backpropagation 進行訓練. \n",
    "\n",
    "### STEP1. 定義訓練方式 \n",
    "在訓練模型之前, 我們必須先使用 compile 方法, 對訓練模型進行設定, 代碼如下: "
   ]
  },
  {
   "cell_type": "code",
   "execution_count": 17,
   "metadata": {},
   "outputs": [
    {
     "data": {
      "text/plain": [
       "'\\n* loss: 設定 loss function, 在深度學習通常使用 cross_entropy (Cross entropy) 交叉摘順練效果較好.\\n* optimizer: 設定訓練時的優化方法, 在深度學習使用 adam 可以讓訓練更快收斂, 並提高準確率.\\n* metrics: 設定評估模型的方式是 accuracy (準確率)\\n'"
      ]
     },
     "execution_count": 17,
     "metadata": {},
     "output_type": "execute_result"
    }
   ],
   "source": [
    "model.compile(loss='categorical_crossentropy', optimizer='adam', metrics=['accuracy']) \n",
    "'''\n",
    "* loss: 設定 loss function, 在深度學習通常使用 cross_entropy (Cross entropy) 交叉摘順練效果較好.\n",
    "* optimizer: 設定訓練時的優化方法, 在深度學習使用 adam 可以讓訓練更快收斂, 並提高準確率.\n",
    "* metrics: 設定評估模型的方式是 accuracy (準確率)\n",
    "'''"
   ]
  },
  {
   "cell_type": "markdown",
   "metadata": {},
   "source": [
    "### STEP2. 開始訓練 \n",
    "#### 執行訓練的程式碼如下: "
   ]
  },
  {
   "cell_type": "code",
   "execution_count": 18,
   "metadata": {},
   "outputs": [
    {
     "name": "stdout",
     "output_type": "stream",
     "text": [
      "WARNING:tensorflow:From c:\\users\\highd\\appdata\\local\\programs\\python\\python36\\lib\\site-packages\\tensorflow\\python\\ops\\math_ops.py:3066: to_int32 (from tensorflow.python.ops.math_ops) is deprecated and will be removed in a future version.\n",
      "Instructions for updating:\n",
      "Use tf.cast instead.\n",
      "Train on 48000 samples, validate on 12000 samples\n",
      "Epoch 1/10\n",
      " - 1s - loss: 0.4400 - accuracy: 0.8859 - val_loss: 0.2190 - val_accuracy: 0.9397\n",
      "Epoch 2/10\n",
      " - 1s - loss: 0.1868 - accuracy: 0.9471 - val_loss: 0.1515 - val_accuracy: 0.9582\n",
      "Epoch 3/10\n",
      " - 1s - loss: 0.1311 - accuracy: 0.9631 - val_loss: 0.1267 - val_accuracy: 0.9627\n",
      "Epoch 4/10\n",
      " - 1s - loss: 0.0992 - accuracy: 0.9728 - val_loss: 0.1127 - val_accuracy: 0.9674\n",
      "Epoch 5/10\n",
      " - 1s - loss: 0.0793 - accuracy: 0.9780 - val_loss: 0.0976 - val_accuracy: 0.9712\n",
      "Epoch 6/10\n",
      " - 1s - loss: 0.0639 - accuracy: 0.9821 - val_loss: 0.0934 - val_accuracy: 0.9732\n",
      "Epoch 7/10\n",
      " - 1s - loss: 0.0528 - accuracy: 0.9855 - val_loss: 0.0883 - val_accuracy: 0.9729\n",
      "Epoch 8/10\n",
      " - 1s - loss: 0.0430 - accuracy: 0.9886 - val_loss: 0.0830 - val_accuracy: 0.9754\n",
      "Epoch 9/10\n",
      " - 1s - loss: 0.0373 - accuracy: 0.9902 - val_loss: 0.0820 - val_accuracy: 0.9763\n",
      "Epoch 10/10\n",
      " - 1s - loss: 0.0311 - accuracy: 0.9923 - val_loss: 0.0794 - val_accuracy: 0.9772\n"
     ]
    }
   ],
   "source": [
    "train_history = model.fit(x=x_Train_norm, y=y_TrainOneHot, validation_split=0.2, epochs=10, batch_size=200, verbose=2)  "
   ]
  },
  {
   "cell_type": "markdown",
   "metadata": {},
   "source": [
    "* x=x_Train_norm: features 數字的影像特徵值 (60,000 x 784 的陣列).\n",
    "* y=y_Train_OneHot: label 數字的 One-hot encoding 陣列 (60,000 x 10 的陣列)\n",
    "* validation_split = 0.2: 設定訓練資料與 cross validation 的資料比率. 也就是說會有 0.8 * 60,000 = 48,000 作為訓練資料; 0.2 * 60,000 = 12,000 作為驗證資料.\n",
    "* epochs = 10: 執行 10 次的訓練週期.\n",
    "* batch_size = 200: 每一批次的訓練筆數為 200\n",
    "* verbose = 2: 顯示訓練過程. 共執行 10 次 epoch (訓練週期), 每批 200 筆, 也就是每次會有 240 round (48,000 / 200 = 240). 每一次的 epoch 會計算 accuracy 並記錄在 train_history 中."
   ]
  },
  {
   "cell_type": "markdown",
   "metadata": {},
   "source": [
    "### STEP3. 建立 show_train_history 顯示訓練過程 \n",
    " 之前訓練步驟會將每一個訓練週期的 accuracy 與 loss 記錄在 train_history 變數. 我們可以使用下面程式碼讀取 train_history 以圖表顯示訓練過程: "
   ]
  },
  {
   "cell_type": "code",
   "execution_count": 19,
   "metadata": {},
   "outputs": [],
   "source": [
    "import matplotlib.pyplot as plt  \n",
    "def show_train_history(train_history, train, validation):  \n",
    "    plt.plot(train_history.history[train])  \n",
    "    plt.plot(train_history.history[validation])  \n",
    "    plt.title('Train History')  \n",
    "    plt.ylabel(train)  \n",
    "    plt.xlabel('Epoch')  \n",
    "    plt.legend(['train', 'validation'], loc='upper left')  \n",
    "    plt.show()  "
   ]
  },
  {
   "cell_type": "code",
   "execution_count": 20,
   "metadata": {},
   "outputs": [
    {
     "name": "stdout",
     "output_type": "stream",
     "text": [
      "dict_keys(['val_loss', 'val_accuracy', 'loss', 'accuracy'])\n"
     ]
    }
   ],
   "source": [
    "print(train_history.history.keys())"
   ]
  },
  {
   "cell_type": "code",
   "execution_count": 21,
   "metadata": {},
   "outputs": [
    {
     "data": {
      "image/png": "[encoded data removed]",
      "text/plain": [
       "<Figure size 432x288 with 1 Axes>"
      ]
     },
     "metadata": {
      "needs_background": "light"
     },
     "output_type": "display_data"
    }
   ],
   "source": [
    "show_train_history(train_history, 'accuracy', 'val_accuracy')  "
   ]
  },
  {
   "cell_type": "markdown",
   "metadata": {},
   "source": [
    "#### 如果 \"acc 訓練的準確率\" 一直提升, 但是 \"val_acc 的準確率\" 卻一直沒有增加, 就有可能是 Overfitting 的現象 (更多說明請參考 Bias, Variance, and Overfitting). 在完成所有 (epoch) 訓練週期後, 在後面還會使用測試資料來評估模型準確率, 這是另外一組獨立的資料, 所以計算準確率會更客觀. \n",
    "#### 接著我們來看 loss 誤差的執行結果: "
   ]
  },
  {
   "cell_type": "code",
   "execution_count": 22,
   "metadata": {},
   "outputs": [
    {
     "data": {
      "image/png": "[encoded data removed]",
      "text/plain": [
       "<Figure size 432x288 with 1 Axes>"
      ]
     },
     "metadata": {
      "needs_background": "light"
     },
     "output_type": "display_data"
    }
   ],
   "source": [
    "show_train_history(train_history, 'loss', 'val_loss')  "
   ]
  },
  {
   "cell_type": "markdown",
   "metadata": {},
   "source": [
    "### 總共執行 10 個 Epoch 訓練週期, 可以發現: \n",
    "* 不論訓練與驗證, 誤差越來越低.\n",
    "* 在 Epoch 訓練後期, \"loss 訓練的誤差\" 比 \"val_loss 驗證的誤差\" 小."
   ]
  },
  {
   "cell_type": "markdown",
   "metadata": {},
   "source": [
    "### STEP1. 評估模型準確率 \n",
    "使用下面代碼評估模型準確率: "
   ]
  },
  {
   "cell_type": "code",
   "execution_count": 23,
   "metadata": {},
   "outputs": [
    {
     "name": "stdout",
     "output_type": "stream",
     "text": [
      "10000/10000 [==============================] - 0s 36us/step\n",
      "\n",
      "\t[Info] Accuracy of testing data = 97.9%\n"
     ]
    }
   ],
   "source": [
    "scores = model.evaluate(x_Test_norm, y_TestOneHot)  \n",
    "print()  \n",
    "print(\"\\t[Info] Accuracy of testing data = {:2.1f}%\".format(scores[1]*100.0)) "
   ]
  },
  {
   "cell_type": "markdown",
   "metadata": {},
   "source": [
    "### STEP2. 進行預測 \n",
    "前面我們建立模型並於訓練後達成可以接受的 97% 準確率, 接著我們將使用此模型進行預測. "
   ]
  },
  {
   "cell_type": "code",
   "execution_count": 24,
   "metadata": {},
   "outputs": [
    {
     "name": "stdout",
     "output_type": "stream",
     "text": [
      "\t[Info] Making prediction to x_Test_norm\n",
      "\n",
      "\t[Info] Show 10 prediction result (From 240):\n",
      "[5 9 8 7 2 3 0 2 4 2]\n",
      "\n"
     ]
    },
    {
     "data": {
      "image/png": "[encoded data removed]",
      "text/plain": [
       "<Figure size 864x1008 with 10 Axes>"
      ]
     },
     "metadata": {},
     "output_type": "display_data"
    },
    {
     "name": "stdout",
     "output_type": "stream",
     "text": [
      "\t[Info] Error analysis:\n"
     ]
    }
   ],
   "source": [
    "import os  \n",
    "  \n",
    "def isDisplayAvl():  \n",
    "    return True  \n",
    "print(\"\\t[Info] Making prediction to x_Test_norm\")  \n",
    "prediction = model.predict_classes(x_Test_norm)  # Making prediction and save result to prediction  \n",
    "print()  \n",
    "print(\"\\t[Info] Show 10 prediction result (From 240):\")  \n",
    "print(\"%s\\n\" % (prediction[240:250]))  \n",
    "  \n",
    "if isDisplayAvl():  \n",
    "    plot_images_labels_predict(X_test_image, y_test_label, prediction, idx=240)  \n",
    "print(\"\\t[Info] Error analysis:\")  \n"
   ]
  },
  {
   "cell_type": "code",
   "execution_count": 25,
   "metadata": {},
   "outputs": [
    {
     "name": "stdout",
     "output_type": "stream",
     "text": [
      "\tAt 8'th: 5 is with wrong prediction as 6!\n",
      "\tAt 247'th: 4 is with wrong prediction as 2!\n",
      "\tAt 321'th: 2 is with wrong prediction as 7!\n",
      "\tAt 340'th: 5 is with wrong prediction as 3!\n",
      "\tAt 381'th: 3 is with wrong prediction as 7!\n",
      "\tAt 445'th: 6 is with wrong prediction as 0!\n",
      "\tAt 495'th: 8 is with wrong prediction as 2!\n",
      "\tAt 582'th: 8 is with wrong prediction as 2!\n",
      "\tAt 619'th: 1 is with wrong prediction as 8!\n",
      "\tAt 684'th: 7 is with wrong prediction as 3!\n",
      "\tAt 691'th: 8 is with wrong prediction as 4!\n",
      "\tAt 707'th: 4 is with wrong prediction as 9!\n",
      "\tAt 720'th: 5 is with wrong prediction as 8!\n",
      "\tAt 740'th: 4 is with wrong prediction as 9!\n",
      "\tAt 951'th: 5 is with wrong prediction as 4!\n",
      "\tAt 956'th: 1 is with wrong prediction as 2!\n",
      "\tAt 965'th: 6 is with wrong prediction as 0!\n",
      "\tAt 1003'th: 5 is with wrong prediction as 3!\n",
      "\tAt 1014'th: 6 is with wrong prediction as 5!\n",
      "\tAt 1039'th: 7 is with wrong prediction as 2!\n",
      "\tAt 1112'th: 4 is with wrong prediction as 6!\n",
      "\tAt 1128'th: 3 is with wrong prediction as 7!\n",
      "\tAt 1194'th: 7 is with wrong prediction as 9!\n",
      "\tAt 1226'th: 7 is with wrong prediction as 2!\n",
      "\tAt 1232'th: 9 is with wrong prediction as 4!\n",
      "\tAt 1242'th: 4 is with wrong prediction as 9!\n",
      "\tAt 1247'th: 9 is with wrong prediction as 3!\n",
      "\tAt 1319'th: 8 is with wrong prediction as 3!\n",
      "\tAt 1325'th: 8 is with wrong prediction as 6!\n",
      "\tAt 1328'th: 7 is with wrong prediction as 9!\n",
      "\tAt 1378'th: 5 is with wrong prediction as 6!\n",
      "\tAt 1393'th: 5 is with wrong prediction as 3!\n",
      "\tAt 1395'th: 2 is with wrong prediction as 3!\n",
      "\tAt 1425'th: 8 is with wrong prediction as 4!\n",
      "\tAt 1464'th: 8 is with wrong prediction as 3!\n",
      "\tAt 1500'th: 7 is with wrong prediction as 1!\n",
      "\tAt 1522'th: 7 is with wrong prediction as 9!\n",
      "\tAt 1530'th: 8 is with wrong prediction as 7!\n",
      "\tAt 1549'th: 4 is with wrong prediction as 2!\n",
      "\tAt 1553'th: 9 is with wrong prediction as 3!\n",
      "\tAt 1609'th: 2 is with wrong prediction as 6!\n",
      "\tAt 1621'th: 0 is with wrong prediction as 6!\n",
      "\tAt 1681'th: 3 is with wrong prediction as 7!\n",
      "\tAt 1709'th: 9 is with wrong prediction as 3!\n",
      "\tAt 1717'th: 8 is with wrong prediction as 0!\n",
      "\tAt 1754'th: 7 is with wrong prediction as 2!\n",
      "\tAt 1773'th: 1 is with wrong prediction as 6!\n",
      "\tAt 1790'th: 2 is with wrong prediction as 7!\n",
      "\tAt 1800'th: 6 is with wrong prediction as 4!\n",
      "\tAt 1878'th: 8 is with wrong prediction as 3!\n",
      "\tAt 1901'th: 9 is with wrong prediction as 4!\n",
      "\tAt 1941'th: 7 is with wrong prediction as 2!\n",
      "\tAt 1984'th: 2 is with wrong prediction as 0!\n",
      "\tAt 1987'th: 0 is with wrong prediction as 9!\n",
      "\tAt 2004'th: 8 is with wrong prediction as 9!\n",
      "\tAt 2016'th: 7 is with wrong prediction as 2!\n",
      "\tAt 2035'th: 5 is with wrong prediction as 3!\n",
      "\tAt 2053'th: 4 is with wrong prediction as 9!\n",
      "\tAt 2098'th: 2 is with wrong prediction as 0!\n",
      "\tAt 2109'th: 3 is with wrong prediction as 7!\n",
      "\tAt 2118'th: 6 is with wrong prediction as 0!\n",
      "\tAt 2135'th: 6 is with wrong prediction as 1!\n",
      "\tAt 2174'th: 3 is with wrong prediction as 5!\n",
      "\tAt 2182'th: 1 is with wrong prediction as 2!\n",
      "\tAt 2224'th: 5 is with wrong prediction as 8!\n",
      "\tAt 2272'th: 8 is with wrong prediction as 0!\n",
      "\tAt 2369'th: 5 is with wrong prediction as 8!\n",
      "\tAt 2387'th: 9 is with wrong prediction as 1!\n",
      "\tAt 2406'th: 9 is with wrong prediction as 1!\n",
      "\tAt 2414'th: 9 is with wrong prediction as 4!\n",
      "\tAt 2488'th: 2 is with wrong prediction as 4!\n",
      "\tAt 2526'th: 5 is with wrong prediction as 3!\n",
      "\tAt 2597'th: 5 is with wrong prediction as 3!\n",
      "\tAt 2607'th: 7 is with wrong prediction as 1!\n",
      "\tAt 2635'th: 2 is with wrong prediction as 7!\n",
      "\tAt 2648'th: 9 is with wrong prediction as 0!\n",
      "\tAt 2654'th: 6 is with wrong prediction as 1!\n",
      "\tAt 2810'th: 5 is with wrong prediction as 3!\n",
      "\tAt 2896'th: 8 is with wrong prediction as 0!\n",
      "\tAt 2921'th: 3 is with wrong prediction as 2!\n",
      "\tAt 2930'th: 5 is with wrong prediction as 7!\n",
      "\tAt 2939'th: 9 is with wrong prediction as 7!\n",
      "\tAt 2953'th: 3 is with wrong prediction as 5!\n",
      "\tAt 3005'th: 9 is with wrong prediction as 1!\n",
      "\tAt 3060'th: 9 is with wrong prediction as 7!\n",
      "\tAt 3073'th: 1 is with wrong prediction as 2!\n",
      "\tAt 3117'th: 5 is with wrong prediction as 9!\n",
      "\tAt 3422'th: 6 is with wrong prediction as 0!\n",
      "\tAt 3503'th: 9 is with wrong prediction as 1!\n",
      "\tAt 3520'th: 6 is with wrong prediction as 4!\n",
      "\tAt 3558'th: 5 is with wrong prediction as 0!\n",
      "\tAt 3597'th: 9 is with wrong prediction as 3!\n",
      "\tAt 3751'th: 7 is with wrong prediction as 2!\n",
      "\tAt 3757'th: 8 is with wrong prediction as 3!\n",
      "\tAt 3780'th: 4 is with wrong prediction as 6!\n",
      "\tAt 3808'th: 7 is with wrong prediction as 8!\n",
      "\tAt 3811'th: 2 is with wrong prediction as 3!\n",
      "\tAt 3818'th: 0 is with wrong prediction as 4!\n",
      "\tAt 3838'th: 7 is with wrong prediction as 1!\n",
      "\tAt 3853'th: 6 is with wrong prediction as 2!\n",
      "\tAt 3869'th: 9 is with wrong prediction as 4!\n",
      "\tAt 3893'th: 5 is with wrong prediction as 6!\n",
      "\tAt 3902'th: 5 is with wrong prediction as 3!\n",
      "\tAt 3906'th: 1 is with wrong prediction as 2!\n",
      "\tAt 3941'th: 4 is with wrong prediction as 6!\n",
      "\tAt 3943'th: 3 is with wrong prediction as 5!\n",
      "\tAt 3985'th: 9 is with wrong prediction as 4!\n",
      "\tAt 4065'th: 0 is with wrong prediction as 2!\n",
      "\tAt 4075'th: 8 is with wrong prediction as 0!\n",
      "\tAt 4078'th: 9 is with wrong prediction as 3!\n",
      "\tAt 4093'th: 9 is with wrong prediction as 4!\n",
      "\tAt 4123'th: 8 is with wrong prediction as 3!\n",
      "\tAt 4140'th: 8 is with wrong prediction as 2!\n",
      "\tAt 4176'th: 2 is with wrong prediction as 7!\n",
      "\tAt 4199'th: 7 is with wrong prediction as 9!\n",
      "\tAt 4224'th: 9 is with wrong prediction as 7!\n",
      "\tAt 4248'th: 2 is with wrong prediction as 8!\n",
      "\tAt 4289'th: 2 is with wrong prediction as 7!\n",
      "\tAt 4294'th: 9 is with wrong prediction as 5!\n",
      "\tAt 4360'th: 5 is with wrong prediction as 3!\n",
      "\tAt 4369'th: 9 is with wrong prediction as 4!\n",
      "\tAt 4419'th: 8 is with wrong prediction as 4!\n",
      "\tAt 4425'th: 9 is with wrong prediction as 4!\n",
      "\tAt 4433'th: 7 is with wrong prediction as 3!\n",
      "\tAt 4497'th: 8 is with wrong prediction as 7!\n",
      "\tAt 4534'th: 9 is with wrong prediction as 8!\n",
      "\tAt 4536'th: 6 is with wrong prediction as 5!\n",
      "\tAt 4548'th: 5 is with wrong prediction as 6!\n",
      "\tAt 4601'th: 8 is with wrong prediction as 4!\n",
      "\tAt 4615'th: 2 is with wrong prediction as 4!\n",
      "\tAt 4731'th: 8 is with wrong prediction as 7!\n",
      "\tAt 4740'th: 3 is with wrong prediction as 5!\n",
      "\tAt 4761'th: 9 is with wrong prediction as 7!\n",
      "\tAt 4807'th: 8 is with wrong prediction as 3!\n",
      "\tAt 4814'th: 6 is with wrong prediction as 0!\n",
      "\tAt 4823'th: 9 is with wrong prediction as 4!\n",
      "\tAt 4880'th: 0 is with wrong prediction as 8!\n",
      "\tAt 4943'th: 2 is with wrong prediction as 8!\n",
      "\tAt 4956'th: 8 is with wrong prediction as 4!\n",
      "\tAt 4966'th: 7 is with wrong prediction as 8!\n",
      "\tAt 5331'th: 1 is with wrong prediction as 6!\n",
      "\tAt 5457'th: 1 is with wrong prediction as 8!\n",
      "\tAt 5600'th: 7 is with wrong prediction as 9!\n",
      "\tAt 5642'th: 1 is with wrong prediction as 5!\n",
      "\tAt 5676'th: 4 is with wrong prediction as 2!\n",
      "\tAt 5734'th: 3 is with wrong prediction as 7!\n",
      "\tAt 5749'th: 8 is with wrong prediction as 2!\n",
      "\tAt 5887'th: 7 is with wrong prediction as 0!\n",
      "\tAt 5936'th: 4 is with wrong prediction as 9!\n",
      "\tAt 5937'th: 5 is with wrong prediction as 3!\n",
      "\tAt 5955'th: 3 is with wrong prediction as 8!\n",
      "\tAt 5972'th: 5 is with wrong prediction as 3!\n",
      "\tAt 5973'th: 3 is with wrong prediction as 8!\n",
      "\tAt 5981'th: 5 is with wrong prediction as 9!\n",
      "\tAt 5997'th: 5 is with wrong prediction as 8!\n",
      "\tAt 6046'th: 3 is with wrong prediction as 8!\n",
      "\tAt 6059'th: 3 is with wrong prediction as 0!\n",
      "\tAt 6071'th: 9 is with wrong prediction as 3!\n",
      "\tAt 6166'th: 9 is with wrong prediction as 3!\n",
      "\tAt 6168'th: 9 is with wrong prediction as 3!\n",
      "\tAt 6421'th: 3 is with wrong prediction as 2!\n",
      "\tAt 6505'th: 9 is with wrong prediction as 0!\n",
      "\tAt 6555'th: 8 is with wrong prediction as 9!\n",
      "\tAt 6560'th: 9 is with wrong prediction as 3!\n",
      "\tAt 6571'th: 9 is with wrong prediction as 7!\n",
      "\tAt 6574'th: 2 is with wrong prediction as 6!\n",
      "\tAt 6576'th: 7 is with wrong prediction as 1!\n",
      "\tAt 6597'th: 0 is with wrong prediction as 7!\n",
      "\tAt 6651'th: 0 is with wrong prediction as 5!\n",
      "\tAt 6755'th: 8 is with wrong prediction as 3!\n",
      "\tAt 6783'th: 1 is with wrong prediction as 6!\n",
      "\tAt 6847'th: 6 is with wrong prediction as 4!\n",
      "\tAt 7216'th: 0 is with wrong prediction as 6!\n",
      "\tAt 7432'th: 7 is with wrong prediction as 3!\n",
      "\tAt 7434'th: 4 is with wrong prediction as 8!\n",
      "\tAt 7800'th: 3 is with wrong prediction as 2!\n",
      "\tAt 7821'th: 3 is with wrong prediction as 2!\n",
      "\tAt 7921'th: 8 is with wrong prediction as 6!\n",
      "\tAt 8020'th: 1 is with wrong prediction as 8!\n",
      "\tAt 8062'th: 5 is with wrong prediction as 8!\n",
      "\tAt 8094'th: 2 is with wrong prediction as 8!\n",
      "\tAt 8273'th: 0 is with wrong prediction as 9!\n",
      "\tAt 8311'th: 6 is with wrong prediction as 4!\n",
      "\tAt 8325'th: 0 is with wrong prediction as 6!\n",
      "\tAt 8408'th: 8 is with wrong prediction as 5!\n",
      "\tAt 8520'th: 4 is with wrong prediction as 9!\n",
      "\tAt 8522'th: 8 is with wrong prediction as 6!\n",
      "\tAt 9009'th: 7 is with wrong prediction as 2!\n",
      "\tAt 9015'th: 7 is with wrong prediction as 2!\n",
      "\tAt 9019'th: 7 is with wrong prediction as 2!\n",
      "\tAt 9024'th: 7 is with wrong prediction as 2!\n",
      "\tAt 9587'th: 9 is with wrong prediction as 4!\n",
      "\tAt 9634'th: 0 is with wrong prediction as 8!\n",
      "\tAt 9664'th: 2 is with wrong prediction as 7!\n",
      "\tAt 9679'th: 6 is with wrong prediction as 3!\n",
      "\tAt 9692'th: 9 is with wrong prediction as 7!\n",
      "\tAt 9698'th: 6 is with wrong prediction as 5!\n",
      "\tAt 9700'th: 2 is with wrong prediction as 8!\n",
      "\tAt 9729'th: 5 is with wrong prediction as 6!\n",
      "\tAt 9745'th: 4 is with wrong prediction as 2!\n",
      "\tAt 9749'th: 5 is with wrong prediction as 6!\n",
      "\tAt 9768'th: 2 is with wrong prediction as 0!\n",
      "\tAt 9770'th: 5 is with wrong prediction as 0!\n",
      "\tAt 9777'th: 5 is with wrong prediction as 0!\n",
      "\tAt 9792'th: 4 is with wrong prediction as 7!\n",
      "\tAt 9839'th: 2 is with wrong prediction as 3!\n",
      "\tAt 9904'th: 2 is with wrong prediction as 3!\n",
      "\tAt 9944'th: 3 is with wrong prediction as 8!\n",
      "\tAt 9982'th: 5 is with wrong prediction as 6!\n"
     ]
    }
   ],
   "source": [
    "for i in range(len(prediction)):  \n",
    "    if prediction[i] != y_test_label[i]:  \n",
    "        print(\"\\tAt %d'th: %d is with wrong prediction as %d!\" % (i, y_test_label[i], prediction[i]))  \n",
    "        "
   ]
  },
  {
   "cell_type": "markdown",
   "metadata": {},
   "source": [
    "上面可以發現有個預測結果為 2, 但實際 label 為 4. \n",
    "\n",
    "## 顯示混淆矩陣 (Confusion matrix) \n",
    " 如果我們想要進一步知道建立的模型中, 那些數字預測準確率最高, 那些數字最容易混淆, 此時可以使用混淆矩陣 (Confusion matrix). 在機器學習領域, 特別是統計分類的問題, 混淆矩陣 (也稱為 error matrix) 是一種特定的表格顯示方式, 可以讓我們以視覺化的方式, 了解 Supervisored Learning 的結果, 看出訓練出來的模型在各個類別的表現狀況. \n",
    "\n",
    "### STEP1. 使用 pandas crosstab 建立混淆矩陣 (Confusion matrix) "
   ]
  },
  {
   "cell_type": "code",
   "execution_count": 26,
   "metadata": {},
   "outputs": [
    {
     "name": "stdout",
     "output_type": "stream",
     "text": [
      "\t[Info] Display Confusion Matrix:\n",
      "predict    0     1     2    3    4    5    6     7    8    9\n",
      "label                                                       \n",
      "0        969     0     1    0    1    1    3     1    2    2\n",
      "1          0  1124     4    0    0    1    3     0    3    0\n",
      "2          3     0  1011    4    2    0    2     6    4    0\n",
      "3          1     0     4  992    0    4    0     5    4    0\n",
      "4          0     0     4    0  967    0    3     1    1    6\n",
      "5          3     0     0   11    1  862    7     1    5    2\n",
      "6          5     2     1    1    4    3  942     0    0    0\n",
      "7          1     4    10    3    0    0    0  1003    2    5\n",
      "8          4     0     4    7    5    1    3     3  945    2\n",
      "9          2     4     0    9   10    1    0     6    1  976\n",
      "\n"
     ]
    }
   ],
   "source": [
    "print(\"\\t[Info] Display Confusion Matrix:\")  \n",
    "import pandas as pd  \n",
    "print(\"%s\\n\" % pd.crosstab(y_test_label, prediction, rownames=['label'], colnames=['predict']))  "
   ]
  },
  {
   "cell_type": "code",
   "execution_count": 27,
   "metadata": {},
   "outputs": [
    {
     "data": {
      "image/png": "[encoded data removed]",
      "text/plain": [
       "<Figure size 720x720 with 1 Axes>"
      ]
     },
     "metadata": {
      "needs_background": "light"
     },
     "output_type": "display_data"
    }
   ],
   "source": [
    "from sklearn.metrics import confusion_matrix\n",
    "import seaborn as sns\n",
    "plt.figure(figsize = (10,10))\n",
    "mat = confusion_matrix(y_test_label, prediction)\n",
    "sns.set(font_scale=1.5)\n",
    "sns.heatmap(mat.T, square=True, annot=True, fmt='d', cbar=False)\n",
    "plt.xticks(fontsize=20)\n",
    "plt.yticks(fontsize=20)\n",
    "plt.xlabel('true label')\n",
    "plt.ylabel('predicted label');"
   ]
  },
  {
   "cell_type": "markdown",
   "metadata": {},
   "source": [
    "### STEP2. 建立真實與預測的 dataframe \n",
    "我們希望找出那些 label 結果為 \"5\" 的結果被預測成 \"3\" 的資料, 所以建立的下面的 dataframe: "
   ]
  },
  {
   "cell_type": "code",
   "execution_count": 28,
   "metadata": {},
   "outputs": [
    {
     "data": {
      "text/html": [
       "<div>\n",
       "<style scoped>\n",
       "    .dataframe tbody tr th:only-of-type {\n",
       "        vertical-align: middle;\n",
       "    }\n",
       "\n",
       "    .dataframe tbody tr th {\n",
       "        vertical-align: top;\n",
       "    }\n",
       "\n",
       "    .dataframe thead th {\n",
       "        text-align: right;\n",
       "    }\n",
       "</style>\n",
       "<table border=\"1\" class=\"dataframe\">\n",
       "  <thead>\n",
       "    <tr style=\"text-align: right;\">\n",
       "      <th></th>\n",
       "      <th>label</th>\n",
       "      <th>predict</th>\n",
       "    </tr>\n",
       "  </thead>\n",
       "  <tbody>\n",
       "    <tr>\n",
       "      <th>0</th>\n",
       "      <td>7</td>\n",
       "      <td>7</td>\n",
       "    </tr>\n",
       "    <tr>\n",
       "      <th>1</th>\n",
       "      <td>2</td>\n",
       "      <td>2</td>\n",
       "    </tr>\n",
       "  </tbody>\n",
       "</table>\n",
       "</div>"
      ],
      "text/plain": [
       "   label  predict\n",
       "0      7        7\n",
       "1      2        2"
      ]
     },
     "execution_count": 28,
     "metadata": {},
     "output_type": "execute_result"
    }
   ],
   "source": [
    ">>> df = pd.DataFrame({'label':y_test_label, 'predict':prediction})\n",
    ">>> df[:2] # 顯示前兩筆資料"
   ]
  },
  {
   "cell_type": "markdown",
   "metadata": {},
   "source": [
    "### STEP3. 查詢 label=5; prediction=3 的資料 \n",
    "Pandas Dataframe 可以讓你很方便的查詢資料: "
   ]
  },
  {
   "cell_type": "code",
   "execution_count": 29,
   "metadata": {},
   "outputs": [
    {
     "data": {
      "text/html": [
       "<div>\n",
       "<style scoped>\n",
       "    .dataframe tbody tr th:only-of-type {\n",
       "        vertical-align: middle;\n",
       "    }\n",
       "\n",
       "    .dataframe tbody tr th {\n",
       "        vertical-align: top;\n",
       "    }\n",
       "\n",
       "    .dataframe thead th {\n",
       "        text-align: right;\n",
       "    }\n",
       "</style>\n",
       "<table border=\"1\" class=\"dataframe\">\n",
       "  <thead>\n",
       "    <tr style=\"text-align: right;\">\n",
       "      <th></th>\n",
       "      <th>label</th>\n",
       "      <th>predict</th>\n",
       "    </tr>\n",
       "  </thead>\n",
       "  <tbody>\n",
       "    <tr>\n",
       "      <th>340</th>\n",
       "      <td>5</td>\n",
       "      <td>3</td>\n",
       "    </tr>\n",
       "    <tr>\n",
       "      <th>1003</th>\n",
       "      <td>5</td>\n",
       "      <td>3</td>\n",
       "    </tr>\n",
       "    <tr>\n",
       "      <th>1393</th>\n",
       "      <td>5</td>\n",
       "      <td>3</td>\n",
       "    </tr>\n",
       "    <tr>\n",
       "      <th>2035</th>\n",
       "      <td>5</td>\n",
       "      <td>3</td>\n",
       "    </tr>\n",
       "    <tr>\n",
       "      <th>2526</th>\n",
       "      <td>5</td>\n",
       "      <td>3</td>\n",
       "    </tr>\n",
       "    <tr>\n",
       "      <th>2597</th>\n",
       "      <td>5</td>\n",
       "      <td>3</td>\n",
       "    </tr>\n",
       "    <tr>\n",
       "      <th>2810</th>\n",
       "      <td>5</td>\n",
       "      <td>3</td>\n",
       "    </tr>\n",
       "    <tr>\n",
       "      <th>3902</th>\n",
       "      <td>5</td>\n",
       "      <td>3</td>\n",
       "    </tr>\n",
       "    <tr>\n",
       "      <th>4360</th>\n",
       "      <td>5</td>\n",
       "      <td>3</td>\n",
       "    </tr>\n",
       "    <tr>\n",
       "      <th>5937</th>\n",
       "      <td>5</td>\n",
       "      <td>3</td>\n",
       "    </tr>\n",
       "    <tr>\n",
       "      <th>5972</th>\n",
       "      <td>5</td>\n",
       "      <td>3</td>\n",
       "    </tr>\n",
       "  </tbody>\n",
       "</table>\n",
       "</div>"
      ],
      "text/plain": [
       "      label  predict\n",
       "340       5        3\n",
       "1003      5        3\n",
       "1393      5        3\n",
       "2035      5        3\n",
       "2526      5        3\n",
       "2597      5        3\n",
       "2810      5        3\n",
       "3902      5        3\n",
       "4360      5        3\n",
       "5937      5        3\n",
       "5972      5        3"
      ]
     },
     "execution_count": 29,
     "metadata": {},
     "output_type": "execute_result"
    }
   ],
   "source": [
    ">>> out = df[(df.label==5) & (df.predict==3)] # 查詢 label=5; predict=3 的 records\n",
    ">>> out.__class__ # 輸出是另一個 DataFrame\n",
    "\n",
    ">>> out"
   ]
  },
  {
   "cell_type": "markdown",
   "metadata": {},
   "source": [
    "### STEP4. 查看第 340 筆資料 "
   ]
  },
  {
   "cell_type": "code",
   "execution_count": 30,
   "metadata": {},
   "outputs": [
    {
     "data": {
      "image/png": "[encoded data removed]",
      "text/plain": [
       "<Figure size 864x1008 with 1 Axes>"
      ]
     },
     "metadata": {},
     "output_type": "display_data"
    }
   ],
   "source": [
    "plot_images_labels_predict(X_test_image, y_test_label, prediction, idx=340, num=1)"
   ]
  },
  {
   "cell_type": "markdown",
   "metadata": {},
   "source": [
    "## 儲存先前model"
   ]
  },
  {
   "cell_type": "code",
   "execution_count": 31,
   "metadata": {},
   "outputs": [],
   "source": [
    "model.save('my_model.h5') \n",
    "del model  # deletes the existing model"
   ]
  },
  {
   "cell_type": "markdown",
   "metadata": {},
   "source": [
    "## 讀取先前model"
   ]
  },
  {
   "cell_type": "code",
   "execution_count": 32,
   "metadata": {},
   "outputs": [],
   "source": [
    "from keras import models    \n",
    "from keras.models import load_model\n",
    "mymodel = load_model('my_model.h5')"
   ]
  },
  {
   "cell_type": "markdown",
   "metadata": {},
   "source": [
    "## 隱藏層增加為 1000 個神經元 \n",
    "為了增加準確率, 我們將 Hidden layers 的數目從 256 提升到 1000 個神經元: "
   ]
  },
  {
   "cell_type": "code",
   "execution_count": 33,
   "metadata": {},
   "outputs": [
    {
     "name": "stdout",
     "output_type": "stream",
     "text": [
      "\t[Info] Model summary:\n",
      "Model: \"sequential_2\"\n",
      "_________________________________________________________________\n",
      "Layer (type)                 Output Shape              Param #   \n",
      "=================================================================\n",
      "dense_3 (Dense)              (None, 1000)              785000    \n",
      "_________________________________________________________________\n",
      "dense_4 (Dense)              (None, 10)                10010     \n",
      "=================================================================\n",
      "Total params: 795,010\n",
      "Trainable params: 795,010\n",
      "Non-trainable params: 0\n",
      "_________________________________________________________________\n",
      "\n"
     ]
    }
   ],
   "source": [
    "from keras.models import Sequential  \n",
    "from keras.layers import Dense  \n",
    "  \n",
    "model = Sequential()  # Build Linear Model  \n",
    "  \n",
    "model.add(Dense(units=1000, input_dim=784, kernel_initializer='normal', activation='relu')) # Modify hidden layer from 256 -> 1000  \n",
    "model.add(Dense(units=10, kernel_initializer='normal', activation='softmax'))   \n",
    "print(\"\\t[Info] Model summary:\")  \n",
    "model.summary()  \n",
    "print(\"\")  "
   ]
  },
  {
   "cell_type": "code",
   "execution_count": 34,
   "metadata": {},
   "outputs": [
    {
     "name": "stdout",
     "output_type": "stream",
     "text": [
      "Train on 48000 samples, validate on 12000 samples\n",
      "Epoch 1/10\n",
      " - 1s - loss: 0.2875 - accuracy: 0.9172 - val_loss: 0.1502 - val_accuracy: 0.9588\n",
      "Epoch 2/10\n",
      " - 1s - loss: 0.1144 - accuracy: 0.9678 - val_loss: 0.1007 - val_accuracy: 0.9705\n",
      "Epoch 3/10\n",
      " - 1s - loss: 0.0728 - accuracy: 0.9793 - val_loss: 0.0947 - val_accuracy: 0.9716\n",
      "Epoch 4/10\n",
      " - 1s - loss: 0.0524 - accuracy: 0.9853 - val_loss: 0.0809 - val_accuracy: 0.9747\n",
      "Epoch 5/10\n",
      " - 1s - loss: 0.0362 - accuracy: 0.9897 - val_loss: 0.0766 - val_accuracy: 0.9777\n",
      "Epoch 6/10\n",
      " - 1s - loss: 0.0249 - accuracy: 0.9938 - val_loss: 0.0728 - val_accuracy: 0.9792\n",
      "Epoch 7/10\n",
      " - 1s - loss: 0.0181 - accuracy: 0.9958 - val_loss: 0.0721 - val_accuracy: 0.9777\n",
      "Epoch 8/10\n",
      " - 1s - loss: 0.0133 - accuracy: 0.9970 - val_loss: 0.0761 - val_accuracy: 0.9785\n",
      "Epoch 9/10\n",
      " - 1s - loss: 0.0093 - accuracy: 0.9984 - val_loss: 0.0715 - val_accuracy: 0.9797\n",
      "Epoch 10/10\n",
      " - 1s - loss: 0.0069 - accuracy: 0.9990 - val_loss: 0.0701 - val_accuracy: 0.9803\n"
     ]
    }
   ],
   "source": [
    "model.compile(loss='categorical_crossentropy', optimizer='adam', metrics=['accuracy']) \n",
    "train_history = model.fit(x=x_Train_norm, y=y_TrainOneHot, validation_split=0.2, epochs=10, batch_size=200, verbose=2)  "
   ]
  },
  {
   "cell_type": "code",
   "execution_count": 35,
   "metadata": {},
   "outputs": [],
   "source": [
    "import matplotlib.pyplot as plt  \n",
    "def show_train_history(train_history, train, validation):  \n",
    "    plt.plot(train_history.history[train])  \n",
    "    plt.plot(train_history.history[validation])  \n",
    "    plt.title('Train History')  \n",
    "    plt.ylabel(train)  \n",
    "    plt.xlabel('Epoch')  \n",
    "    plt.legend(['train', 'validation'], loc='upper left')  \n",
    "    plt.show()  "
   ]
  },
  {
   "cell_type": "code",
   "execution_count": 36,
   "metadata": {},
   "outputs": [
    {
     "name": "stdout",
     "output_type": "stream",
     "text": [
      "10000/10000 [==============================] - 0s 39us/step\n",
      "\n",
      "\t[Info] Accuracy of testing data = 98.2%\n"
     ]
    }
   ],
   "source": [
    "scores = model.evaluate(x_Test_norm, y_TestOneHot)  \n",
    "print()  \n",
    "print(\"\\t[Info] Accuracy of testing data = {:2.1f}%\".format(scores[1]*100.0)) "
   ]
  },
  {
   "cell_type": "markdown",
   "metadata": {},
   "source": [
    "從下面的 \"accuracy\" vs \"validation accuracy\" 的圖可以看出兩者差距拉大 (training accuracy > validation accuracy), 說明 Overfitting 問題變嚴重: "
   ]
  },
  {
   "cell_type": "code",
   "execution_count": 37,
   "metadata": {},
   "outputs": [
    {
     "data": {
      "image/png": "[encoded data removed]",
      "text/plain": [
       "<Figure size 432x288 with 1 Axes>"
      ]
     },
     "metadata": {},
     "output_type": "display_data"
    }
   ],
   "source": [
    "show_train_history(train_history, 'accuracy', 'val_accuracy')  "
   ]
  },
  {
   "cell_type": "markdown",
   "metadata": {},
   "source": [
    "### 多層感知器加入 DropOut 功能以避免 Overfitting \n",
    "為了解決 Overfitting 問題, 接下來會加入 Dropout 功能, 以避免 Overfitting, 關於 Dropout 的簡單說明如下: "
   ]
  },
  {
   "cell_type": "code",
   "execution_count": 38,
   "metadata": {},
   "outputs": [
    {
     "name": "stdout",
     "output_type": "stream",
     "text": [
      "\t[Info] Model summary:\n",
      "Model: \"sequential_3\"\n",
      "_________________________________________________________________\n",
      "Layer (type)                 Output Shape              Param #   \n",
      "=================================================================\n",
      "dense_5 (Dense)              (None, 1000)              785000    \n",
      "_________________________________________________________________\n",
      "dropout_1 (Dropout)          (None, 1000)              0         \n",
      "_________________________________________________________________\n",
      "dense_6 (Dense)              (None, 10)                10010     \n",
      "=================================================================\n",
      "Total params: 795,010\n",
      "Trainable params: 795,010\n",
      "Non-trainable params: 0\n",
      "_________________________________________________________________\n",
      "\n"
     ]
    }
   ],
   "source": [
    "from keras.models import Sequential  \n",
    "from keras.layers import Dense  \n",
    "from keras.layers import Dropout  # ***** Import DropOut mooule *****  \n",
    "  \n",
    "model = Sequential()    \n",
    "  \n",
    "model.add(Dense(units=1000, input_dim=784, kernel_initializer='normal', activation='relu'))   \n",
    "model.add(Dropout(0.5))  # ***** Add DropOut functionality *****  \n",
    "model.add(Dense(units=10, kernel_initializer='normal', activation='softmax'))   \n",
    "print(\"\\t[Info] Model summary:\")  \n",
    "model.summary()  \n",
    "print(\"\")  "
   ]
  },
  {
   "cell_type": "code",
   "execution_count": 39,
   "metadata": {},
   "outputs": [
    {
     "name": "stdout",
     "output_type": "stream",
     "text": [
      "Train on 48000 samples, validate on 12000 samples\n",
      "Epoch 1/10\n",
      " - 1s - loss: 0.3605 - accuracy: 0.8915 - val_loss: 0.1593 - val_accuracy: 0.9574\n",
      "Epoch 2/10\n",
      " - 1s - loss: 0.1598 - accuracy: 0.9531 - val_loss: 0.1187 - val_accuracy: 0.9654\n",
      "Epoch 3/10\n",
      " - 1s - loss: 0.1165 - accuracy: 0.9652 - val_loss: 0.0983 - val_accuracy: 0.9715\n",
      "Epoch 4/10\n",
      " - 1s - loss: 0.0925 - accuracy: 0.9722 - val_loss: 0.0857 - val_accuracy: 0.9733\n",
      "Epoch 5/10\n",
      " - 1s - loss: 0.0741 - accuracy: 0.9781 - val_loss: 0.0779 - val_accuracy: 0.9766\n",
      "Epoch 6/10\n",
      " - 1s - loss: 0.0656 - accuracy: 0.9798 - val_loss: 0.0752 - val_accuracy: 0.9781\n",
      "Epoch 7/10\n",
      " - 1s - loss: 0.0542 - accuracy: 0.9836 - val_loss: 0.0702 - val_accuracy: 0.9780\n",
      "Epoch 8/10\n",
      " - 1s - loss: 0.0466 - accuracy: 0.9858 - val_loss: 0.0712 - val_accuracy: 0.9779\n",
      "Epoch 9/10\n",
      " - 1s - loss: 0.0440 - accuracy: 0.9864 - val_loss: 0.0665 - val_accuracy: 0.9796\n",
      "Epoch 10/10\n",
      " - 1s - loss: 0.0377 - accuracy: 0.9881 - val_loss: 0.0641 - val_accuracy: 0.9819\n"
     ]
    }
   ],
   "source": [
    "model.compile(loss='categorical_crossentropy', optimizer='adam', metrics=['accuracy']) \n",
    "train_history = model.fit(x=x_Train_norm, y=y_TrainOneHot, validation_split=0.2, epochs=10, batch_size=200, verbose=2)  "
   ]
  },
  {
   "cell_type": "code",
   "execution_count": 40,
   "metadata": {},
   "outputs": [],
   "source": [
    "import matplotlib.pyplot as plt  \n",
    "def show_train_history(train_history, train, validation):  \n",
    "    plt.plot(train_history.history[train])  \n",
    "    plt.plot(train_history.history[validation])  \n",
    "    plt.title('Train History')  \n",
    "    plt.ylabel(train)  \n",
    "    plt.xlabel('Epoch')  \n",
    "    plt.legend(['train', 'validation'], loc='upper left')  \n",
    "    plt.show()  "
   ]
  },
  {
   "cell_type": "code",
   "execution_count": 41,
   "metadata": {},
   "outputs": [
    {
     "name": "stdout",
     "output_type": "stream",
     "text": [
      "10000/10000 [==============================] - 0s 38us/step\n",
      "\n",
      "\t[Info] Accuracy of testing data = 98.0%\n"
     ]
    }
   ],
   "source": [
    "scores = model.evaluate(x_Test_norm, y_TestOneHot)  \n",
    "print()  \n",
    "print(\"\\t[Info] Accuracy of testing data = {:2.1f}%\".format(scores[1]*100.0)) "
   ]
  },
  {
   "cell_type": "code",
   "execution_count": 42,
   "metadata": {},
   "outputs": [
    {
     "data": {
      "image/png": "[encoded data removed]",
      "text/plain": [
       "<Figure size 432x288 with 1 Axes>"
      ]
     },
     "metadata": {},
     "output_type": "display_data"
    }
   ],
   "source": [
    "show_train_history(train_history, 'accuracy', 'val_accuracy')  "
   ]
  },
  {
   "cell_type": "markdown",
   "metadata": {},
   "source": [
    "## 建立多層感知器模型 (包含兩個 Hidden Layers) \n",
    "為了進一步提升準確率, 我們打算提升多元感知器 Hidden layer 的層數. \n",
    "### STEP1. 變更模型使用兩個 Hidden Layers 並加入 DropOut 功能 "
   ]
  },
  {
   "cell_type": "code",
   "execution_count": 43,
   "metadata": {},
   "outputs": [
    {
     "name": "stdout",
     "output_type": "stream",
     "text": [
      "\t[Info] Model summary:\n",
      "Model: \"sequential_4\"\n",
      "_________________________________________________________________\n",
      "Layer (type)                 Output Shape              Param #   \n",
      "=================================================================\n",
      "dense_7 (Dense)              (None, 1000)              785000    \n",
      "_________________________________________________________________\n",
      "dropout_2 (Dropout)          (None, 1000)              0         \n",
      "_________________________________________________________________\n",
      "dense_8 (Dense)              (None, 1000)              1001000   \n",
      "_________________________________________________________________\n",
      "dropout_3 (Dropout)          (None, 1000)              0         \n",
      "_________________________________________________________________\n",
      "dense_9 (Dense)              (None, 10)                10010     \n",
      "=================================================================\n",
      "Total params: 1,796,010\n",
      "Trainable params: 1,796,010\n",
      "Non-trainable params: 0\n",
      "_________________________________________________________________\n",
      "\n"
     ]
    }
   ],
   "source": [
    "from keras.models import Sequential  \n",
    "from keras.layers import Dense  \n",
    "from keras.layers import Dropout  # Import DropOut mooule  \n",
    "  \n",
    "model = Sequential()  # Build Linear Model  \n",
    "  \n",
    "model.add(Dense(units=1000, input_dim=784, kernel_initializer='normal', activation='relu')) # Add Input/ first hidden layer  \n",
    "model.add(Dropout(0.5))  # Add DropOut functionality  \n",
    "model.add(Dense(units=1000, kernel_initializer='normal', activation='relu')) # Add second hidden layer  \n",
    "model.add(Dropout(0.5))  # Add DropOut functionality  \n",
    "model.add(Dense(units=10, kernel_initializer='normal', activation='softmax')) # Add Hidden/output layer  \n",
    "print(\"\\t[Info] Model summary:\")  \n",
    "model.summary()  \n",
    "print(\"\")  \n"
   ]
  },
  {
   "cell_type": "code",
   "execution_count": 44,
   "metadata": {},
   "outputs": [
    {
     "name": "stdout",
     "output_type": "stream",
     "text": [
      "Train on 48000 samples, validate on 12000 samples\n",
      "Epoch 1/10\n",
      " - 1s - loss: 0.3721 - accuracy: 0.8834 - val_loss: 0.1415 - val_accuracy: 0.9567\n",
      "Epoch 2/10\n",
      " - 1s - loss: 0.1604 - accuracy: 0.9498 - val_loss: 0.0996 - val_accuracy: 0.9718\n",
      "Epoch 3/10\n",
      " - 1s - loss: 0.1224 - accuracy: 0.9617 - val_loss: 0.0873 - val_accuracy: 0.9733\n",
      "Epoch 4/10\n",
      " - 1s - loss: 0.0982 - accuracy: 0.9694 - val_loss: 0.0760 - val_accuracy: 0.9770\n",
      "Epoch 5/10\n",
      " - 1s - loss: 0.0836 - accuracy: 0.9737 - val_loss: 0.0817 - val_accuracy: 0.9765\n",
      "Epoch 6/10\n",
      " - 1s - loss: 0.0730 - accuracy: 0.9773 - val_loss: 0.0834 - val_accuracy: 0.9762\n",
      "Epoch 7/10\n",
      " - 1s - loss: 0.0669 - accuracy: 0.9786 - val_loss: 0.0681 - val_accuracy: 0.9804\n",
      "Epoch 8/10\n",
      " - 1s - loss: 0.0617 - accuracy: 0.9803 - val_loss: 0.0781 - val_accuracy: 0.9783\n",
      "Epoch 9/10\n",
      " - 1s - loss: 0.0579 - accuracy: 0.9812 - val_loss: 0.0735 - val_accuracy: 0.9787\n",
      "Epoch 10/10\n",
      " - 1s - loss: 0.0518 - accuracy: 0.9831 - val_loss: 0.0753 - val_accuracy: 0.9786\n"
     ]
    }
   ],
   "source": [
    "model.compile(loss='categorical_crossentropy', optimizer='adam', metrics=['accuracy']) \n",
    "train_history = model.fit(x=x_Train_norm, y=y_TrainOneHot, validation_split=0.2, epochs=10, batch_size=200, verbose=2)  "
   ]
  },
  {
   "cell_type": "code",
   "execution_count": 45,
   "metadata": {},
   "outputs": [],
   "source": [
    "import matplotlib.pyplot as plt  \n",
    "def show_train_history(train_history, train, validation):  \n",
    "    plt.plot(train_history.history[train])  \n",
    "    plt.plot(train_history.history[validation])  \n",
    "    plt.title('Train History')  \n",
    "    plt.ylabel(train)  \n",
    "    plt.xlabel('Epoch')  \n",
    "    plt.legend(['train', 'validation'], loc='upper left')  \n",
    "    plt.show()  "
   ]
  },
  {
   "cell_type": "code",
   "execution_count": 46,
   "metadata": {},
   "outputs": [
    {
     "name": "stdout",
     "output_type": "stream",
     "text": [
      "10000/10000 [==============================] - 0s 40us/step\n",
      "\n",
      "\t[Info] Accuracy of testing data = 98.0%\n"
     ]
    }
   ],
   "source": [
    "scores = model.evaluate(x_Test_norm, y_TestOneHot)  \n",
    "print()  \n",
    "print(\"\\t[Info] Accuracy of testing data = {:2.1f}%\".format(scores[1]*100.0)) "
   ]
  },
  {
   "cell_type": "code",
   "execution_count": 47,
   "metadata": {},
   "outputs": [
    {
     "data": {
      "image/png": "[encoded data removed]",
      "text/plain": [
       "<Figure size 432x288 with 1 Axes>"
      ]
     },
     "metadata": {},
     "output_type": "display_data"
    }
   ],
   "source": [
    "show_train_history(train_history, 'accuracy', 'val_accuracy')  "
   ]
  },
  {
   "cell_type": "code",
   "execution_count": null,
   "metadata": {},
   "outputs": [],
   "source": []
  },
  {
   "cell_type": "code",
   "execution_count": null,
   "metadata": {},
   "outputs": [],
   "source": []
  },
  {
   "cell_type": "markdown",
   "metadata": {},
   "source": [
    "# loadtest"
   ]
  },
  {
   "cell_type": "code",
   "execution_count": 48,
   "metadata": {},
   "outputs": [
    {
     "name": "stdout",
     "output_type": "stream",
     "text": [
      "10000/10000 [==============================] - 0s 42us/step\n",
      "\n",
      "\t[Info] Accuracy of testing data = 97.9%\n"
     ]
    }
   ],
   "source": [
    "scores = mymodel.evaluate(x_Test_norm, y_TestOneHot)  \n",
    "print()  \n",
    "print(\"\\t[Info] Accuracy of testing data = {:2.1f}%\".format(scores[1]*100.0)) "
   ]
  }
 ],
 "metadata": {
  "colab": {
   "name": "Deep Learning Hello world.ipynb",
   "provenance": []
  },
  "kernelspec": {
   "display_name": "Python 3",
   "language": "python",
   "name": "python3"
  },
  "language_info": {
   "codemirror_mode": {
    "name": "ipython",
    "version": 3
   },
   "file_extension": ".py",
   "mimetype": "text/x-python",
   "name": "python",
   "nbconvert_exporter": "python",
   "pygments_lexer": "ipython3",
   "version": "3.6.8"
  }
 },
 "nbformat": 4,
 "nbformat_minor": 1
}
