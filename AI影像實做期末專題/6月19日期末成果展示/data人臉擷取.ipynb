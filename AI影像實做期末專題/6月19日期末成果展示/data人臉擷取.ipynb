{
 "cells": [
  {
   "cell_type": "code",
   "execution_count": 2,
   "metadata": {},
   "outputs": [],
   "source": [
    "import os\n",
    "import cv2\n",
    "import numpy as np\n",
    "import matplotlib.pyplot as plt\n",
    "from PIL import Image"
   ]
  },
  {
   "cell_type": "code",
   "execution_count": 5,
   "metadata": {},
   "outputs": [],
   "source": [
    "count=0\n"
   ]
  },
  {
   "cell_type": "code",
   "execution_count": 6,
   "metadata": {},
   "outputs": [
    {
     "data": {
      "text/plain": [
       "0"
      ]
     },
     "execution_count": 6,
     "metadata": {},
     "output_type": "execute_result"
    }
   ],
   "source": [
    "count"
   ]
  },
  {
   "cell_type": "code",
   "execution_count": 9,
   "metadata": {},
   "outputs": [],
   "source": [
    "# 載入分類器\n",
    "face_cascade = cv2.CascadeClassifier('../haarcascade_frontalface_default.xml')\n",
    "# 從視訊盡頭擷取影片\n",
    "cap = cv2.VideoCapture(0)\n",
    "# path = 'C:/Users/z1999/OneDrive/桌面/train/not me'\n",
    "while True:\n",
    "    ret, img = cap.read()\n",
    "    count+=1\n",
    "    cv2.waitKey(100)\n",
    "# 轉成灰階\n",
    "    gray = cv2.cvtColor(img, cv2.COLOR_BGR2GRAY)\n",
    "# 偵測臉部\n",
    "    faces = face_cascade.detectMultiScale(gray, 1.1, 4)\n",
    "# 繪製人臉部份的方框\n",
    "    ret, img = cap.read()\n",
    "    count+=1\n",
    "    for (x, y, w, h) in faces:\n",
    "        crop_img = img[y:y+h, x:x+w]\n",
    "        cv2.rectangle(img, (x-10, y-10), (x+w+10, y+h+10), (0, 255, 0), 2)\n",
    "#         cv2.imwrite(os.path.join(path,'not me'+str(count)+'.jpg' ), crop_img/)\n",
    "        cv2.imwrite('not me'+str(count)+'.jpg', crop_img)\n",
    "        \n",
    "\n",
    "# 顯示成果\n",
    "    cv2.namedWindow('img', cv2.WINDOW_NORMAL)  #正常視窗大小\n",
    "    cv2.imshow('img', img)                     #秀出圖片\n",
    "# Stop if escape key is pressed\n",
    "    k = cv2.waitKey(30) & 0xff\n",
    "    if k==27:\n",
    "        break\n",
    "        \n",
    "# Release the VideoCapture object\n",
    "cap.release()\n",
    "cv2.destroyAllWindows()"
   ]
  },
  {
   "cell_type": "code",
   "execution_count": null,
   "metadata": {},
   "outputs": [],
   "source": []
  },
  {
   "cell_type": "code",
   "execution_count": null,
   "metadata": {},
   "outputs": [],
   "source": []
  }
 ],
 "metadata": {
  "kernelspec": {
   "display_name": "Python 3",
   "language": "python",
   "name": "python3"
  },
  "language_info": {
   "codemirror_mode": {
    "name": "ipython",
    "version": 3
   },
   "file_extension": ".py",
   "mimetype": "text/x-python",
   "name": "python",
   "nbconvert_exporter": "python",
   "pygments_lexer": "ipython3",
   "version": "3.7.6"
  }
 },
 "nbformat": 4,
 "nbformat_minor": 4
}
